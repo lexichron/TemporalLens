{
 "cells": [
  {
   "cell_type": "code",
   "execution_count": 1,
   "id": "49817e79-e496-4663-8ac8-41f75760c06f",
   "metadata": {},
   "outputs": [],
   "source": [
    "import pandas as pd"
   ]
  },
  {
   "cell_type": "code",
   "execution_count": 4,
   "id": "85777a69-4795-4048-9dfb-8c23ca121e6d",
   "metadata": {},
   "outputs": [],
   "source": [
    "df = pd.read_csv(\"../data/data.csv\")\n",
    "dedup = df.drop_duplicates('Title')"
   ]
  },
  {
   "cell_type": "code",
   "execution_count": 5,
   "id": "ac5a37a7-6840-4829-bed2-31dbaef7f7ed",
   "metadata": {},
   "outputs": [],
   "source": [
    "dedup.to_csv(\"../data/dedup_data.csv\", index=False)"
   ]
  },
  {
   "cell_type": "code",
   "execution_count": null,
   "id": "307fa54a-3551-4e7c-8073-8f437e253687",
   "metadata": {},
   "outputs": [],
   "source": []
  }
 ],
 "metadata": {
  "kernelspec": {
   "display_name": "Python 3 (ipykernel)",
   "language": "python",
   "name": "python3"
  },
  "language_info": {
   "codemirror_mode": {
    "name": "ipython",
    "version": 3
   },
   "file_extension": ".py",
   "mimetype": "text/x-python",
   "name": "python",
   "nbconvert_exporter": "python",
   "pygments_lexer": "ipython3",
   "version": "3.10.12"
  }
 },
 "nbformat": 4,
 "nbformat_minor": 5
}
