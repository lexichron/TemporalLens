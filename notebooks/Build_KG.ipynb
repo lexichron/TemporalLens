{
 "cells": [
  {
   "cell_type": "code",
   "execution_count": 1,
   "id": "c1295c6b",
   "metadata": {
    "ExecuteTime": {
     "end_time": "2025-03-11T07:41:43.697489Z",
     "start_time": "2025-03-11T07:41:43.331774Z"
    }
   },
   "outputs": [],
   "source": [
    "import pandas as pd"
   ]
  },
  {
   "cell_type": "code",
   "execution_count": 2,
   "id": "b2edd8e1",
   "metadata": {
    "ExecuteTime": {
     "end_time": "2025-03-11T04:39:14.639825Z",
     "start_time": "2025-03-11T04:39:14.598799Z"
    }
   },
   "outputs": [],
   "source": [
    "df = pd.read_parquet('../data/ed_output.parquet')"
   ]
  },
  {
   "cell_type": "code",
   "execution_count": 3,
   "id": "3562f7ba",
   "metadata": {
    "ExecuteTime": {
     "end_time": "2025-03-11T04:39:15.969097Z",
     "start_time": "2025-03-11T04:39:15.946075Z"
    },
    "scrolled": true
   },
   "outputs": [
    {
     "data": {
      "text/html": [
       "<div>\n",
       "<style scoped>\n",
       "    .dataframe tbody tr th:only-of-type {\n",
       "        vertical-align: middle;\n",
       "    }\n",
       "\n",
       "    .dataframe tbody tr th {\n",
       "        vertical-align: top;\n",
       "    }\n",
       "\n",
       "    .dataframe thead th {\n",
       "        text-align: right;\n",
       "    }\n",
       "</style>\n",
       "<table border=\"1\" class=\"dataframe\">\n",
       "  <thead>\n",
       "    <tr style=\"text-align: right;\">\n",
       "      <th></th>\n",
       "      <th>Title</th>\n",
       "      <th>Source</th>\n",
       "      <th>Author</th>\n",
       "      <th>Published Date</th>\n",
       "      <th>URL</th>\n",
       "      <th>Country</th>\n",
       "      <th>Content</th>\n",
       "      <th>ed_results</th>\n",
       "    </tr>\n",
       "  </thead>\n",
       "  <tbody>\n",
       "    <tr>\n",
       "      <th>6458</th>\n",
       "      <td>China’s economic data breakdowns show signs of...</td>\n",
       "      <td>Channel NewsAsia</td>\n",
       "      <td>South China Morning Post</td>\n",
       "      <td>2023-09-15T02:27:48Z</td>\n",
       "      <td>https://www.channelnewsasia.com/asia/china-eco...</td>\n",
       "      <td>Singapore</td>\n",
       "      <td>Apart from a divergence among different income...</td>\n",
       "      <td>[{'events': [{'offset': array([207, 211]), 'tr...</td>\n",
       "    </tr>\n",
       "    <tr>\n",
       "      <th>3333</th>\n",
       "      <td>5 years’ jail for ‘key cog’ in cryptocurrency ...</td>\n",
       "      <td>Straits Times</td>\n",
       "      <td>Shaffiq Alkhatib</td>\n",
       "      <td>2024-08-06T07:30:00Z</td>\n",
       "      <td>https://www.straitstimes.com/singapore/courts-...</td>\n",
       "      <td>Singapore</td>\n",
       "      <td>SINGAPORE – He was the chief technological off...</td>\n",
       "      <td>[{'events': [{'offset': array([219, 226]), 'tr...</td>\n",
       "    </tr>\n",
       "    <tr>\n",
       "      <th>5729</th>\n",
       "      <td>Australia, India at risk of becoming dumping g...</td>\n",
       "      <td>Straits Times</td>\n",
       "      <td>None</td>\n",
       "      <td>2023-11-17T07:18:00Z</td>\n",
       "      <td>https://www.straitstimes.com/world/europe/aust...</td>\n",
       "      <td>Singapore</td>\n",
       "      <td>LONDON – Nations slow to adopt electric vehicl...</td>\n",
       "      <td>[{'events': [{'offset': array([111, 118]), 'tr...</td>\n",
       "    </tr>\n",
       "    <tr>\n",
       "      <th>5963</th>\n",
       "      <td>China's new home prices rise for second month ...</td>\n",
       "      <td>Straits Times</td>\n",
       "      <td>None</td>\n",
       "      <td>2023-11-01T04:45:00Z</td>\n",
       "      <td>https://www.straitstimes.com/business/chinas-n...</td>\n",
       "      <td>Singapore</td>\n",
       "      <td>BEIJING - China’s new home prices rose for a s...</td>\n",
       "      <td>[{'events': [{'offset': array([ 9, 14]), 'trig...</td>\n",
       "    </tr>\n",
       "    <tr>\n",
       "      <th>1731</th>\n",
       "      <td>China to retaliate if Trump boosts tariff, say...</td>\n",
       "      <td>Straits Times</td>\n",
       "      <td>None</td>\n",
       "      <td>2024-11-16T00:24:00Z</td>\n",
       "      <td>https://www.straitstimes.com/asia/east-asia/ch...</td>\n",
       "      <td>Singapore</td>\n",
       "      <td>BEIJING - China will fight back if US Presiden...</td>\n",
       "      <td>[{'events': [{'offset': array([176, 182]), 'tr...</td>\n",
       "    </tr>\n",
       "  </tbody>\n",
       "</table>\n",
       "</div>"
      ],
      "text/plain": [
       "                                                  Title            Source  \\\n",
       "6458  China’s economic data breakdowns show signs of...  Channel NewsAsia   \n",
       "3333  5 years’ jail for ‘key cog’ in cryptocurrency ...     Straits Times   \n",
       "5729  Australia, India at risk of becoming dumping g...     Straits Times   \n",
       "5963  China's new home prices rise for second month ...     Straits Times   \n",
       "1731  China to retaliate if Trump boosts tariff, say...     Straits Times   \n",
       "\n",
       "                        Author        Published Date  \\\n",
       "6458  South China Morning Post  2023-09-15T02:27:48Z   \n",
       "3333          Shaffiq Alkhatib  2024-08-06T07:30:00Z   \n",
       "5729                      None  2023-11-17T07:18:00Z   \n",
       "5963                      None  2023-11-01T04:45:00Z   \n",
       "1731                      None  2024-11-16T00:24:00Z   \n",
       "\n",
       "                                                    URL    Country  \\\n",
       "6458  https://www.channelnewsasia.com/asia/china-eco...  Singapore   \n",
       "3333  https://www.straitstimes.com/singapore/courts-...  Singapore   \n",
       "5729  https://www.straitstimes.com/world/europe/aust...  Singapore   \n",
       "5963  https://www.straitstimes.com/business/chinas-n...  Singapore   \n",
       "1731  https://www.straitstimes.com/asia/east-asia/ch...  Singapore   \n",
       "\n",
       "                                                Content  \\\n",
       "6458  Apart from a divergence among different income...   \n",
       "3333  SINGAPORE – He was the chief technological off...   \n",
       "5729  LONDON – Nations slow to adopt electric vehicl...   \n",
       "5963  BEIJING - China’s new home prices rose for a s...   \n",
       "1731  BEIJING - China will fight back if US Presiden...   \n",
       "\n",
       "                                             ed_results  \n",
       "6458  [{'events': [{'offset': array([207, 211]), 'tr...  \n",
       "3333  [{'events': [{'offset': array([219, 226]), 'tr...  \n",
       "5729  [{'events': [{'offset': array([111, 118]), 'tr...  \n",
       "5963  [{'events': [{'offset': array([ 9, 14]), 'trig...  \n",
       "1731  [{'events': [{'offset': array([176, 182]), 'tr...  "
      ]
     },
     "execution_count": 3,
     "metadata": {},
     "output_type": "execute_result"
    }
   ],
   "source": [
    "df.head()"
   ]
  },
  {
   "cell_type": "code",
   "execution_count": 4,
   "id": "a9e68e21",
   "metadata": {
    "ExecuteTime": {
     "end_time": "2025-03-11T04:39:24.115773Z",
     "start_time": "2025-03-11T04:39:24.113361Z"
    }
   },
   "outputs": [],
   "source": [
    "pd.set_option(\"max.colwidth\",0)"
   ]
  },
  {
   "cell_type": "code",
   "execution_count": 5,
   "id": "7590df6c",
   "metadata": {
    "ExecuteTime": {
     "end_time": "2025-03-11T04:39:24.720723Z",
     "start_time": "2025-03-11T04:39:24.717942Z"
    }
   },
   "outputs": [
    {
     "data": {
      "text/plain": [
       "Index(['Title', 'Source', 'Author', 'Published Date', 'URL', 'Country',\n",
       "       'Content', 'ed_results'],\n",
       "      dtype='object')"
      ]
     },
     "execution_count": 5,
     "metadata": {},
     "output_type": "execute_result"
    }
   ],
   "source": [
    "df.columns"
   ]
  },
  {
   "cell_type": "code",
   "execution_count": 15,
   "id": "3a397381",
   "metadata": {
    "ExecuteTime": {
     "end_time": "2025-03-11T04:42:11.541443Z",
     "start_time": "2025-03-11T04:42:11.538763Z"
    }
   },
   "outputs": [],
   "source": [
    "content_df = df[[\"Title\",\"Content\"]]"
   ]
  },
  {
   "cell_type": "markdown",
   "id": "ab266896",
   "metadata": {},
   "source": [
    "## Extract the multiple facts and events"
   ]
  },
  {
   "cell_type": "code",
   "execution_count": 25,
   "id": "8c7fa840",
   "metadata": {
    "ExecuteTime": {
     "end_time": "2025-03-11T05:20:08.757812Z",
     "start_time": "2025-03-11T05:20:08.730978Z"
    },
    "scrolled": true
   },
   "outputs": [],
   "source": [
    "from langchain import PromptTemplate, LLMChain\n",
    "from langchain.llms import OpenAI\n",
    "\n",
    "# Replace with your OpenAI API key\n",
    "import os\n",
    "\n",
    "os.environ[\"OPENAI_API_KEY\"] = OPENAI_API_KEY\n",
    "\n",
    "from langchain import PromptTemplate, LLMChain\n",
    "from langchain.chat_models import ChatOpenAI\n",
    "from langchain.schema import HumanMessage\n",
    "\n",
    "from langchain.prompts import PromptTemplate\n",
    "from langchain.chat_models import ChatOpenAI\n",
    "from langchain import LLMChain\n",
    "\n",
    "# Create a ChatOpenAI LLM instance (chat-based model)\n",
    "llm = ChatOpenAI(model=\"gpt-4\", temperature=0)\n",
    "\n",
    "# Define the prompt template for event extraction with relationships\n",
    "prompt_template = PromptTemplate(\n",
    "    input_variables=[\"title\", \"content\"],\n",
    "    template=(\n",
    "        \"Based on the following title and content, extract multiple independent events or facts in JSON format. \"\n",
    "        \"Ensure that all fields explicitly mention entities instead of using pronouns. \"\n",
    "        \"Include relationships between events using these predefined types:\\n\"\n",
    "        \"- `TRIGGERED`: Event A directly caused Event B.\\n\"\n",
    "        \"- `INFLUENCED`: Event A indirectly impacted Event B.\\n\"\n",
    "        \"- `CONSEQUENCE_OF`: Event A occurred as a direct consequence of Event B.\\n\"\n",
    "        \"- `RESPONSE_TO`: Event A was a reaction to Event B.\\n\"\n",
    "        \"- `ESCALATED_FROM`: Event A worsened an existing situation caused by Event B.\\n\"\n",
    "        \"- `RELATED_TO`: Event A is contextually related to Event B without direct causation.\\n\"\n",
    "        \"\\n\"\n",
    "        \"Use the following JSON structure:\\n\\n\"\n",
    "        \"[\\n\"\n",
    "        \"{{\\n\"\n",
    "        '  \"title\": \"{title}\",\\n'\n",
    "        '  \"event_id\": 1,\\n'\n",
    "        '  \"main_event\": \"[Describe the main event concisely]\",\\n'\n",
    "        '  \"who\": \"[Explicit mention of persons or organizations involved]\",\\n'\n",
    "        '  \"what\": \"[Specific action or incident that occurred]\",\\n'\n",
    "        '  \"where\": \"[Explicit location where the event happened]\",\\n'\n",
    "        '  \"when\": \"[Timeframe of the event]\",\\n'\n",
    "        '  \"cause\": \"[Explicitly describe what led to this event, avoiding pronouns and vague references]\",\\n'\n",
    "        '  \"consequences\": \"[Explicitly describe the outcomes or impact, avoiding pronouns and vague references]\",\\n'\n",
    "        '  \"event_dependencies\": [\\n'\n",
    "        '    {{\"event_id\": 2, \"relation\": \"TRIGGERED\"}}\\n'\n",
    "        '  ]\\n'\n",
    "        \"}},\\n\"\n",
    "        \"{{\\n\"\n",
    "        '  \"event_id\": 2,\\n'\n",
    "        '  \"main_event\": \"[Describe another independent event concisely]\",\\n'\n",
    "        '  \"who\": \"[Explicit mention of persons or organizations involved]\",\\n'\n",
    "        '  \"what\": \"[Specific action or incident that occurred]\",\\n'\n",
    "        '  \"where\": \"[Explicit location where the event happened]\",\\n'\n",
    "        '  \"when\": \"[Timeframe of the event]\",\\n'\n",
    "        '  \"cause\": \"[Explicitly describe what led to this event, avoiding pronouns and vague references]\",\\n'\n",
    "        '  \"consequences\": \"[Explicitly describe the outcomes or impact, avoiding pronouns and vague references]\",\\n'\n",
    "        '  \"event_dependencies\": [\\n'\n",
    "        '    {{\"event_id\": 3, \"relation\": \"INFLUENCED\"}}\\n'\n",
    "        '  ]\\n'\n",
    "        \"}},\\n\"\n",
    "        \"{{\\n\"\n",
    "        '  \"event_id\": 3,\\n'\n",
    "        '  \"main_event\": \"[Describe another independent event concisely]\",\\n'\n",
    "        '  \"who\": \"[Explicit mention of persons or organizations involved]\",\\n'\n",
    "        '  \"what\": \"[Specific action or incident that occurred]\",\\n'\n",
    "        '  \"where\": \"[Explicit location where the event happened]\",\\n'\n",
    "        '  \"when\": \"[Timeframe of the event]\",\\n'\n",
    "        '  \"cause\": \"[Explicitly describe what led to this event, avoiding pronouns and vague references]\",\\n'\n",
    "        '  \"consequences\": \"[Explicitly describe the outcomes or impact, avoiding pronouns and vague references]\",\\n'\n",
    "        '  \"event_dependencies\": []\\n'\n",
    "        \"}}\\n\"\n",
    "        \"... additional events if applicable ...\\n\"\n",
    "        \"]\\n\\n\"\n",
    "        \"Ignore less informative details and focus on extracting distinct, independent events only. \"\n",
    "        \"Ensure all extracted facts are suitable for knowledge graph representation.\\n\\n\"\n",
    "        \"Title:\\n{title}\\n\\nContent:\\n{content}\"\n",
    "    )\n",
    ")\n",
    "\n",
    "\n",
    "# Create a ChatOpenAI LLM instance (chat-based model)\n",
    "llm = ChatOpenAI(model=\"gpt-4\", temperature=0)\n"
   ]
  },
  {
   "cell_type": "code",
   "execution_count": 19,
   "id": "50389394",
   "metadata": {
    "ExecuteTime": {
     "end_time": "2025-03-11T05:18:00.346996Z",
     "start_time": "2025-03-11T05:18:00.344196Z"
    }
   },
   "outputs": [
    {
     "name": "stderr",
     "output_type": "stream",
     "text": [
      "/tmp/ipykernel_267719/2136582530.py:1: SettingWithCopyWarning: \n",
      "A value is trying to be set on a copy of a slice from a DataFrame.\n",
      "Try using .loc[row_indexer,col_indexer] = value instead\n",
      "\n",
      "See the caveats in the documentation: https://pandas.pydata.org/pandas-docs/stable/user_guide/indexing.html#returning-a-view-versus-a-copy\n",
      "  content_df[\"content_idx\"] = [f\"idx_{idx}\" for idx in range(0,len(content_df))]\n"
     ]
    }
   ],
   "source": [
    "content_df[\"content_idx\"] = [f\"idx_{idx}\" for idx in range(0,len(content_df))]"
   ]
  },
  {
   "cell_type": "code",
   "execution_count": 20,
   "id": "e83e5b65",
   "metadata": {
    "ExecuteTime": {
     "end_time": "2025-03-11T05:18:00.885498Z",
     "start_time": "2025-03-11T05:18:00.882928Z"
    }
   },
   "outputs": [],
   "source": [
    "content_df = content_df[[\"content_idx\",\"Title\",\"Content\"]]"
   ]
  },
  {
   "cell_type": "code",
   "execution_count": 23,
   "id": "3a63c6c5",
   "metadata": {
    "ExecuteTime": {
     "end_time": "2025-03-11T05:18:21.050714Z",
     "start_time": "2025-03-11T05:18:21.044490Z"
    }
   },
   "outputs": [
    {
     "name": "stdout",
     "output_type": "stream",
     "text": [
      "<class 'pandas.core.frame.DataFrame'>\n",
      "Int64Index: 50 entries, 6458 to 1199\n",
      "Data columns (total 3 columns):\n",
      " #   Column       Non-Null Count  Dtype \n",
      "---  ------       --------------  ----- \n",
      " 0   content_idx  50 non-null     object\n",
      " 1   Title        50 non-null     object\n",
      " 2   Content      50 non-null     object\n",
      "dtypes: object(3)\n",
      "memory usage: 1.6+ KB\n"
     ]
    }
   ],
   "source": [
    "content_df.info()"
   ]
  },
  {
   "cell_type": "code",
   "execution_count": 26,
   "id": "654df314",
   "metadata": {
    "ExecuteTime": {
     "end_time": "2025-03-11T05:36:41.713702Z",
     "start_time": "2025-03-11T05:20:30.557617Z"
    }
   },
   "outputs": [
    {
     "name": "stderr",
     "output_type": "stream",
     "text": [
      "/tmp/ipykernel_267719/406733826.py:8: LangChainDeprecationWarning: The class `LLMChain` was deprecated in LangChain 0.1.17 and will be removed in 1.0. Use :meth:`~RunnableSequence, e.g., `prompt | llm`` instead.\n",
      "  chain = LLMChain(llm=llm, prompt=prompt_template)\n",
      "/tmp/ipykernel_267719/406733826.py:9: LangChainDeprecationWarning: The method `Chain.run` was deprecated in langchain 0.1.0 and will be removed in 1.0. Use :meth:`~invoke` instead.\n",
      "  result = chain.run({\"title\": title, \"content\": content})\n"
     ]
    }
   ],
   "source": [
    "event_list = []\n",
    "\n",
    "for row in content_df.iterrows():\n",
    "    row = row[1]\n",
    "    title = row[\"Title\"]\n",
    "    content = row[\"Content\"]\n",
    "    formatted_prompt = prompt_template.format(title=title, content=content)\n",
    "    chain = LLMChain(llm=llm, prompt=prompt_template)\n",
    "    result = chain.run({\"title\": title, \"content\": content})\n",
    "    event_list.append(result)"
   ]
  },
  {
   "cell_type": "code",
   "execution_count": 27,
   "id": "0d26a400",
   "metadata": {
    "ExecuteTime": {
     "end_time": "2025-03-11T06:20:07.460821Z",
     "start_time": "2025-03-11T06:20:07.458165Z"
    }
   },
   "outputs": [
    {
     "data": {
      "text/plain": [
       "50"
      ]
     },
     "execution_count": 27,
     "metadata": {},
     "output_type": "execute_result"
    }
   ],
   "source": [
    "len(event_list)"
   ]
  },
  {
   "cell_type": "code",
   "execution_count": 31,
   "id": "35a29e31",
   "metadata": {
    "ExecuteTime": {
     "end_time": "2025-03-11T06:20:40.202076Z",
     "start_time": "2025-03-11T06:20:40.200041Z"
    }
   },
   "outputs": [],
   "source": [
    "import ast"
   ]
  },
  {
   "cell_type": "code",
   "execution_count": 61,
   "id": "0ea32c21",
   "metadata": {
    "ExecuteTime": {
     "end_time": "2025-03-11T07:36:20.348417Z",
     "start_time": "2025-03-11T07:36:20.340950Z"
    },
    "scrolled": true
   },
   "outputs": [],
   "source": [
    "event_lst = [ast.literal_eval(event) for event in event_list]"
   ]
  },
  {
   "cell_type": "code",
   "execution_count": 65,
   "id": "6cbcefb6",
   "metadata": {
    "ExecuteTime": {
     "end_time": "2025-03-11T07:38:10.870092Z",
     "start_time": "2025-03-11T07:38:10.865751Z"
    },
    "scrolled": true
   },
   "outputs": [
    {
     "data": {
      "text/plain": [
       "[[{'title': 'China’s economic data breakdowns show signs of life amid prevailing doom-and-gloom outlook',\n",
       "   'event_id': 1,\n",
       "   'main_event': \"China's consumption trend polarised among sectors\",\n",
       "   'who': 'China',\n",
       "   'what': 'Consumption trend polarised among sectors, with service consumption such as concerts, tourism and catering performing better than the sale of goods',\n",
       "   'where': 'China',\n",
       "   'when': 'This year',\n",
       "   'cause': 'Worsening income prospects suppressing the sale of goods',\n",
       "   'consequences': 'Service sectors like concerts, tourism and catering have seen better performance',\n",
       "   'event_dependencies': []},\n",
       "  {'event_id': 2,\n",
       "   'main_event': 'Record high booking value on Chinese travel platforms',\n",
       "   'who': 'Trip.com and Tongcheng Travel',\n",
       "   'what': 'Record high total booking value',\n",
       "   'where': 'China',\n",
       "   'when': 'July',\n",
       "   'cause': 'High demand during the summer holiday',\n",
       "   'consequences': 'Increased business for Chinese travel platforms Trip.com and Tongcheng Travel',\n",
       "   'event_dependencies': [{'event_id': 1, 'relation': 'INFLUENCED'}]},\n",
       "  {'event_id': 3,\n",
       "   'main_event': 'Subway passenger volume in major Chinese cities above pre-pandemic levels',\n",
       "   'who': 'Major Chinese cities',\n",
       "   'what': 'Subway passenger volume has been well above pre-pandemic levels',\n",
       "   'where': 'Major Chinese cities',\n",
       "   'when': 'Past few months',\n",
       "   'cause': 'Recovery from the pandemic and growing infrastructure construction',\n",
       "   'consequences': 'Increased subway ridership in major Chinese cities',\n",
       "   'event_dependencies': [{'event_id': 1, 'relation': 'INFLUENCED'}]},\n",
       "  {'event_id': 4,\n",
       "   'main_event': \"China's summer box office data reached a new historical high\",\n",
       "   'who': 'China',\n",
       "   'what': 'Summer box office data reached a new historical high',\n",
       "   'where': 'China',\n",
       "   'when': 'June to August',\n",
       "   'cause': 'Increased movie ticket prices and the movies on show',\n",
       "   'consequences': 'Increased revenue for the movie industry',\n",
       "   'event_dependencies': [{'event_id': 1, 'relation': 'INFLUENCED'}]},\n",
       "  {'event_id': 5,\n",
       "   'main_event': 'Surge in consumer spending in tourism and entertainment in China',\n",
       "   'who': 'Chinese consumers',\n",
       "   'what': 'Surge in consumer spending in tourism and entertainment',\n",
       "   'where': 'China',\n",
       "   'when': 'After COVID-19 lockdowns',\n",
       "   'cause': 'Pent-up need to get out and de-stress after COVID-19 lockdowns',\n",
       "   'consequences': 'Increased business for tourism and entertainment sectors',\n",
       "   'event_dependencies': [{'event_id': 1, 'relation': 'INFLUENCED'}]},\n",
       "  {'event_id': 6,\n",
       "   'main_event': \"China's economy regained some ground in July\",\n",
       "   'who': 'China',\n",
       "   'what': 'Economy regained some ground',\n",
       "   'where': 'China',\n",
       "   'when': 'July',\n",
       "   'cause': 'Tracking of China’s industrial output, construction activity, traffic volume, property and car sales and electricity consumption',\n",
       "   'consequences': \"Slight recovery of China's economy\",\n",
       "   'event_dependencies': [{'event_id': 1, 'relation': 'INFLUENCED'}]},\n",
       "  {'event_id': 7,\n",
       "   'main_event': 'Weak new home sales in major Chinese cities',\n",
       "   'who': 'Major Chinese cities',\n",
       "   'what': 'Weak new home sales',\n",
       "   'where': 'Major Chinese cities',\n",
       "   'when': 'Recent times',\n",
       "   'cause': 'Troubles in the property sector and lack of confidence among homebuyers and firms',\n",
       "   'consequences': 'Weak property sector in China',\n",
       "   'event_dependencies': [{'event_id': 1, 'relation': 'INFLUENCED'}]}]]"
      ]
     },
     "execution_count": 65,
     "metadata": {},
     "output_type": "execute_result"
    }
   ],
   "source": [
    "event_lst[:1]"
   ]
  },
  {
   "cell_type": "code",
   "execution_count": 66,
   "id": "faa8b9d7",
   "metadata": {
    "ExecuteTime": {
     "end_time": "2025-03-11T07:39:54.174314Z",
     "start_time": "2025-03-11T07:39:54.167635Z"
    }
   },
   "outputs": [
    {
     "name": "stdout",
     "output_type": "stream",
     "text": [
      "JSON file saved successfully!\n"
     ]
    }
   ],
   "source": [
    "# Save as JSON file\n",
    "with open(\"../data/events_data.json\", \"w\", encoding=\"utf-8\") as json_file:\n",
    "    json.dump(event_lst, json_file, indent=4, ensure_ascii=False)\n",
    "\n",
    "print(\"JSON file saved successfully!\")"
   ]
  },
  {
   "cell_type": "code",
   "execution_count": 67,
   "id": "7b37b555",
   "metadata": {
    "ExecuteTime": {
     "end_time": "2025-03-11T07:40:17.289490Z",
     "start_time": "2025-03-11T07:40:16.962718Z"
    }
   },
   "outputs": [],
   "source": [
    "data = pd.read_csv(\"../data/data.csv\")"
   ]
  },
  {
   "cell_type": "code",
   "execution_count": 69,
   "id": "dff18eeb",
   "metadata": {
    "ExecuteTime": {
     "end_time": "2025-03-11T07:40:34.567314Z",
     "start_time": "2025-03-11T07:40:34.556769Z"
    }
   },
   "outputs": [
    {
     "name": "stdout",
     "output_type": "stream",
     "text": [
      "<class 'pandas.core.frame.DataFrame'>\n",
      "RangeIndex: 7674 entries, 0 to 7673\n",
      "Data columns (total 7 columns):\n",
      " #   Column          Non-Null Count  Dtype \n",
      "---  ------          --------------  ----- \n",
      " 0   Title           7674 non-null   object\n",
      " 1   Source          7674 non-null   object\n",
      " 2   Author          1927 non-null   object\n",
      " 3   Published Date  7674 non-null   object\n",
      " 4   URL             7674 non-null   object\n",
      " 5   Country         7674 non-null   object\n",
      " 6   Content         7674 non-null   object\n",
      "dtypes: object(7)\n",
      "memory usage: 419.8+ KB\n"
     ]
    }
   ],
   "source": [
    "data.info()"
   ]
  },
  {
   "cell_type": "code",
   "execution_count": null,
   "id": "468484b0",
   "metadata": {},
   "outputs": [],
   "source": []
  },
  {
   "cell_type": "code",
   "execution_count": null,
   "id": "0688552c",
   "metadata": {},
   "outputs": [],
   "source": []
  },
  {
   "cell_type": "code",
   "execution_count": 55,
   "id": "d710d874",
   "metadata": {
    "ExecuteTime": {
     "end_time": "2025-03-11T07:29:49.633693Z",
     "start_time": "2025-03-11T07:29:49.629961Z"
    }
   },
   "outputs": [],
   "source": [
    "from itertools import count\n",
    "\n",
    "def assign_unique_event_ids(data):\n",
    "    # Flatten the list of lists\n",
    "    all_events = [event for sublist in data for event in sublist]\n",
    "    \n",
    "    # Create a unique event_id generator\n",
    "    unique_id_gen = count(1)  # Start event IDs from 1 and increment\n",
    "\n",
    "    # Map old event IDs to new unique event IDs\n",
    "    old_to_new_id = {}\n",
    "    for event in all_events:\n",
    "        old_to_new_id[event[\"event_id\"]] = next(unique_id_gen)\n",
    "\n",
    "    # Update event_id in events\n",
    "    for event in all_events:\n",
    "        event[\"event_id\"] = old_to_new_id[event.get(\"event_id\",None)]\n",
    "        \n",
    "        # Update dependencies to use new event IDs\n",
    "        if \"event_dependencies\" in event and event[\"event_dependencies\"]:\n",
    "            for dep in event[\"event_dependencies\"]:\n",
    "                dep[\"event_id\"] = old_to_new_id.get(dep.get(\"event_id\",\"\"), None)  # Replace with new ID\n",
    "\n",
    "    return all_events\n",
    "\n",
    "\n",
    "updated_events = assign_unique_event_ids(event_lst)\n"
   ]
  },
  {
   "cell_type": "code",
   "execution_count": 60,
   "id": "4e1f08c8",
   "metadata": {
    "ExecuteTime": {
     "end_time": "2025-03-11T07:35:57.980847Z",
     "start_time": "2025-03-11T07:35:57.974662Z"
    }
   },
   "outputs": [
    {
     "data": {
      "text/plain": [
       "[{'title': 'China’s economic data breakdowns show signs of life amid prevailing doom-and-gloom outlook',\n",
       "  'event_id': 197,\n",
       "  'main_event': \"China's consumption trend polarised among sectors\",\n",
       "  'who': 'China',\n",
       "  'what': 'Consumption trend polarised among sectors, with service consumption such as concerts, tourism and catering performing better than the sale of goods',\n",
       "  'where': 'China',\n",
       "  'when': 'This year',\n",
       "  'cause': 'Worsening income prospects suppressing the sale of goods',\n",
       "  'consequences': 'Service sectors like concerts, tourism and catering have seen better performance',\n",
       "  'event_dependencies': []},\n",
       " {'event_id': 198,\n",
       "  'main_event': 'Record high booking value on Chinese travel platforms',\n",
       "  'who': 'Trip.com and Tongcheng Travel',\n",
       "  'what': 'Record high total booking value',\n",
       "  'where': 'China',\n",
       "  'when': 'July',\n",
       "  'cause': 'High demand during the summer holiday',\n",
       "  'consequences': 'Increased business for Chinese travel platforms Trip.com and Tongcheng Travel',\n",
       "  'event_dependencies': [{'parent_event_id': 1,\n",
       "    'relation': 'INFLUENCED',\n",
       "    'parent_event_details': {'title': 'Singapore shares close flat amid mixed regional trading; STI dips 0.03%',\n",
       "     'event_id': 197,\n",
       "     'main_event': 'Singapore stocks slipped into slightly negative territory',\n",
       "     'who': 'Stock traders in Singapore',\n",
       "     'what': 'Trading of stocks resulting in a slight dip',\n",
       "     'where': 'Singapore',\n",
       "     'when': 'Dec 9',\n",
       "     'cause': 'Mixed regional trading',\n",
       "     'consequences': 'The Straits Times Index (STI) inched down by 1.24 points or 0.03 per cent to 3,794.92',\n",
       "     'event_dependencies': [{'parent_event_id': 2,\n",
       "       'relation': 'RELATED_TO',\n",
       "       'parent_event_details': {'event_id': 198,\n",
       "        'main_event': 'Hong Kong shares jumped, while bourses in mainland China were largely down',\n",
       "        'who': 'Stock traders in Hong Kong and mainland China',\n",
       "        'what': 'Trading of stocks resulting in a rise in Hong Kong and a fall in mainland China',\n",
       "        'where': 'Hong Kong and mainland China',\n",
       "        'when': 'Dec 9',\n",
       "        'cause': 'Government announcements of more fiscal spending next year following weak price data',\n",
       "        'consequences': 'The Hang Seng Index was up 2.8 per cent, while the Shenzhen Stock Exchange Composite Index was down 0.4 per cent',\n",
       "        'event_dependencies': [{'parent_event_id': 3,\n",
       "          'relation': 'TRIGGERED',\n",
       "          'parent_event_details': {'event_id': 199,\n",
       "           'main_event': 'China’s consumer price index slowed for the third consecutive month',\n",
       "           'who': 'China',\n",
       "           'what': 'Slowdown in the consumer price index',\n",
       "           'where': 'China',\n",
       "           'when': 'November',\n",
       "           'cause': 'Economic conditions in China',\n",
       "           'consequences': 'The Chinese central bank is expected to keep its easing bias',\n",
       "           'event_dependencies': []},\n",
       "          'event_id': None}]},\n",
       "       'event_id': None}]},\n",
       "    'event_id': None}]},\n",
       " {'event_id': 199,\n",
       "  'main_event': 'Subway passenger volume in major Chinese cities above pre-pandemic levels',\n",
       "  'who': 'Major Chinese cities',\n",
       "  'what': 'Subway passenger volume has been well above pre-pandemic levels',\n",
       "  'where': 'Major Chinese cities',\n",
       "  'when': 'Past few months',\n",
       "  'cause': 'Recovery from the pandemic and growing infrastructure construction',\n",
       "  'consequences': 'Increased subway ridership in major Chinese cities',\n",
       "  'event_dependencies': [{'parent_event_id': 1,\n",
       "    'relation': 'INFLUENCED',\n",
       "    'parent_event_details': {'title': 'Singapore shares close flat amid mixed regional trading; STI dips 0.03%',\n",
       "     'event_id': 197,\n",
       "     'main_event': 'Singapore stocks slipped into slightly negative territory',\n",
       "     'who': 'Stock traders in Singapore',\n",
       "     'what': 'Trading of stocks resulting in a slight dip',\n",
       "     'where': 'Singapore',\n",
       "     'when': 'Dec 9',\n",
       "     'cause': 'Mixed regional trading',\n",
       "     'consequences': 'The Straits Times Index (STI) inched down by 1.24 points or 0.03 per cent to 3,794.92',\n",
       "     'event_dependencies': [{'parent_event_id': 2,\n",
       "       'relation': 'RELATED_TO',\n",
       "       'parent_event_details': {'event_id': 198,\n",
       "        'main_event': 'Hong Kong shares jumped, while bourses in mainland China were largely down',\n",
       "        'who': 'Stock traders in Hong Kong and mainland China',\n",
       "        'what': 'Trading of stocks resulting in a rise in Hong Kong and a fall in mainland China',\n",
       "        'where': 'Hong Kong and mainland China',\n",
       "        'when': 'Dec 9',\n",
       "        'cause': 'Government announcements of more fiscal spending next year following weak price data',\n",
       "        'consequences': 'The Hang Seng Index was up 2.8 per cent, while the Shenzhen Stock Exchange Composite Index was down 0.4 per cent',\n",
       "        'event_dependencies': [{'parent_event_id': 3,\n",
       "          'relation': 'TRIGGERED',\n",
       "          'parent_event_details': {'event_id': 199,\n",
       "           'main_event': 'China’s consumer price index slowed for the third consecutive month',\n",
       "           'who': 'China',\n",
       "           'what': 'Slowdown in the consumer price index',\n",
       "           'where': 'China',\n",
       "           'when': 'November',\n",
       "           'cause': 'Economic conditions in China',\n",
       "           'consequences': 'The Chinese central bank is expected to keep its easing bias',\n",
       "           'event_dependencies': []},\n",
       "          'event_id': None}]},\n",
       "       'event_id': None}]},\n",
       "    'event_id': None}]},\n",
       " {'event_id': 196,\n",
       "  'main_event': \"China's summer box office data reached a new historical high\",\n",
       "  'who': 'China',\n",
       "  'what': 'Summer box office data reached a new historical high',\n",
       "  'where': 'China',\n",
       "  'when': 'June to August',\n",
       "  'cause': 'Increased movie ticket prices and the movies on show',\n",
       "  'consequences': 'Increased revenue for the movie industry',\n",
       "  'event_dependencies': [{'parent_event_id': 1,\n",
       "    'relation': 'INFLUENCED',\n",
       "    'parent_event_details': {'title': 'Singapore shares close flat amid mixed regional trading; STI dips 0.03%',\n",
       "     'event_id': 197,\n",
       "     'main_event': 'Singapore stocks slipped into slightly negative territory',\n",
       "     'who': 'Stock traders in Singapore',\n",
       "     'what': 'Trading of stocks resulting in a slight dip',\n",
       "     'where': 'Singapore',\n",
       "     'when': 'Dec 9',\n",
       "     'cause': 'Mixed regional trading',\n",
       "     'consequences': 'The Straits Times Index (STI) inched down by 1.24 points or 0.03 per cent to 3,794.92',\n",
       "     'event_dependencies': [{'parent_event_id': 2,\n",
       "       'relation': 'RELATED_TO',\n",
       "       'parent_event_details': {'event_id': 198,\n",
       "        'main_event': 'Hong Kong shares jumped, while bourses in mainland China were largely down',\n",
       "        'who': 'Stock traders in Hong Kong and mainland China',\n",
       "        'what': 'Trading of stocks resulting in a rise in Hong Kong and a fall in mainland China',\n",
       "        'where': 'Hong Kong and mainland China',\n",
       "        'when': 'Dec 9',\n",
       "        'cause': 'Government announcements of more fiscal spending next year following weak price data',\n",
       "        'consequences': 'The Hang Seng Index was up 2.8 per cent, while the Shenzhen Stock Exchange Composite Index was down 0.4 per cent',\n",
       "        'event_dependencies': [{'parent_event_id': 3,\n",
       "          'relation': 'TRIGGERED',\n",
       "          'parent_event_details': {'event_id': 199,\n",
       "           'main_event': 'China’s consumer price index slowed for the third consecutive month',\n",
       "           'who': 'China',\n",
       "           'what': 'Slowdown in the consumer price index',\n",
       "           'where': 'China',\n",
       "           'when': 'November',\n",
       "           'cause': 'Economic conditions in China',\n",
       "           'consequences': 'The Chinese central bank is expected to keep its easing bias',\n",
       "           'event_dependencies': []},\n",
       "          'event_id': None}]},\n",
       "       'event_id': None}]},\n",
       "    'event_id': None}]},\n",
       " {'event_id': 186,\n",
       "  'main_event': 'Surge in consumer spending in tourism and entertainment in China',\n",
       "  'who': 'Chinese consumers',\n",
       "  'what': 'Surge in consumer spending in tourism and entertainment',\n",
       "  'where': 'China',\n",
       "  'when': 'After COVID-19 lockdowns',\n",
       "  'cause': 'Pent-up need to get out and de-stress after COVID-19 lockdowns',\n",
       "  'consequences': 'Increased business for tourism and entertainment sectors',\n",
       "  'event_dependencies': [{'parent_event_id': 1,\n",
       "    'relation': 'INFLUENCED',\n",
       "    'parent_event_details': {'title': 'Singapore shares close flat amid mixed regional trading; STI dips 0.03%',\n",
       "     'event_id': 197,\n",
       "     'main_event': 'Singapore stocks slipped into slightly negative territory',\n",
       "     'who': 'Stock traders in Singapore',\n",
       "     'what': 'Trading of stocks resulting in a slight dip',\n",
       "     'where': 'Singapore',\n",
       "     'when': 'Dec 9',\n",
       "     'cause': 'Mixed regional trading',\n",
       "     'consequences': 'The Straits Times Index (STI) inched down by 1.24 points or 0.03 per cent to 3,794.92',\n",
       "     'event_dependencies': [{'parent_event_id': 2,\n",
       "       'relation': 'RELATED_TO',\n",
       "       'parent_event_details': {'event_id': 198,\n",
       "        'main_event': 'Hong Kong shares jumped, while bourses in mainland China were largely down',\n",
       "        'who': 'Stock traders in Hong Kong and mainland China',\n",
       "        'what': 'Trading of stocks resulting in a rise in Hong Kong and a fall in mainland China',\n",
       "        'where': 'Hong Kong and mainland China',\n",
       "        'when': 'Dec 9',\n",
       "        'cause': 'Government announcements of more fiscal spending next year following weak price data',\n",
       "        'consequences': 'The Hang Seng Index was up 2.8 per cent, while the Shenzhen Stock Exchange Composite Index was down 0.4 per cent',\n",
       "        'event_dependencies': [{'parent_event_id': 3,\n",
       "          'relation': 'TRIGGERED',\n",
       "          'parent_event_details': {'event_id': 199,\n",
       "           'main_event': 'China’s consumer price index slowed for the third consecutive month',\n",
       "           'who': 'China',\n",
       "           'what': 'Slowdown in the consumer price index',\n",
       "           'where': 'China',\n",
       "           'when': 'November',\n",
       "           'cause': 'Economic conditions in China',\n",
       "           'consequences': 'The Chinese central bank is expected to keep its easing bias',\n",
       "           'event_dependencies': []},\n",
       "          'event_id': None}]},\n",
       "       'event_id': None}]},\n",
       "    'event_id': None}]},\n",
       " {'event_id': 105,\n",
       "  'main_event': \"China's economy regained some ground in July\",\n",
       "  'who': 'China',\n",
       "  'what': 'Economy regained some ground',\n",
       "  'where': 'China',\n",
       "  'when': 'July',\n",
       "  'cause': 'Tracking of China’s industrial output, construction activity, traffic volume, property and car sales and electricity consumption',\n",
       "  'consequences': \"Slight recovery of China's economy\",\n",
       "  'event_dependencies': [{'parent_event_id': 1,\n",
       "    'relation': 'INFLUENCED',\n",
       "    'parent_event_details': {'title': 'Singapore shares close flat amid mixed regional trading; STI dips 0.03%',\n",
       "     'event_id': 197,\n",
       "     'main_event': 'Singapore stocks slipped into slightly negative territory',\n",
       "     'who': 'Stock traders in Singapore',\n",
       "     'what': 'Trading of stocks resulting in a slight dip',\n",
       "     'where': 'Singapore',\n",
       "     'when': 'Dec 9',\n",
       "     'cause': 'Mixed regional trading',\n",
       "     'consequences': 'The Straits Times Index (STI) inched down by 1.24 points or 0.03 per cent to 3,794.92',\n",
       "     'event_dependencies': [{'parent_event_id': 2,\n",
       "       'relation': 'RELATED_TO',\n",
       "       'parent_event_details': {'event_id': 198,\n",
       "        'main_event': 'Hong Kong shares jumped, while bourses in mainland China were largely down',\n",
       "        'who': 'Stock traders in Hong Kong and mainland China',\n",
       "        'what': 'Trading of stocks resulting in a rise in Hong Kong and a fall in mainland China',\n",
       "        'where': 'Hong Kong and mainland China',\n",
       "        'when': 'Dec 9',\n",
       "        'cause': 'Government announcements of more fiscal spending next year following weak price data',\n",
       "        'consequences': 'The Hang Seng Index was up 2.8 per cent, while the Shenzhen Stock Exchange Composite Index was down 0.4 per cent',\n",
       "        'event_dependencies': [{'parent_event_id': 3,\n",
       "          'relation': 'TRIGGERED',\n",
       "          'parent_event_details': {'event_id': 199,\n",
       "           'main_event': 'China’s consumer price index slowed for the third consecutive month',\n",
       "           'who': 'China',\n",
       "           'what': 'Slowdown in the consumer price index',\n",
       "           'where': 'China',\n",
       "           'when': 'November',\n",
       "           'cause': 'Economic conditions in China',\n",
       "           'consequences': 'The Chinese central bank is expected to keep its easing bias',\n",
       "           'event_dependencies': []},\n",
       "          'event_id': None}]},\n",
       "       'event_id': None}]},\n",
       "    'event_id': None}]},\n",
       " {'event_id': 91,\n",
       "  'main_event': 'Weak new home sales in major Chinese cities',\n",
       "  'who': 'Major Chinese cities',\n",
       "  'what': 'Weak new home sales',\n",
       "  'where': 'Major Chinese cities',\n",
       "  'when': 'Recent times',\n",
       "  'cause': 'Troubles in the property sector and lack of confidence among homebuyers and firms',\n",
       "  'consequences': 'Weak property sector in China',\n",
       "  'event_dependencies': [{'parent_event_id': 1,\n",
       "    'relation': 'INFLUENCED',\n",
       "    'parent_event_details': {'title': 'Singapore shares close flat amid mixed regional trading; STI dips 0.03%',\n",
       "     'event_id': 197,\n",
       "     'main_event': 'Singapore stocks slipped into slightly negative territory',\n",
       "     'who': 'Stock traders in Singapore',\n",
       "     'what': 'Trading of stocks resulting in a slight dip',\n",
       "     'where': 'Singapore',\n",
       "     'when': 'Dec 9',\n",
       "     'cause': 'Mixed regional trading',\n",
       "     'consequences': 'The Straits Times Index (STI) inched down by 1.24 points or 0.03 per cent to 3,794.92',\n",
       "     'event_dependencies': [{'parent_event_id': 2,\n",
       "       'relation': 'RELATED_TO',\n",
       "       'parent_event_details': {'event_id': 198,\n",
       "        'main_event': 'Hong Kong shares jumped, while bourses in mainland China were largely down',\n",
       "        'who': 'Stock traders in Hong Kong and mainland China',\n",
       "        'what': 'Trading of stocks resulting in a rise in Hong Kong and a fall in mainland China',\n",
       "        'where': 'Hong Kong and mainland China',\n",
       "        'when': 'Dec 9',\n",
       "        'cause': 'Government announcements of more fiscal spending next year following weak price data',\n",
       "        'consequences': 'The Hang Seng Index was up 2.8 per cent, while the Shenzhen Stock Exchange Composite Index was down 0.4 per cent',\n",
       "        'event_dependencies': [{'parent_event_id': 3,\n",
       "          'relation': 'TRIGGERED',\n",
       "          'parent_event_details': {'event_id': 199,\n",
       "           'main_event': 'China’s consumer price index slowed for the third consecutive month',\n",
       "           'who': 'China',\n",
       "           'what': 'Slowdown in the consumer price index',\n",
       "           'where': 'China',\n",
       "           'when': 'November',\n",
       "           'cause': 'Economic conditions in China',\n",
       "           'consequences': 'The Chinese central bank is expected to keep its easing bias',\n",
       "           'event_dependencies': []},\n",
       "          'event_id': None}]},\n",
       "       'event_id': None}]},\n",
       "    'event_id': None}]}]"
      ]
     },
     "execution_count": 60,
     "metadata": {},
     "output_type": "execute_result"
    }
   ],
   "source": [
    "event_lst[0]"
   ]
  },
  {
   "cell_type": "code",
   "execution_count": 58,
   "id": "f30fa0fa",
   "metadata": {
    "ExecuteTime": {
     "end_time": "2025-03-11T07:30:22.913986Z",
     "start_time": "2025-03-11T07:30:22.910812Z"
    }
   },
   "outputs": [
    {
     "data": {
      "text/plain": [
       "{'title': 'China’s economic data breakdowns show signs of life amid prevailing doom-and-gloom outlook',\n",
       " 'event_id': 197,\n",
       " 'main_event': \"China's consumption trend polarised among sectors\",\n",
       " 'who': 'China',\n",
       " 'what': 'Consumption trend polarised among sectors, with service consumption such as concerts, tourism and catering performing better than the sale of goods',\n",
       " 'where': 'China',\n",
       " 'when': 'This year',\n",
       " 'cause': 'Worsening income prospects suppressing the sale of goods',\n",
       " 'consequences': 'Service sectors like concerts, tourism and catering have seen better performance',\n",
       " 'event_dependencies': []}"
      ]
     },
     "execution_count": 58,
     "metadata": {},
     "output_type": "execute_result"
    }
   ],
   "source": [
    "updated_events[0]"
   ]
  },
  {
   "cell_type": "code",
   "execution_count": 59,
   "id": "dcf8caec",
   "metadata": {
    "ExecuteTime": {
     "end_time": "2025-03-11T07:30:26.717246Z",
     "start_time": "2025-03-11T07:30:26.713656Z"
    }
   },
   "outputs": [
    {
     "data": {
      "text/plain": [
       "{'event_id': 198,\n",
       " 'main_event': 'Record high booking value on Chinese travel platforms',\n",
       " 'who': 'Trip.com and Tongcheng Travel',\n",
       " 'what': 'Record high total booking value',\n",
       " 'where': 'China',\n",
       " 'when': 'July',\n",
       " 'cause': 'High demand during the summer holiday',\n",
       " 'consequences': 'Increased business for Chinese travel platforms Trip.com and Tongcheng Travel',\n",
       " 'event_dependencies': [{'parent_event_id': 1,\n",
       "   'relation': 'INFLUENCED',\n",
       "   'parent_event_details': {'title': 'Singapore shares close flat amid mixed regional trading; STI dips 0.03%',\n",
       "    'event_id': 197,\n",
       "    'main_event': 'Singapore stocks slipped into slightly negative territory',\n",
       "    'who': 'Stock traders in Singapore',\n",
       "    'what': 'Trading of stocks resulting in a slight dip',\n",
       "    'where': 'Singapore',\n",
       "    'when': 'Dec 9',\n",
       "    'cause': 'Mixed regional trading',\n",
       "    'consequences': 'The Straits Times Index (STI) inched down by 1.24 points or 0.03 per cent to 3,794.92',\n",
       "    'event_dependencies': [{'parent_event_id': 2,\n",
       "      'relation': 'RELATED_TO',\n",
       "      'parent_event_details': {'event_id': 198,\n",
       "       'main_event': 'Hong Kong shares jumped, while bourses in mainland China were largely down',\n",
       "       'who': 'Stock traders in Hong Kong and mainland China',\n",
       "       'what': 'Trading of stocks resulting in a rise in Hong Kong and a fall in mainland China',\n",
       "       'where': 'Hong Kong and mainland China',\n",
       "       'when': 'Dec 9',\n",
       "       'cause': 'Government announcements of more fiscal spending next year following weak price data',\n",
       "       'consequences': 'The Hang Seng Index was up 2.8 per cent, while the Shenzhen Stock Exchange Composite Index was down 0.4 per cent',\n",
       "       'event_dependencies': [{'parent_event_id': 3,\n",
       "         'relation': 'TRIGGERED',\n",
       "         'parent_event_details': {'event_id': 199,\n",
       "          'main_event': 'China’s consumer price index slowed for the third consecutive month',\n",
       "          'who': 'China',\n",
       "          'what': 'Slowdown in the consumer price index',\n",
       "          'where': 'China',\n",
       "          'when': 'November',\n",
       "          'cause': 'Economic conditions in China',\n",
       "          'consequences': 'The Chinese central bank is expected to keep its easing bias',\n",
       "          'event_dependencies': []},\n",
       "         'event_id': None}]},\n",
       "      'event_id': None}]},\n",
       "   'event_id': None}]}"
      ]
     },
     "execution_count": 59,
     "metadata": {},
     "output_type": "execute_result"
    }
   ],
   "source": [
    "updated_events[1]"
   ]
  },
  {
   "cell_type": "code",
   "execution_count": null,
   "id": "5944f572",
   "metadata": {},
   "outputs": [],
   "source": []
  },
  {
   "cell_type": "code",
   "execution_count": null,
   "id": "f60676c0",
   "metadata": {},
   "outputs": [],
   "source": []
  },
  {
   "cell_type": "code",
   "execution_count": 47,
   "id": "8f5112b7",
   "metadata": {
    "ExecuteTime": {
     "end_time": "2025-03-11T07:08:01.388682Z",
     "start_time": "2025-03-11T07:08:01.363510Z"
    }
   },
   "outputs": [
    {
     "ename": "KeyError",
     "evalue": "'event_id'",
     "output_type": "error",
     "traceback": [
      "\u001b[0;31m---------------------------------------------------------------------------\u001b[0m",
      "\u001b[0;31mKeyError\u001b[0m                                  Traceback (most recent call last)",
      "Cell \u001b[0;32mIn[47], line 24\u001b[0m\n\u001b[1;32m     20\u001b[0m             event[\u001b[38;5;124m\"\u001b[39m\u001b[38;5;124mevent_dependencies\u001b[39m\u001b[38;5;124m\"\u001b[39m] \u001b[38;5;241m=\u001b[39m mapped_dependencies\n\u001b[1;32m     22\u001b[0m     \u001b[38;5;28;01mreturn\u001b[39;00m all_events\n\u001b[0;32m---> 24\u001b[0m mapped_events \u001b[38;5;241m=\u001b[39m \u001b[43mmap_event_dependencies\u001b[49m\u001b[43m(\u001b[49m\u001b[43mevent_lst\u001b[49m\u001b[43m)\u001b[49m\n\u001b[1;32m     25\u001b[0m \u001b[38;5;28;01mfor\u001b[39;00m event \u001b[38;5;129;01min\u001b[39;00m mapped_events:\n\u001b[1;32m     26\u001b[0m     \u001b[38;5;28mprint\u001b[39m(event)\n",
      "Cell \u001b[0;32mIn[47], line 13\u001b[0m, in \u001b[0;36mmap_event_dependencies\u001b[0;34m(data)\u001b[0m\n\u001b[1;32m     11\u001b[0m \u001b[38;5;28;01mfor\u001b[39;00m event \u001b[38;5;129;01min\u001b[39;00m all_events:\n\u001b[1;32m     12\u001b[0m     \u001b[38;5;28;01mif\u001b[39;00m \u001b[38;5;124m\"\u001b[39m\u001b[38;5;124mevent_dependencies\u001b[39m\u001b[38;5;124m\"\u001b[39m \u001b[38;5;129;01min\u001b[39;00m event \u001b[38;5;129;01mand\u001b[39;00m event[\u001b[38;5;124m\"\u001b[39m\u001b[38;5;124mevent_dependencies\u001b[39m\u001b[38;5;124m\"\u001b[39m]:\n\u001b[0;32m---> 13\u001b[0m         mapped_dependencies \u001b[38;5;241m=\u001b[39m [\n\u001b[1;32m     14\u001b[0m             {\n\u001b[1;32m     15\u001b[0m                 \u001b[38;5;124m\"\u001b[39m\u001b[38;5;124mparent_event\u001b[39m\u001b[38;5;124m\"\u001b[39m: event_dict[dep[\u001b[38;5;124m\"\u001b[39m\u001b[38;5;124mevent_id\u001b[39m\u001b[38;5;124m\"\u001b[39m]][\u001b[38;5;124m\"\u001b[39m\u001b[38;5;124mmain_event\u001b[39m\u001b[38;5;124m\"\u001b[39m] \u001b[38;5;28;01mif\u001b[39;00m dep[\u001b[38;5;124m\"\u001b[39m\u001b[38;5;124mevent_id\u001b[39m\u001b[38;5;124m\"\u001b[39m] \u001b[38;5;129;01min\u001b[39;00m event_dict \u001b[38;5;28;01melse\u001b[39;00m \u001b[38;5;28;01mNone\u001b[39;00m,\n\u001b[1;32m     16\u001b[0m                 \u001b[38;5;124m\"\u001b[39m\u001b[38;5;124mrelation\u001b[39m\u001b[38;5;124m\"\u001b[39m: dep[\u001b[38;5;124m\"\u001b[39m\u001b[38;5;124mrelation\u001b[39m\u001b[38;5;124m\"\u001b[39m]\n\u001b[1;32m     17\u001b[0m             }\n\u001b[1;32m     18\u001b[0m             \u001b[38;5;28;01mfor\u001b[39;00m dep \u001b[38;5;129;01min\u001b[39;00m event[\u001b[38;5;124m\"\u001b[39m\u001b[38;5;124mevent_dependencies\u001b[39m\u001b[38;5;124m\"\u001b[39m]\n\u001b[1;32m     19\u001b[0m         ]\n\u001b[1;32m     20\u001b[0m         event[\u001b[38;5;124m\"\u001b[39m\u001b[38;5;124mevent_dependencies\u001b[39m\u001b[38;5;124m\"\u001b[39m] \u001b[38;5;241m=\u001b[39m mapped_dependencies\n\u001b[1;32m     22\u001b[0m \u001b[38;5;28;01mreturn\u001b[39;00m all_events\n",
      "Cell \u001b[0;32mIn[47], line 15\u001b[0m, in \u001b[0;36m<listcomp>\u001b[0;34m(.0)\u001b[0m\n\u001b[1;32m     11\u001b[0m \u001b[38;5;28;01mfor\u001b[39;00m event \u001b[38;5;129;01min\u001b[39;00m all_events:\n\u001b[1;32m     12\u001b[0m     \u001b[38;5;28;01mif\u001b[39;00m \u001b[38;5;124m\"\u001b[39m\u001b[38;5;124mevent_dependencies\u001b[39m\u001b[38;5;124m\"\u001b[39m \u001b[38;5;129;01min\u001b[39;00m event \u001b[38;5;129;01mand\u001b[39;00m event[\u001b[38;5;124m\"\u001b[39m\u001b[38;5;124mevent_dependencies\u001b[39m\u001b[38;5;124m\"\u001b[39m]:\n\u001b[1;32m     13\u001b[0m         mapped_dependencies \u001b[38;5;241m=\u001b[39m [\n\u001b[1;32m     14\u001b[0m             {\n\u001b[0;32m---> 15\u001b[0m                 \u001b[38;5;124m\"\u001b[39m\u001b[38;5;124mparent_event\u001b[39m\u001b[38;5;124m\"\u001b[39m: event_dict[dep[\u001b[38;5;124m\"\u001b[39m\u001b[38;5;124mevent_id\u001b[39m\u001b[38;5;124m\"\u001b[39m]][\u001b[38;5;124m\"\u001b[39m\u001b[38;5;124mmain_event\u001b[39m\u001b[38;5;124m\"\u001b[39m] \u001b[38;5;28;01mif\u001b[39;00m \u001b[43mdep\u001b[49m\u001b[43m[\u001b[49m\u001b[38;5;124;43m\"\u001b[39;49m\u001b[38;5;124;43mevent_id\u001b[39;49m\u001b[38;5;124;43m\"\u001b[39;49m\u001b[43m]\u001b[49m \u001b[38;5;129;01min\u001b[39;00m event_dict \u001b[38;5;28;01melse\u001b[39;00m \u001b[38;5;28;01mNone\u001b[39;00m,\n\u001b[1;32m     16\u001b[0m                 \u001b[38;5;124m\"\u001b[39m\u001b[38;5;124mrelation\u001b[39m\u001b[38;5;124m\"\u001b[39m: dep[\u001b[38;5;124m\"\u001b[39m\u001b[38;5;124mrelation\u001b[39m\u001b[38;5;124m\"\u001b[39m]\n\u001b[1;32m     17\u001b[0m             }\n\u001b[1;32m     18\u001b[0m             \u001b[38;5;28;01mfor\u001b[39;00m dep \u001b[38;5;129;01min\u001b[39;00m event[\u001b[38;5;124m\"\u001b[39m\u001b[38;5;124mevent_dependencies\u001b[39m\u001b[38;5;124m\"\u001b[39m]\n\u001b[1;32m     19\u001b[0m         ]\n\u001b[1;32m     20\u001b[0m         event[\u001b[38;5;124m\"\u001b[39m\u001b[38;5;124mevent_dependencies\u001b[39m\u001b[38;5;124m\"\u001b[39m] \u001b[38;5;241m=\u001b[39m mapped_dependencies\n\u001b[1;32m     22\u001b[0m \u001b[38;5;28;01mreturn\u001b[39;00m all_events\n",
      "\u001b[0;31mKeyError\u001b[0m: 'event_id'"
     ]
    }
   ],
   "source": [
    "from collections import defaultdict\n",
    "\n",
    "def map_event_dependencies(data):\n",
    "    # Flatten the list of lists into a single list of events\n",
    "    all_events = [event for sublist in data for event in sublist]\n",
    "    \n",
    "    # Create a dictionary mapping event_id to event details\n",
    "    event_dict = {event[\"event_id\"]: event for event in all_events}\n",
    "    \n",
    "    for event in all_events:\n",
    "        if \"event_dependencies\" in event and event[\"event_dependencies\"]:\n",
    "            mapped_dependencies = [\n",
    "                {\n",
    "                    \"parent_event\": event_dict[dep[\"event_id\"]][\"main_event\"] if dep[\"event_id\"] in event_dict else None,\n",
    "                    \"relation\": dep[\"relation\"]\n",
    "                }\n",
    "                for dep in event[\"event_dependencies\"]\n",
    "            ]\n",
    "            event[\"event_dependencies\"] = mapped_dependencies\n",
    "    \n",
    "    return all_events\n",
    "\n",
    "mapped_events = map_event_dependencies(event_lst)\n",
    "for event in mapped_events:\n",
    "    print(event)\n"
   ]
  },
  {
   "cell_type": "code",
   "execution_count": 12,
   "id": "54c31fc1",
   "metadata": {
    "ExecuteTime": {
     "end_time": "2025-03-11T02:16:21.555498Z",
     "start_time": "2025-03-11T02:16:21.553340Z"
    }
   },
   "outputs": [],
   "source": [
    "pd.set_option(\"max.colwidth\",0)"
   ]
  },
  {
   "cell_type": "markdown",
   "id": "35d22283",
   "metadata": {},
   "source": [
    "## Summarize the information"
   ]
  },
  {
   "cell_type": "code",
   "execution_count": 50,
   "id": "2b42cc83",
   "metadata": {
    "ExecuteTime": {
     "end_time": "2025-03-09T04:15:03.131860Z",
     "start_time": "2025-03-09T04:14:58.818415Z"
    },
    "scrolled": true
   },
   "outputs": [
    {
     "name": "stdout",
     "output_type": "stream",
     "text": [
      "Abstractive Summary with Independent Sentences:\n",
      "\n",
      "{\n",
      "  \"main_event\": \"Climate change causing more frequent and intense heatwaves\",\n",
      "  \"who\": \"Global population, governments, scientists\",\n",
      "  \"what\": \"Rising global temperatures have led to melting glaciers and rising sea levels, causing wildfires and threatening coastal cities. Governments are pledging to cut emissions by investing in renewable energy sources.\",\n",
      "  \"where\": \"Worldwide\",\n",
      "  \"when\": \"Ongoing, with a notable event in 2021\",\n",
      "  \"cause\": \"Climate change due to increased carbon emissions\",\n",
      "  \"consequences\": \"Destruction of homes due to wildfires, threat to coastal cities due to rising sea levels, and a call for significant reductions in carbon emissions\"\n",
      "}\n"
     ]
    }
   ],
   "source": [
    "text = \"\"\"\n",
    "\"Climate change is causing more frequent and intense heatwaves around the world. Rising global temperatures have led to melting glaciers and rising sea levels, which threaten coastal cities. In 2021, wildfires in California destroyed thousands of homes due to prolonged drought and high temperatures. Scientists warn that without significant reductions in carbon emissions, these extreme weather events will become even more common. Governments have pledged to cut emissions by investing in renewable energy sources like solar and wind power.\"\n",
    "\"\"\"\n",
    "\n",
    "prompt_template = PromptTemplate(\n",
    "    input_variables=[\"text\"],\n",
    "    template=(\n",
    "        \"Generate an abstractive summary in JSON format from the following text. \"\n",
    "        \"Use the following JSON structure:\\n\\n\"\n",
    "        \"{{\\n\"\n",
    "        '  \"main_event\": \"[Describe the main event concisely]\",\\n'\n",
    "        '  \"who\": \"[Who did it or who was involved]\",\\n'\n",
    "        '  \"what\": \"[What happened]\",\\n'\n",
    "        '  \"where\": \"[Where did it happen]\",\\n'\n",
    "        '  \"when\": \"[When did it happen]\",\\n'\n",
    "        '  \"cause\": \"[What caused the event]\",\\n'\n",
    "        '  \"consequences\": \"[What were the outcomes or impacts of the event]\"\\n'\n",
    "        \"}}\\n\\n\"\n",
    "        \"Ignore less informative details and focus on key events only.\\n\\nText:\\n{text}\"\n",
    "    )\n",
    ")\n",
    "\n",
    "\n",
    "# Create a ChatOpenAI LLM instance (chat-based model)\n",
    "llm = ChatOpenAI(model=\"gpt-4\", temperature=0)\n",
    "\n",
    "# Create a LangChain with the defined prompt template\n",
    "chain = LLMChain(llm=llm, prompt=prompt_template)\n",
    "\n",
    "# Run the chain and print the abstractive summary\n",
    "response = chain.run(text)\n",
    "print(\"Abstractive Summary with Independent Sentences:\\n\")\n",
    "print(response)\n",
    "\n"
   ]
  },
  {
   "cell_type": "code",
   "execution_count": 51,
   "id": "e41fc0ff",
   "metadata": {
    "ExecuteTime": {
     "end_time": "2025-03-09T04:15:19.502384Z",
     "start_time": "2025-03-09T04:15:19.499850Z"
    }
   },
   "outputs": [],
   "source": [
    "import json"
   ]
  },
  {
   "cell_type": "code",
   "execution_count": 52,
   "id": "42c724ed",
   "metadata": {
    "ExecuteTime": {
     "end_time": "2025-03-09T04:15:20.030875Z",
     "start_time": "2025-03-09T04:15:20.027665Z"
    }
   },
   "outputs": [],
   "source": [
    "data = json.loads(response)"
   ]
  },
  {
   "cell_type": "code",
   "execution_count": 54,
   "id": "116ff660",
   "metadata": {
    "ExecuteTime": {
     "end_time": "2025-03-09T04:16:03.568466Z",
     "start_time": "2025-03-09T04:16:03.346169Z"
    },
    "scrolled": false
   },
   "outputs": [
    {
     "name": "stderr",
     "output_type": "stream",
     "text": [
      "/Users/thetsu/anaconda3/lib/python3.11/site-packages/spacy/util.py:910: UserWarning: [W095] Model 'en_core_web_sm' (3.7.1) was trained with spaCy v3.7.2 and may not be 100% compatible with the current version (3.8.4). If you see errors or degraded performance, download a newer compatible model or retrain your custom model with the current spaCy version. For more details and available updates, run: python -m spacy validate\n",
      "  warnings.warn(warn_msg)\n"
     ]
    }
   ],
   "source": [
    "import spacy\n",
    "import pandas as pd\n",
    "from langchain import PromptTemplate, LLMChain\n",
    "from langchain.chat_models import ChatOpenAI\n",
    "\n",
    "# Replace with your OpenAI API key\n",
    "import os\n",
    "\n",
    "# Load spaCy's English model for NER\n",
    "nlp = spacy.load(\"en_core_web_sm\")"
   ]
  },
  {
   "cell_type": "code",
   "execution_count": 53,
   "id": "33ffcd46",
   "metadata": {
    "ExecuteTime": {
     "end_time": "2025-03-09T04:15:21.439859Z",
     "start_time": "2025-03-09T04:15:21.431868Z"
    },
    "scrolled": true
   },
   "outputs": [
    {
     "name": "stdout",
     "output_type": "stream",
     "text": [
      "Extracted Triplets:\n",
      "('Climate change causing more frequent and intense heatwaves', 'consists_of', 'Global population, governments, scientists')\n",
      "('Climate change causing more frequent and intense heatwaves', 'happens_on', 'Worldwide')\n",
      "('Climate change causing more frequent and intense heatwaves', 'happens_on', 'Ongoing, with a notable event in 2021')\n",
      "('Climate change causing more frequent and intense heatwaves', 'caused_by', 'Climate change due to increased carbon emissions')\n",
      "('Climate change causing more frequent and intense heatwaves', 'has_effect', 'Destruction of homes due to wildfires, threat to coastal cities due to rising sea levels, and a call for significant reductions in carbon emissions')\n",
      "('Climate change causing more frequent and intense heatwaves', 'is', 'Rising global temperatures have led to melting glaciers and rising sea levels, causing wildfires and threatening coastal cities')\n",
      "('Climate change causing more frequent and intense heatwaves', 'is', 'Governments are pledging to cut emissions by investing in renewable energy sources.')\n"
     ]
    }
   ],
   "source": [
    "def split_into_triplets(data):\n",
    "    main_event = data['main_event']\n",
    "    triplets = []\n",
    "\n",
    "    # Main Event Relationships\n",
    "    triplets.append((main_event, \"consists_of\", data['who']))\n",
    "    triplets.append((main_event, \"happens_on\", data['where']))\n",
    "    triplets.append((main_event, \"happens_on\", data['when']))\n",
    "\n",
    "    # Split 'cause' into separate triplets\n",
    "    causes = data['cause'].split(\", \")\n",
    "    for cause in causes:\n",
    "        triplets.append((main_event, \"caused_by\", cause))\n",
    "\n",
    "    # Split 'consequences' into separate triplets\n",
    "    consequences = data['consequences'].split(\". \")\n",
    "    for consequence in consequences:\n",
    "        if consequence:\n",
    "            triplets.append((main_event, \"has_effect\", consequence))\n",
    "\n",
    "    # Split 'what' into separate triplets\n",
    "    what_parts = data['what'].split(\". \")\n",
    "    for what in what_parts:\n",
    "        if what:\n",
    "            triplets.append((main_event, \"is\", what))\n",
    "\n",
    "    return triplets\n",
    "\n",
    "# Extract triplets\n",
    "triplets = split_into_triplets(data)\n",
    "print(\"Extracted Triplets:\")\n",
    "for triplet in triplets:\n",
    "    print(triplet)\n"
   ]
  },
  {
   "cell_type": "markdown",
   "id": "1dd31aba",
   "metadata": {},
   "source": [
    "## Expand the triplets"
   ]
  },
  {
   "cell_type": "code",
   "execution_count": 75,
   "id": "75ce7019",
   "metadata": {
    "ExecuteTime": {
     "end_time": "2025-03-09T04:25:58.656994Z",
     "start_time": "2025-03-09T04:25:58.652564Z"
    }
   },
   "outputs": [],
   "source": [
    "### The main purpose is to expland the data in \"consists_of, happends_on\",\n",
    "### \n",
    "expanded_triplets = []\n",
    "for data in triplets:\n",
    "    sub,rel, obj = data\n",
    "    if rel == \"consists_of\" and (\",\") in obj:\n",
    "        for obj_split in obj.split(\",\"): \n",
    "            expanded_triplets.append((sub, rel, obj_split))\n",
    "    if rel == \"happens_on\" and (\",\") in obj:\n",
    "        for obj_split in obj.split(\",\"): \n",
    "            expanded_triplets.append((sub, rel, obj_split))\n",
    "    else:\n",
    "        expanded_triplets.append((sub, rel, obj))"
   ]
  },
  {
   "cell_type": "code",
   "execution_count": 76,
   "id": "99155ab0",
   "metadata": {
    "ExecuteTime": {
     "end_time": "2025-03-09T04:26:01.573064Z",
     "start_time": "2025-03-09T04:26:01.568022Z"
    },
    "scrolled": false
   },
   "outputs": [
    {
     "data": {
      "text/plain": [
       "[('Climate change causing more frequent and intense heatwaves',\n",
       "  'consists_of',\n",
       "  'Global population'),\n",
       " ('Climate change causing more frequent and intense heatwaves',\n",
       "  'consists_of',\n",
       "  ' governments'),\n",
       " ('Climate change causing more frequent and intense heatwaves',\n",
       "  'consists_of',\n",
       "  ' scientists'),\n",
       " ('Climate change causing more frequent and intense heatwaves',\n",
       "  'consists_of',\n",
       "  'Global population, governments, scientists'),\n",
       " ('Climate change causing more frequent and intense heatwaves',\n",
       "  'happens_on',\n",
       "  'Worldwide'),\n",
       " ('Climate change causing more frequent and intense heatwaves',\n",
       "  'happens_on',\n",
       "  'Ongoing'),\n",
       " ('Climate change causing more frequent and intense heatwaves',\n",
       "  'happens_on',\n",
       "  ' with a notable event in 2021'),\n",
       " ('Climate change causing more frequent and intense heatwaves',\n",
       "  'caused_by',\n",
       "  'Climate change due to increased carbon emissions'),\n",
       " ('Climate change causing more frequent and intense heatwaves',\n",
       "  'has_effect',\n",
       "  'Destruction of homes due to wildfires, threat to coastal cities due to rising sea levels, and a call for significant reductions in carbon emissions'),\n",
       " ('Climate change causing more frequent and intense heatwaves',\n",
       "  'is',\n",
       "  'Rising global temperatures have led to melting glaciers and rising sea levels, causing wildfires and threatening coastal cities'),\n",
       " ('Climate change causing more frequent and intense heatwaves',\n",
       "  'is',\n",
       "  'Governments are pledging to cut emissions by investing in renewable energy sources.')]"
      ]
     },
     "execution_count": 76,
     "metadata": {},
     "output_type": "execute_result"
    }
   ],
   "source": [
    "expanded_triplets"
   ]
  },
  {
   "cell_type": "markdown",
   "id": "0f55808a",
   "metadata": {},
   "source": [
    "## Extract the entities for what (is), caused_by, and has_effect"
   ]
  },
  {
   "cell_type": "code",
   "execution_count": 69,
   "id": "e4ef0de3",
   "metadata": {
    "ExecuteTime": {
     "end_time": "2025-03-09T04:21:07.132987Z",
     "start_time": "2025-03-09T04:21:07.116828Z"
    },
    "scrolled": true
   },
   "outputs": [
    {
     "name": "stdout",
     "output_type": "stream",
     "text": [
      "Extracted Entities:\n",
      "Myanmar: GPE\n",
      "2022: DATE\n"
     ]
    }
   ],
   "source": [
    "## Named Entity Relations Extraction\n",
    "\n",
    "\n",
    "for triplet in expanded_triplets:\n",
    "    # Define the text to analyze\n",
    "    text = \n",
    "\n",
    "    # Extract entities using spaCy\n",
    "    def extract_entities(text):\n",
    "        doc = nlp(text)\n",
    "        entities = {ent.text: ent.label_ for ent in doc.ents}\n",
    "        return entities\n",
    "\n",
    "    entities = extract_entities(text)\n",
    "    print(\"Extracted Entities:\")\n",
    "    for entity, label in entities.items():\n",
    "        print(f\"{entity}: {label}\")\n"
   ]
  },
  {
   "cell_type": "code",
   "execution_count": 91,
   "id": "8e0b0372",
   "metadata": {
    "ExecuteTime": {
     "end_time": "2025-03-09T04:41:08.428927Z",
     "start_time": "2025-03-09T04:41:02.041319Z"
    }
   },
   "outputs": [],
   "source": [
    "prompt_template = PromptTemplate(\n",
    "    input_variables=[\"text\"],\n",
    "    template=(\n",
    "        \"Extract simplified and normalized triplets (subject, relation, object) from the following text. \"\n",
    "        \"Use short and meaningful keywords for each part, avoiding long phrases or redundancy. \"\n",
    "        \"Lemmatize terms and ensure each triplet has exactly three parts: \"\n",
    "        \"a single subject, a relation, and a single object. Return the result as a clean list of triplets.\\n\\nText:\\n{text}\"\n",
    "    )\n",
    ")\n",
    "\n",
    "# Create a ChatOpenAI LLM instance\n",
    "llm = ChatOpenAI(model=\"gpt-4\", temperature=0)\n",
    "\n",
    "# Create a LangChain with the defined prompt template\n",
    "chain = LLMChain(llm=llm, prompt=prompt_template)\n",
    "\n",
    "# Function to clean and fix triplets\n",
    "def clean_and_fix_triplets(response):\n",
    "    # Extract triplets using regex\n",
    "    triplet_pattern = re.compile(r\"\\(([^)]+)\\)\")\n",
    "    triplets = triplet_pattern.findall(response)\n",
    "    \n",
    "    cleaned_triplets = []\n",
    "    for triplet in triplets:\n",
    "        # Remove extra quotes and split by commas\n",
    "        parts = [part.strip().strip('\"') for part in triplet.split(\",\")]\n",
    "        \n",
    "        # Fix triplets with more than 3 parts\n",
    "        if len(parts) > 3:\n",
    "            subject = \" and \".join(parts[:-2])\n",
    "            relation = parts[-2]\n",
    "            obj = parts[-1]\n",
    "            cleaned_triplets.append((subject, relation, obj))\n",
    "        elif len(parts) == 3:\n",
    "            cleaned_triplets.append(tuple(parts))\n",
    "    \n",
    "    return cleaned_triplets\n",
    "\n",
    "\n",
    "def annotate_triplets_with_entities(triplets, entities):\n",
    "    enriched_triplets = []\n",
    "    for triplet in triplets:\n",
    "        subject, relation, obj = triplet\n",
    "        subject_type = entities.get(subject, \"UNKNOWN\")\n",
    "        object_type = entities.get(obj, \"UNKNOWN\")\n",
    "        enriched_triplets.append((subject, subject_type, relation, obj, object_type))\n",
    "    return enriched_triplets\n",
    "\n",
    "\n",
    "### Expand all\n",
    "final_triplets = []\n",
    "for triplets in expanded_triplets:\n",
    "    ## Get the what, is_caused_by and has_effect\n",
    "    main_event, main_rel, main_obj = triplets\n",
    "    if main_rel in ([\"is\", \"has_effect\", \"caused_by\"]):\n",
    "        target_obj_sent = main_obj\n",
    "        # Run the chain to extract triplets\n",
    "        response = chain.run(target_obj_sent)\n",
    "\n",
    "\n",
    "        # Clean and fix extracted triplets\n",
    "        fixed_triplets = clean_and_fix_triplets(response)\n",
    "\n",
    "        # Annotate triplets with entity types\n",
    "#         enriched_triplets = annotate_triplets_with_entities(fixed_triplets, entities)\n",
    "        final_triplets.append((main_event,main_rel,(fixed_triplets)))\n",
    "        \n",
    "    else:\n",
    "        final_triplets.append(triplets)\n",
    "        \n",
    "        "
   ]
  },
  {
   "cell_type": "code",
   "execution_count": 88,
   "id": "912e709a",
   "metadata": {
    "ExecuteTime": {
     "end_time": "2025-03-09T04:39:29.377335Z",
     "start_time": "2025-03-09T04:39:29.370626Z"
    },
    "scrolled": true
   },
   "outputs": [
    {
     "data": {
      "text/plain": [
       "[('Climate change causing more frequent and intense heatwaves',\n",
       "  'consists_of',\n",
       "  'Global population'),\n",
       " ('Climate change causing more frequent and intense heatwaves',\n",
       "  'consists_of',\n",
       "  ' governments'),\n",
       " ('Climate change causing more frequent and intense heatwaves',\n",
       "  'consists_of',\n",
       "  ' scientists'),\n",
       " ('Climate change causing more frequent and intense heatwaves',\n",
       "  'consists_of',\n",
       "  'Global population, governments, scientists'),\n",
       " ('Climate change causing more frequent and intense heatwaves',\n",
       "  'happens_on',\n",
       "  'Worldwide'),\n",
       " ('Climate change causing more frequent and intense heatwaves',\n",
       "  'happens_on',\n",
       "  'Ongoing'),\n",
       " ('Climate change causing more frequent and intense heatwaves',\n",
       "  'happens_on',\n",
       "  ' with a notable event in 2021'),\n",
       " ('Climate change causing more frequent and intense heatwaves',\n",
       "  'caused_by',\n",
       "  [('Climate change',\n",
       "    'UNKNOWN',\n",
       "    'due to',\n",
       "    'increased carbon emissions',\n",
       "    'UNKNOWN')]),\n",
       " ('Climate change causing more frequent and intense heatwaves',\n",
       "  'has_effect',\n",
       "  [('homes', 'UNKNOWN', 'destruction', 'wildfires', 'UNKNOWN'),\n",
       "   ('coastal cities', 'UNKNOWN', 'threat', 'rising sea levels', 'UNKNOWN'),\n",
       "   ('call',\n",
       "    'UNKNOWN',\n",
       "    'demand',\n",
       "    'reductions in carbon emissions',\n",
       "    'UNKNOWN')]),\n",
       " ('Climate change causing more frequent and intense heatwaves',\n",
       "  'is',\n",
       "  [('global temperature', 'UNKNOWN', 'rise', 'melting glaciers', 'UNKNOWN'),\n",
       "   ('global temperature', 'UNKNOWN', 'rise', 'rising sea levels', 'UNKNOWN'),\n",
       "   ('rising sea levels', 'UNKNOWN', 'cause', 'wildfires', 'UNKNOWN'),\n",
       "   ('rising sea levels', 'UNKNOWN', 'threaten', 'coastal cities', 'UNKNOWN')]),\n",
       " ('Climate change causing more frequent and intense heatwaves',\n",
       "  'is',\n",
       "  [('Governments', 'UNKNOWN', 'pledge', 'cut emissions', 'UNKNOWN'),\n",
       "   ('Governments',\n",
       "    'UNKNOWN',\n",
       "    'invest',\n",
       "    'renewable energy sources',\n",
       "    'UNKNOWN')])]"
      ]
     },
     "execution_count": 88,
     "metadata": {},
     "output_type": "execute_result"
    }
   ],
   "source": [
    "final_triplets"
   ]
  },
  {
   "cell_type": "code",
   "execution_count": 93,
   "id": "9d2a6039",
   "metadata": {
    "ExecuteTime": {
     "end_time": "2025-03-09T04:52:13.914356Z",
     "start_time": "2025-03-09T04:52:13.908824Z"
    },
    "scrolled": true
   },
   "outputs": [
    {
     "data": {
      "text/plain": [
       "[('Climate change causing more frequent and intense heatwaves',\n",
       "  'consists_of',\n",
       "  'Global population'),\n",
       " ('Climate change causing more frequent and intense heatwaves',\n",
       "  'consists_of',\n",
       "  ' governments'),\n",
       " ('Climate change causing more frequent and intense heatwaves',\n",
       "  'consists_of',\n",
       "  ' scientists'),\n",
       " ('Climate change causing more frequent and intense heatwaves',\n",
       "  'consists_of',\n",
       "  'Global population, governments, scientists'),\n",
       " ('Climate change causing more frequent and intense heatwaves',\n",
       "  'happens_on',\n",
       "  'Worldwide'),\n",
       " ('Climate change causing more frequent and intense heatwaves',\n",
       "  'happens_on',\n",
       "  'Ongoing'),\n",
       " ('Climate change causing more frequent and intense heatwaves',\n",
       "  'happens_on',\n",
       "  ' with a notable event in 2021'),\n",
       " ('Climate change causing more frequent and intense heatwaves',\n",
       "  'caused_by',\n",
       "  [('Climate change', 'due to', 'increased carbon emissions')]),\n",
       " ('Climate change causing more frequent and intense heatwaves',\n",
       "  'has_effect',\n",
       "  [('homes', 'destruction', 'wildfires'),\n",
       "   ('coastal cities', 'threat', 'rising sea levels'),\n",
       "   ('call', 'reduction', 'carbon emissions')]),\n",
       " ('Climate change causing more frequent and intense heatwaves',\n",
       "  'is',\n",
       "  [('global temperature', 'rise', 'melting glaciers'),\n",
       "   ('melting glaciers', 'cause', 'rising sea levels'),\n",
       "   ('rising sea levels', 'cause', 'wildfires'),\n",
       "   ('rising sea levels', 'threaten', 'coastal cities')]),\n",
       " ('Climate change causing more frequent and intense heatwaves',\n",
       "  'is',\n",
       "  [('Governments', 'pledge', 'cut emissions'),\n",
       "   ('Governments', 'invest', 'renewable energy sources')])]"
      ]
     },
     "execution_count": 93,
     "metadata": {},
     "output_type": "execute_result"
    }
   ],
   "source": [
    "final_triplets"
   ]
  },
  {
   "cell_type": "markdown",
   "id": "79e58411",
   "metadata": {},
   "source": [
    "## Build Knowledge Graph"
   ]
  },
  {
   "cell_type": "code",
   "execution_count": 95,
   "id": "514c8f9f",
   "metadata": {
    "ExecuteTime": {
     "end_time": "2025-03-09T04:56:17.194510Z",
     "start_time": "2025-03-09T04:56:17.096610Z"
    }
   },
   "outputs": [],
   "source": [
    "from neo4j import GraphDatabase\n",
    "\n",
    "# # Create a driver with encrypted connection for Neo4j Aura\n",
    "# driver = GraphDatabase.driver(NEO4J_URI, auth=(NEO4J_USERNAME, NEO4J_PASSWORD))\n",
    "\n",
    "# def load_triples(triples):\n",
    "#     try:\n",
    "#         with driver.session() as session:\n",
    "#             for triple in triples:\n",
    "#                 session.write_transaction(create_relationship, triple)\n",
    "#     except Exception as e:\n",
    "#         print(f\"Error: {e}\")\n",
    "#     finally:\n",
    "#         driver.close()\n",
    "\n",
    "# def create_relationship(tx, triple):\n",
    "#     # Use dynamic relationship type\n",
    "#     query = f\"\"\"\n",
    "#     MERGE (a:Event {{name: $a}})\n",
    "#     MERGE (b:Event {{name: $b}})\n",
    "#     MERGE (a)-[:{triple[1]}]->(b)\n",
    "#     \"\"\"\n",
    "#     params = {\"a\": triple[0], \"b\": triple[2]}\n",
    "#     tx.run(query, params)\n",
    "\n",
    "\n",
    "# load_triples(triples)"
   ]
  },
  {
   "cell_type": "code",
   "execution_count": 98,
   "id": "75de7313",
   "metadata": {
    "ExecuteTime": {
     "end_time": "2025-03-09T05:00:05.772157Z",
     "start_time": "2025-03-09T05:00:05.762696Z"
    }
   },
   "outputs": [
    {
     "name": "stdout",
     "output_type": "stream",
     "text": [
      "Flattened Triples:\n",
      "('Climate change causing more frequent and intense heatwaves', 'consists_of', 'Global population')\n",
      "('Climate change causing more frequent and intense heatwaves', 'consists_of', ' governments')\n",
      "('Climate change causing more frequent and intense heatwaves', 'consists_of', ' scientists')\n",
      "('Climate change causing more frequent and intense heatwaves', 'consists_of', 'Global population, governments, scientists')\n",
      "('Climate change causing more frequent and intense heatwaves', 'happens_on', 'Worldwide')\n",
      "('Climate change causing more frequent and intense heatwaves', 'happens_on', 'Ongoing')\n",
      "('Climate change causing more frequent and intense heatwaves', 'happens_on', ' with a notable event in 2021')\n",
      "('Climate change causing more frequent and intense heatwaves', 'caused_by', 'Climate change')\n",
      "('Climate change', 'due to', 'increased carbon emissions')\n",
      "('Climate change causing more frequent and intense heatwaves', 'has_effect', 'homes')\n",
      "('homes', 'destruction', 'wildfires')\n",
      "('Climate change causing more frequent and intense heatwaves', 'has_effect', 'coastal cities')\n",
      "('coastal cities', 'threat', 'rising sea levels')\n",
      "('Climate change causing more frequent and intense heatwaves', 'has_effect', 'call')\n",
      "('call', 'reduction', 'carbon emissions')\n",
      "('Climate change causing more frequent and intense heatwaves', 'is', 'global temperature')\n",
      "('global temperature', 'rise', 'melting glaciers')\n",
      "('Climate change causing more frequent and intense heatwaves', 'is', 'melting glaciers')\n",
      "('melting glaciers', 'cause', 'rising sea levels')\n",
      "('Climate change causing more frequent and intense heatwaves', 'is', 'rising sea levels')\n",
      "('rising sea levels', 'cause', 'wildfires')\n",
      "('Climate change causing more frequent and intense heatwaves', 'is', 'rising sea levels')\n",
      "('rising sea levels', 'threaten', 'coastal cities')\n",
      "('Climate change causing more frequent and intense heatwaves', 'is', 'Governments')\n",
      "('Governments', 'pledge', 'cut emissions')\n",
      "('Climate change causing more frequent and intense heatwaves', 'is', 'Governments')\n",
      "('Governments', 'invest', 'renewable energy sources')\n"
     ]
    }
   ],
   "source": [
    "# Flatten nested triplets with direct and nested relationships\n",
    "def flatten_triples(triples):\n",
    "    flat_triples = []\n",
    "    for triple in triples:\n",
    "        if isinstance(triple[2], list):  # Check if the object is a nested list of triplets\n",
    "            for nested_triple in triple[2]:\n",
    "                # 1. Extract direct relationships\n",
    "                flat_triples.append((triple[0], triple[1], nested_triple[0]))\n",
    "                \n",
    "                # 2. Extract nested relationships\n",
    "                flat_triples.append((nested_triple[0], nested_triple[1], nested_triple[2]))\n",
    "        else:\n",
    "            flat_triples.append(triple)\n",
    "    return flat_triples\n",
    "\n",
    "# Flatten the nested triplets\n",
    "flat_triples = flatten_triples(final_triplets)\n",
    "\n",
    "# Print flattened triplets for verification\n",
    "print(\"Flattened Triples:\")\n",
    "for t in flat_triples:\n",
    "    print(t)"
   ]
  },
  {
   "cell_type": "code",
   "execution_count": 100,
   "id": "108ee357",
   "metadata": {
    "ExecuteTime": {
     "end_time": "2025-03-09T05:00:49.448368Z",
     "start_time": "2025-03-09T05:00:46.888648Z"
    }
   },
   "outputs": [
    {
     "name": "stderr",
     "output_type": "stream",
     "text": [
      "/var/folders/xn/dm_gjx4d16363nrz6_260mgc0000gn/T/ipykernel_34505/2370714826.py:8: DeprecationWarning: write_transaction has been renamed to execute_write\n",
      "  session.write_transaction(create_relationship, triple)\n"
     ]
    }
   ],
   "source": [
    "driver = GraphDatabase.driver(NEO4J_URI, auth=(NEO4J_USERNAME, NEO4J_PASSWORD))\n",
    "\n",
    "# Neo4j insertion logic\n",
    "def load_triples(triples):\n",
    "    try:\n",
    "        with driver.session() as session:\n",
    "            for triple in triples:\n",
    "                session.write_transaction(create_relationship, triple)\n",
    "    except Exception as e:\n",
    "        print(f\"Error: {e}\")\n",
    "    finally:\n",
    "        driver.close()\n",
    "\n",
    "def create_relationship(tx, triple):\n",
    "    # Use dynamic relationship type\n",
    "    query = f\"\"\"\n",
    "    MERGE (a:Entity {{name: $a}})\n",
    "    MERGE (b:Entity {{name: $b}})\n",
    "    MERGE (a)-[:{triple[1].replace(\" \", \"_\").upper()}]->(b)\n",
    "    \"\"\"\n",
    "    params = {\"a\": triple[0], \"b\": triple[2]}\n",
    "    tx.run(query, params)\n",
    "\n",
    "# Load flattened triplets into Neo4j\n",
    "load_triples(flat_triples)"
   ]
  },
  {
   "cell_type": "markdown",
   "id": "98424e61",
   "metadata": {},
   "source": [
    "## DONE HERE"
   ]
  },
  {
   "cell_type": "code",
   "execution_count": null,
   "id": "e42af126",
   "metadata": {},
   "outputs": [],
   "source": []
  },
  {
   "cell_type": "code",
   "execution_count": null,
   "id": "dcebcc67",
   "metadata": {},
   "outputs": [],
   "source": []
  },
  {
   "cell_type": "code",
   "execution_count": null,
   "id": "13052fa1",
   "metadata": {},
   "outputs": [],
   "source": []
  },
  {
   "cell_type": "code",
   "execution_count": 89,
   "id": "2d7e013c",
   "metadata": {
    "ExecuteTime": {
     "end_time": "2025-03-09T04:40:34.744694Z",
     "start_time": "2025-03-09T04:40:34.734963Z"
    }
   },
   "outputs": [],
   "source": [
    "df_triplets = pd.DataFrame(final_triplets, columns=[\"Main_Event\", \"Relation\", \"Object\"])"
   ]
  },
  {
   "cell_type": "code",
   "execution_count": 90,
   "id": "f85768db",
   "metadata": {
    "ExecuteTime": {
     "end_time": "2025-03-09T04:40:37.147163Z",
     "start_time": "2025-03-09T04:40:37.131259Z"
    },
    "scrolled": false
   },
   "outputs": [
    {
     "data": {
      "text/html": [
       "<div>\n",
       "<style scoped>\n",
       "    .dataframe tbody tr th:only-of-type {\n",
       "        vertical-align: middle;\n",
       "    }\n",
       "\n",
       "    .dataframe tbody tr th {\n",
       "        vertical-align: top;\n",
       "    }\n",
       "\n",
       "    .dataframe thead th {\n",
       "        text-align: right;\n",
       "    }\n",
       "</style>\n",
       "<table border=\"1\" class=\"dataframe\">\n",
       "  <thead>\n",
       "    <tr style=\"text-align: right;\">\n",
       "      <th></th>\n",
       "      <th>Main_Event</th>\n",
       "      <th>Relation</th>\n",
       "      <th>Object</th>\n",
       "    </tr>\n",
       "  </thead>\n",
       "  <tbody>\n",
       "    <tr>\n",
       "      <th>0</th>\n",
       "      <td>Climate change causing more frequent and intense heatwaves</td>\n",
       "      <td>consists_of</td>\n",
       "      <td>Global population</td>\n",
       "    </tr>\n",
       "    <tr>\n",
       "      <th>1</th>\n",
       "      <td>Climate change causing more frequent and intense heatwaves</td>\n",
       "      <td>consists_of</td>\n",
       "      <td>governments</td>\n",
       "    </tr>\n",
       "    <tr>\n",
       "      <th>2</th>\n",
       "      <td>Climate change causing more frequent and intense heatwaves</td>\n",
       "      <td>consists_of</td>\n",
       "      <td>scientists</td>\n",
       "    </tr>\n",
       "    <tr>\n",
       "      <th>3</th>\n",
       "      <td>Climate change causing more frequent and intense heatwaves</td>\n",
       "      <td>consists_of</td>\n",
       "      <td>Global population, governments, scientists</td>\n",
       "    </tr>\n",
       "    <tr>\n",
       "      <th>4</th>\n",
       "      <td>Climate change causing more frequent and intense heatwaves</td>\n",
       "      <td>happens_on</td>\n",
       "      <td>Worldwide</td>\n",
       "    </tr>\n",
       "    <tr>\n",
       "      <th>5</th>\n",
       "      <td>Climate change causing more frequent and intense heatwaves</td>\n",
       "      <td>happens_on</td>\n",
       "      <td>Ongoing</td>\n",
       "    </tr>\n",
       "    <tr>\n",
       "      <th>6</th>\n",
       "      <td>Climate change causing more frequent and intense heatwaves</td>\n",
       "      <td>happens_on</td>\n",
       "      <td>with a notable event in 2021</td>\n",
       "    </tr>\n",
       "    <tr>\n",
       "      <th>7</th>\n",
       "      <td>Climate change causing more frequent and intense heatwaves</td>\n",
       "      <td>caused_by</td>\n",
       "      <td>[(Climate change, UNKNOWN, due to, increased carbon emissions, UNKNOWN)]</td>\n",
       "    </tr>\n",
       "    <tr>\n",
       "      <th>8</th>\n",
       "      <td>Climate change causing more frequent and intense heatwaves</td>\n",
       "      <td>has_effect</td>\n",
       "      <td>[(homes, UNKNOWN, destruction, wildfires, UNKNOWN), (coastal cities, UNKNOWN, threat, rising sea levels, UNKNOWN), (call, UNKNOWN, demand, reductions in carbon emissions, UNKNOWN)]</td>\n",
       "    </tr>\n",
       "    <tr>\n",
       "      <th>9</th>\n",
       "      <td>Climate change causing more frequent and intense heatwaves</td>\n",
       "      <td>is</td>\n",
       "      <td>[(global temperature, UNKNOWN, rise, melting glaciers, UNKNOWN), (global temperature, UNKNOWN, rise, rising sea levels, UNKNOWN), (rising sea levels, UNKNOWN, cause, wildfires, UNKNOWN), (rising sea levels, UNKNOWN, threaten, coastal cities, UNKNOWN)]</td>\n",
       "    </tr>\n",
       "    <tr>\n",
       "      <th>10</th>\n",
       "      <td>Climate change causing more frequent and intense heatwaves</td>\n",
       "      <td>is</td>\n",
       "      <td>[(Governments, UNKNOWN, pledge, cut emissions, UNKNOWN), (Governments, UNKNOWN, invest, renewable energy sources, UNKNOWN)]</td>\n",
       "    </tr>\n",
       "  </tbody>\n",
       "</table>\n",
       "</div>"
      ],
      "text/plain": [
       "                                                    Main_Event     Relation  \\\n",
       "0   Climate change causing more frequent and intense heatwaves  consists_of   \n",
       "1   Climate change causing more frequent and intense heatwaves  consists_of   \n",
       "2   Climate change causing more frequent and intense heatwaves  consists_of   \n",
       "3   Climate change causing more frequent and intense heatwaves  consists_of   \n",
       "4   Climate change causing more frequent and intense heatwaves  happens_on    \n",
       "5   Climate change causing more frequent and intense heatwaves  happens_on    \n",
       "6   Climate change causing more frequent and intense heatwaves  happens_on    \n",
       "7   Climate change causing more frequent and intense heatwaves  caused_by     \n",
       "8   Climate change causing more frequent and intense heatwaves  has_effect    \n",
       "9   Climate change causing more frequent and intense heatwaves  is            \n",
       "10  Climate change causing more frequent and intense heatwaves  is            \n",
       "\n",
       "                                                                                                                                                                                                                                                         Object  \n",
       "0   Global population                                                                                                                                                                                                                                            \n",
       "1    governments                                                                                                                                                                                                                                                 \n",
       "2    scientists                                                                                                                                                                                                                                                  \n",
       "3   Global population, governments, scientists                                                                                                                                                                                                                   \n",
       "4   Worldwide                                                                                                                                                                                                                                                    \n",
       "5   Ongoing                                                                                                                                                                                                                                                      \n",
       "6    with a notable event in 2021                                                                                                                                                                                                                                \n",
       "7   [(Climate change, UNKNOWN, due to, increased carbon emissions, UNKNOWN)]                                                                                                                                                                                     \n",
       "8   [(homes, UNKNOWN, destruction, wildfires, UNKNOWN), (coastal cities, UNKNOWN, threat, rising sea levels, UNKNOWN), (call, UNKNOWN, demand, reductions in carbon emissions, UNKNOWN)]                                                                         \n",
       "9   [(global temperature, UNKNOWN, rise, melting glaciers, UNKNOWN), (global temperature, UNKNOWN, rise, rising sea levels, UNKNOWN), (rising sea levels, UNKNOWN, cause, wildfires, UNKNOWN), (rising sea levels, UNKNOWN, threaten, coastal cities, UNKNOWN)]  \n",
       "10  [(Governments, UNKNOWN, pledge, cut emissions, UNKNOWN), (Governments, UNKNOWN, invest, renewable energy sources, UNKNOWN)]                                                                                                                                  "
      ]
     },
     "execution_count": 90,
     "metadata": {},
     "output_type": "execute_result"
    }
   ],
   "source": [
    "df_triplets"
   ]
  },
  {
   "cell_type": "code",
   "execution_count": 92,
   "id": "7eca2851",
   "metadata": {
    "ExecuteTime": {
     "end_time": "2025-03-09T04:41:11.066007Z",
     "start_time": "2025-03-09T04:41:11.055493Z"
    },
    "scrolled": true
   },
   "outputs": [
    {
     "data": {
      "text/html": [
       "<div>\n",
       "<style scoped>\n",
       "    .dataframe tbody tr th:only-of-type {\n",
       "        vertical-align: middle;\n",
       "    }\n",
       "\n",
       "    .dataframe tbody tr th {\n",
       "        vertical-align: top;\n",
       "    }\n",
       "\n",
       "    .dataframe thead th {\n",
       "        text-align: right;\n",
       "    }\n",
       "</style>\n",
       "<table border=\"1\" class=\"dataframe\">\n",
       "  <thead>\n",
       "    <tr style=\"text-align: right;\">\n",
       "      <th></th>\n",
       "      <th>Main_Event</th>\n",
       "      <th>Relation</th>\n",
       "      <th>Object</th>\n",
       "    </tr>\n",
       "  </thead>\n",
       "  <tbody>\n",
       "    <tr>\n",
       "      <th>0</th>\n",
       "      <td>Climate change causing more frequent and intense heatwaves</td>\n",
       "      <td>consists_of</td>\n",
       "      <td>Global population</td>\n",
       "    </tr>\n",
       "    <tr>\n",
       "      <th>1</th>\n",
       "      <td>Climate change causing more frequent and intense heatwaves</td>\n",
       "      <td>consists_of</td>\n",
       "      <td>governments</td>\n",
       "    </tr>\n",
       "    <tr>\n",
       "      <th>2</th>\n",
       "      <td>Climate change causing more frequent and intense heatwaves</td>\n",
       "      <td>consists_of</td>\n",
       "      <td>scientists</td>\n",
       "    </tr>\n",
       "    <tr>\n",
       "      <th>3</th>\n",
       "      <td>Climate change causing more frequent and intense heatwaves</td>\n",
       "      <td>consists_of</td>\n",
       "      <td>Global population, governments, scientists</td>\n",
       "    </tr>\n",
       "    <tr>\n",
       "      <th>4</th>\n",
       "      <td>Climate change causing more frequent and intense heatwaves</td>\n",
       "      <td>happens_on</td>\n",
       "      <td>Worldwide</td>\n",
       "    </tr>\n",
       "    <tr>\n",
       "      <th>5</th>\n",
       "      <td>Climate change causing more frequent and intense heatwaves</td>\n",
       "      <td>happens_on</td>\n",
       "      <td>Ongoing</td>\n",
       "    </tr>\n",
       "    <tr>\n",
       "      <th>6</th>\n",
       "      <td>Climate change causing more frequent and intense heatwaves</td>\n",
       "      <td>happens_on</td>\n",
       "      <td>with a notable event in 2021</td>\n",
       "    </tr>\n",
       "    <tr>\n",
       "      <th>7</th>\n",
       "      <td>Climate change causing more frequent and intense heatwaves</td>\n",
       "      <td>caused_by</td>\n",
       "      <td>[(Climate change, due to, increased carbon emissions)]</td>\n",
       "    </tr>\n",
       "    <tr>\n",
       "      <th>8</th>\n",
       "      <td>Climate change causing more frequent and intense heatwaves</td>\n",
       "      <td>has_effect</td>\n",
       "      <td>[(homes, destruction, wildfires), (coastal cities, threat, rising sea levels), (call, reduction, carbon emissions)]</td>\n",
       "    </tr>\n",
       "    <tr>\n",
       "      <th>9</th>\n",
       "      <td>Climate change causing more frequent and intense heatwaves</td>\n",
       "      <td>is</td>\n",
       "      <td>[(global temperature, rise, melting glaciers), (melting glaciers, cause, rising sea levels), (rising sea levels, cause, wildfires), (rising sea levels, threaten, coastal cities)]</td>\n",
       "    </tr>\n",
       "    <tr>\n",
       "      <th>10</th>\n",
       "      <td>Climate change causing more frequent and intense heatwaves</td>\n",
       "      <td>is</td>\n",
       "      <td>[(Governments, pledge, cut emissions), (Governments, invest, renewable energy sources)]</td>\n",
       "    </tr>\n",
       "  </tbody>\n",
       "</table>\n",
       "</div>"
      ],
      "text/plain": [
       "                                                    Main_Event     Relation  \\\n",
       "0   Climate change causing more frequent and intense heatwaves  consists_of   \n",
       "1   Climate change causing more frequent and intense heatwaves  consists_of   \n",
       "2   Climate change causing more frequent and intense heatwaves  consists_of   \n",
       "3   Climate change causing more frequent and intense heatwaves  consists_of   \n",
       "4   Climate change causing more frequent and intense heatwaves  happens_on    \n",
       "5   Climate change causing more frequent and intense heatwaves  happens_on    \n",
       "6   Climate change causing more frequent and intense heatwaves  happens_on    \n",
       "7   Climate change causing more frequent and intense heatwaves  caused_by     \n",
       "8   Climate change causing more frequent and intense heatwaves  has_effect    \n",
       "9   Climate change causing more frequent and intense heatwaves  is            \n",
       "10  Climate change causing more frequent and intense heatwaves  is            \n",
       "\n",
       "                                                                                                                                                                                Object  \n",
       "0   Global population                                                                                                                                                                   \n",
       "1    governments                                                                                                                                                                        \n",
       "2    scientists                                                                                                                                                                         \n",
       "3   Global population, governments, scientists                                                                                                                                          \n",
       "4   Worldwide                                                                                                                                                                           \n",
       "5   Ongoing                                                                                                                                                                             \n",
       "6    with a notable event in 2021                                                                                                                                                       \n",
       "7   [(Climate change, due to, increased carbon emissions)]                                                                                                                              \n",
       "8   [(homes, destruction, wildfires), (coastal cities, threat, rising sea levels), (call, reduction, carbon emissions)]                                                                 \n",
       "9   [(global temperature, rise, melting glaciers), (melting glaciers, cause, rising sea levels), (rising sea levels, cause, wildfires), (rising sea levels, threaten, coastal cities)]  \n",
       "10  [(Governments, pledge, cut emissions), (Governments, invest, renewable energy sources)]                                                                                             "
      ]
     },
     "execution_count": 92,
     "metadata": {},
     "output_type": "execute_result"
    }
   ],
   "source": [
    "df_triplets = pd.DataFrame(final_triplets, columns=[\"Main_Event\", \"Relation\", \"Object\"])\n",
    "df_triplets"
   ]
  },
  {
   "cell_type": "code",
   "execution_count": null,
   "id": "d108dfcf",
   "metadata": {},
   "outputs": [],
   "source": []
  },
  {
   "cell_type": "code",
   "execution_count": null,
   "id": "0cd89c6d",
   "metadata": {},
   "outputs": [],
   "source": []
  },
  {
   "cell_type": "code",
   "execution_count": null,
   "id": "948d5205",
   "metadata": {},
   "outputs": [],
   "source": []
  },
  {
   "cell_type": "code",
   "execution_count": null,
   "id": "0f6b7235",
   "metadata": {},
   "outputs": [],
   "source": []
  },
  {
   "cell_type": "code",
   "execution_count": null,
   "id": "a19f7481",
   "metadata": {},
   "outputs": [],
   "source": []
  },
  {
   "cell_type": "code",
   "execution_count": null,
   "id": "2bdfbbcf",
   "metadata": {},
   "outputs": [],
   "source": []
  },
  {
   "cell_type": "code",
   "execution_count": null,
   "id": "d0fde9d7",
   "metadata": {},
   "outputs": [],
   "source": []
  },
  {
   "cell_type": "code",
   "execution_count": null,
   "id": "56dada08",
   "metadata": {},
   "outputs": [],
   "source": []
  },
  {
   "cell_type": "code",
   "execution_count": null,
   "id": "95a6c8b4",
   "metadata": {},
   "outputs": [],
   "source": []
  },
  {
   "cell_type": "code",
   "execution_count": null,
   "id": "7dd1a3d6",
   "metadata": {},
   "outputs": [],
   "source": []
  },
  {
   "cell_type": "code",
   "execution_count": null,
   "id": "114e95c0",
   "metadata": {},
   "outputs": [],
   "source": []
  },
  {
   "cell_type": "code",
   "execution_count": 22,
   "id": "14175966",
   "metadata": {
    "ExecuteTime": {
     "end_time": "2025-03-07T07:59:41.525331Z",
     "start_time": "2025-03-07T07:59:39.467756Z"
    }
   },
   "outputs": [
    {
     "name": "stderr",
     "output_type": "stream",
     "text": [
      "Device set to use cpu\n"
     ]
    },
    {
     "name": "stdout",
     "output_type": "stream",
     "text": [
      "{'sequence': 'China sanctions two US defence firms for selling Taiwan weapons', 'labels': ['Economy', 'Crime', 'Politics', 'Technology', 'Science', 'Health'], 'scores': [0.26702791452407837, 0.24168507754802704, 0.21354123950004578, 0.14741374552249908, 0.06677037477493286, 0.06356166303157806]}\n"
     ]
    }
   ],
   "source": [
    "from transformers import pipeline\n",
    "\n",
    "classifier = pipeline(\"zero-shot-classification\", model=\"facebook/bart-large-mnli\")\n",
    "text = \"China sanctions two US defence firms for selling Taiwan weapons\"\n",
    "labels = [\"Economy\", \"Technology\", \"Politics\", \"Crime\", \"Science\", \"Health\"]\n",
    "result = classifier(text, candidate_labels=labels)\n",
    "print(result)\n"
   ]
  },
  {
   "cell_type": "code",
   "execution_count": 24,
   "id": "d779b618",
   "metadata": {
    "ExecuteTime": {
     "end_time": "2025-03-07T08:17:26.179246Z",
     "start_time": "2025-03-07T08:17:26.175500Z"
    }
   },
   "outputs": [],
   "source": [
    "def predict(text):\n",
    "    result = classifier(text, candidate_labels=labels)\n",
    "    highest_score_index = result['scores'].index(max(result['scores']))\n",
    "    highest_score_label = result['labels'][highest_score_index]\n",
    "\n",
    "    return(highest_score_label)"
   ]
  },
  {
   "cell_type": "code",
   "execution_count": 25,
   "id": "d0fd4148",
   "metadata": {
    "ExecuteTime": {
     "end_time": "2025-03-07T08:17:55.166322Z",
     "start_time": "2025-03-07T08:17:55.156780Z"
    }
   },
   "outputs": [],
   "source": [
    "subset_df = df[[\"Published Date\",\"Title\"]]"
   ]
  },
  {
   "cell_type": "code",
   "execution_count": 26,
   "id": "d26465ca",
   "metadata": {
    "ExecuteTime": {
     "end_time": "2025-03-07T08:19:12.105435Z",
     "start_time": "2025-03-07T08:18:19.952307Z"
    }
   },
   "outputs": [
    {
     "name": "stderr",
     "output_type": "stream",
     "text": [
      "/tmp/ipykernel_251060/1729149219.py:1: SettingWithCopyWarning: \n",
      "A value is trying to be set on a copy of a slice from a DataFrame.\n",
      "Try using .loc[row_indexer,col_indexer] = value instead\n",
      "\n",
      "See the caveats in the documentation: https://pandas.pydata.org/pandas-docs/stable/user_guide/indexing.html#returning-a-view-versus-a-copy\n",
      "  subset_df[\"topic\"] = subset_df[\"Title\"].apply(lambda x:predict(x))\n"
     ]
    }
   ],
   "source": [
    "subset_df[\"topic\"] = subset_df[\"Title\"].apply(lambda x:predict(x))"
   ]
  },
  {
   "cell_type": "code",
   "execution_count": 27,
   "id": "2c9db12e",
   "metadata": {
    "ExecuteTime": {
     "end_time": "2025-03-07T08:19:22.850534Z",
     "start_time": "2025-03-07T08:19:22.842795Z"
    }
   },
   "outputs": [
    {
     "data": {
      "text/html": [
       "<div>\n",
       "<style scoped>\n",
       "    .dataframe tbody tr th:only-of-type {\n",
       "        vertical-align: middle;\n",
       "    }\n",
       "\n",
       "    .dataframe tbody tr th {\n",
       "        vertical-align: top;\n",
       "    }\n",
       "\n",
       "    .dataframe thead th {\n",
       "        text-align: right;\n",
       "    }\n",
       "</style>\n",
       "<table border=\"1\" class=\"dataframe\">\n",
       "  <thead>\n",
       "    <tr style=\"text-align: right;\">\n",
       "      <th></th>\n",
       "      <th>Published Date</th>\n",
       "      <th>Title</th>\n",
       "      <th>topic</th>\n",
       "    </tr>\n",
       "  </thead>\n",
       "  <tbody>\n",
       "    <tr>\n",
       "      <th>6458</th>\n",
       "      <td>2023-09-15T02:27:48Z</td>\n",
       "      <td>China’s economic data breakdowns show signs of life amid prevailing doom-and-gloom outlook</td>\n",
       "      <td>Economy</td>\n",
       "    </tr>\n",
       "    <tr>\n",
       "      <th>3333</th>\n",
       "      <td>2024-08-06T07:30:00Z</td>\n",
       "      <td>5 years’ jail for ‘key cog’ in cryptocurrency investment scam involving more than $1.8m</td>\n",
       "      <td>Crime</td>\n",
       "    </tr>\n",
       "    <tr>\n",
       "      <th>5729</th>\n",
       "      <td>2023-11-17T07:18:00Z</td>\n",
       "      <td>Australia, India at risk of becoming dumping grounds for polluting cars, report says</td>\n",
       "      <td>Economy</td>\n",
       "    </tr>\n",
       "    <tr>\n",
       "      <th>5963</th>\n",
       "      <td>2023-11-01T04:45:00Z</td>\n",
       "      <td>China's new home prices rise for second month in Oct: survey</td>\n",
       "      <td>Economy</td>\n",
       "    </tr>\n",
       "    <tr>\n",
       "      <th>1731</th>\n",
       "      <td>2024-11-16T00:24:00Z</td>\n",
       "      <td>China to retaliate if Trump boosts tariff, says ex-PBOC official</td>\n",
       "      <td>Politics</td>\n",
       "    </tr>\n",
       "  </tbody>\n",
       "</table>\n",
       "</div>"
      ],
      "text/plain": [
       "            Published Date  \\\n",
       "6458  2023-09-15T02:27:48Z   \n",
       "3333  2024-08-06T07:30:00Z   \n",
       "5729  2023-11-17T07:18:00Z   \n",
       "5963  2023-11-01T04:45:00Z   \n",
       "1731  2024-11-16T00:24:00Z   \n",
       "\n",
       "                                                                                           Title  \\\n",
       "6458  China’s economic data breakdowns show signs of life amid prevailing doom-and-gloom outlook   \n",
       "3333  5 years’ jail for ‘key cog’ in cryptocurrency investment scam involving more than $1.8m      \n",
       "5729  Australia, India at risk of becoming dumping grounds for polluting cars, report says         \n",
       "5963  China's new home prices rise for second month in Oct: survey                                 \n",
       "1731  China to retaliate if Trump boosts tariff, says ex-PBOC official                             \n",
       "\n",
       "         topic  \n",
       "6458  Economy   \n",
       "3333  Crime     \n",
       "5729  Economy   \n",
       "5963  Economy   \n",
       "1731  Politics  "
      ]
     },
     "execution_count": 27,
     "metadata": {},
     "output_type": "execute_result"
    }
   ],
   "source": [
    "subset_df.head()"
   ]
  },
  {
   "cell_type": "code",
   "execution_count": 28,
   "id": "899a9627",
   "metadata": {
    "ExecuteTime": {
     "end_time": "2025-03-07T08:19:37.092359Z",
     "start_time": "2025-03-07T08:19:37.086110Z"
    }
   },
   "outputs": [
    {
     "data": {
      "text/plain": [
       "Economy       24\n",
       "Politics      12\n",
       "Crime         5 \n",
       "Technology    4 \n",
       "Health        3 \n",
       "Science       2 \n",
       "Name: topic, dtype: int64"
      ]
     },
     "execution_count": 28,
     "metadata": {},
     "output_type": "execute_result"
    }
   ],
   "source": [
    "subset_df[\"topic\"].value_counts()"
   ]
  },
  {
   "cell_type": "code",
   "execution_count": 35,
   "id": "2c839c57",
   "metadata": {
    "ExecuteTime": {
     "end_time": "2025-03-07T08:21:50.189210Z",
     "start_time": "2025-03-07T08:21:50.183576Z"
    },
    "scrolled": true
   },
   "outputs": [
    {
     "data": {
      "text/html": [
       "<div>\n",
       "<style scoped>\n",
       "    .dataframe tbody tr th:only-of-type {\n",
       "        vertical-align: middle;\n",
       "    }\n",
       "\n",
       "    .dataframe tbody tr th {\n",
       "        vertical-align: top;\n",
       "    }\n",
       "\n",
       "    .dataframe thead th {\n",
       "        text-align: right;\n",
       "    }\n",
       "</style>\n",
       "<table border=\"1\" class=\"dataframe\">\n",
       "  <thead>\n",
       "    <tr style=\"text-align: right;\">\n",
       "      <th></th>\n",
       "      <th>Published Date</th>\n",
       "      <th>Title</th>\n",
       "      <th>topic</th>\n",
       "    </tr>\n",
       "  </thead>\n",
       "  <tbody>\n",
       "    <tr>\n",
       "      <th>3333</th>\n",
       "      <td>2024-08-06T07:30:00Z</td>\n",
       "      <td>5 years’ jail for ‘key cog’ in cryptocurrency investment scam involving more than $1.8m</td>\n",
       "      <td>Crime</td>\n",
       "    </tr>\n",
       "    <tr>\n",
       "      <th>1755</th>\n",
       "      <td>2024-11-15T02:14:00Z</td>\n",
       "      <td>UK government discloses crimes allegedly committed by foreign diplomats</td>\n",
       "      <td>Crime</td>\n",
       "    </tr>\n",
       "    <tr>\n",
       "      <th>6486</th>\n",
       "      <td>2023-09-13T13:33:06Z</td>\n",
       "      <td>Malaysia not 'some banana republic', will go \"very far\" to recover stolen 1MDB funds: PM Anwar</td>\n",
       "      <td>Crime</td>\n",
       "    </tr>\n",
       "    <tr>\n",
       "      <th>3127</th>\n",
       "      <td>2024-08-26T05:55:17Z</td>\n",
       "      <td>Jail for mastermind of crypto Ponzi scheme after investors lose S$1.1 million</td>\n",
       "      <td>Crime</td>\n",
       "    </tr>\n",
       "    <tr>\n",
       "      <th>4525</th>\n",
       "      <td>2024-05-03T09:23:00Z</td>\n",
       "      <td>Philippine ship damage, injury to crew 'irresponsible behaviour', says US Defense Secretary Austin</td>\n",
       "      <td>Crime</td>\n",
       "    </tr>\n",
       "  </tbody>\n",
       "</table>\n",
       "</div>"
      ],
      "text/plain": [
       "            Published Date  \\\n",
       "3333  2024-08-06T07:30:00Z   \n",
       "1755  2024-11-15T02:14:00Z   \n",
       "6486  2023-09-13T13:33:06Z   \n",
       "3127  2024-08-26T05:55:17Z   \n",
       "4525  2024-05-03T09:23:00Z   \n",
       "\n",
       "                                                                                                   Title  \\\n",
       "3333  5 years’ jail for ‘key cog’ in cryptocurrency investment scam involving more than $1.8m              \n",
       "1755  UK government discloses crimes allegedly committed by foreign diplomats                              \n",
       "6486  Malaysia not 'some banana republic', will go \"very far\" to recover stolen 1MDB funds: PM Anwar       \n",
       "3127  Jail for mastermind of crypto Ponzi scheme after investors lose S$1.1 million                        \n",
       "4525  Philippine ship damage, injury to crew 'irresponsible behaviour', says US Defense Secretary Austin   \n",
       "\n",
       "      topic  \n",
       "3333  Crime  \n",
       "1755  Crime  \n",
       "6486  Crime  \n",
       "3127  Crime  \n",
       "4525  Crime  "
      ]
     },
     "execution_count": 35,
     "metadata": {},
     "output_type": "execute_result"
    }
   ],
   "source": [
    "subset_df[subset_df.topic == \"Crime\"]"
   ]
  },
  {
   "cell_type": "code",
   "execution_count": 36,
   "id": "5a941fb0",
   "metadata": {
    "ExecuteTime": {
     "end_time": "2025-03-07T08:23:13.505451Z",
     "start_time": "2025-03-07T08:23:13.502719Z"
    }
   },
   "outputs": [
    {
     "name": "stderr",
     "output_type": "stream",
     "text": [
      "/tmp/ipykernel_251060/2375297318.py:1: SettingWithCopyWarning: \n",
      "A value is trying to be set on a copy of a slice from a DataFrame.\n",
      "Try using .loc[row_indexer,col_indexer] = value instead\n",
      "\n",
      "See the caveats in the documentation: https://pandas.pydata.org/pandas-docs/stable/user_guide/indexing.html#returning-a-view-versus-a-copy\n",
      "  subset_df[\"content\"] = df[\"Content\"]\n"
     ]
    }
   ],
   "source": [
    "subset_df[\"content\"] = df[\"Content\"]"
   ]
  },
  {
   "cell_type": "code",
   "execution_count": 40,
   "id": "4d524e04",
   "metadata": {
    "ExecuteTime": {
     "end_time": "2025-03-07T08:24:07.532375Z",
     "start_time": "2025-03-07T08:24:07.529935Z"
    },
    "scrolled": true
   },
   "outputs": [
    {
     "name": "stdout",
     "output_type": "stream",
     "text": [
      "Apart from a divergence among different income groups, China’s consumption trend this year is polarised among sectors, as service consumption such as concerts, tourism and catering have been better than the sale of goods – which has been more suppressed by worsening income prospects, Zhang said.\n",
      "\n",
      "Sandalwood data showed that the total booking value on two major Chinese travel platforms, Trip.com and Tongcheng Travel, hit a record high in July, thanks to the high demand during the summer holiday.\n",
      "\n",
      "Despite the slightly weakening momentum in August, it still maintained double-digit growth: in the first half of August, bookings on Trip.com increased by 85 per cent by value, year on year, and on Tongcheng Travel they increased by 60 per cent.\n",
      "\n",
      "In some major cities, the subway passenger volume has also been well above pre-pandemic levels in the past few months, though that of the top three metropolises of Beijing, Shanghai and Guangzhou have yet to fully recover to 2019’s level, according to data compiled by Wind, a Chinese financial data provider.\n",
      "\n",
      "The summer box office data also reached a new historical high this year. According to movie industry data provider Dengta, the box office in China from June to August reached 20.62 billion yuan (US$2.83 billion), compared with the previous record of 17.78 billion yuan achieved in 2019.\n",
      "\n",
      "But such high-frequency data is highly impacted by incidental factors, such as the timing of festivals, said Lu Ting, chief China economist at Nomura.\n",
      "\n",
      "“For the box office, it is highly related to the movies that are on show, so we tend to not jump to any conclusion on the economy just based on the box office,” he said, adding that movie ticket prices are also higher than before the pandemic.\n",
      "\n",
      "And the surge in subway ridership is also related to the growing infrastructure construction in the past years – with new metro lines appearing in Chinese cities, Lu added.\n",
      "\n",
      "Dan Wang, chief economist at Hang Seng Bank China, said the surge in consumer spending in tourism and entertainment – which are heavily driven by a pent-up need to get out and de-stress after COVID-19 lockdowns – is unlikely to be sustainable.\n",
      "\n",
      "“With low shares and low growth, those segments were never pillars of China’s economy, despite being highly visible,” she said. “Ultimately, those non-essential consumptions are constrained by household income, which is determined by overall economic growth.”\n",
      "\n",
      "For China’s economy, she added: “If you are looking at any place other than housing, you are wasting your time.”\n",
      "\n",
      "Economists from Capital Economics, measuring growth by tracking China’s industrial output, construction activity, traffic volume, property and car sales and electricity consumption, said the economy regained some ground in July, following a contraction in June.\n",
      "\n",
      "“But the big picture is that output has levelled off recently and that the economy could tip into a downward spiral unless policy support is ramped up soon,” they said in a note in late August.\n",
      "\n",
      "“Troubles in the property sector will weigh on confidence among homebuyers and firms for some time. And the risks to exports remain skewed to the downside. The government has responded with some policy support. But it remains too timid and slow-moving.”\n",
      "\n",
      "High-frequency data on the property sector, such as the volume of new home sales in major cities, has remained weak and shown little improvement, despite Beijing’s relaxing measures, economists said.\n"
     ]
    }
   ],
   "source": [
    "print(subset_df[\"content\"].iloc[0])"
   ]
  },
  {
   "cell_type": "code",
   "execution_count": 41,
   "id": "b4d87fa0",
   "metadata": {
    "ExecuteTime": {
     "end_time": "2025-03-07T08:25:24.970813Z",
     "start_time": "2025-03-07T08:25:24.010318Z"
    }
   },
   "outputs": [],
   "source": [
    "from langchain.chat_models import ChatOpenAI\n",
    "from langchain.schema import SystemMessage, HumanMessage\n",
    "import json"
   ]
  },
  {
   "cell_type": "code",
   "execution_count": 47,
   "id": "fb325e1f",
   "metadata": {
    "ExecuteTime": {
     "end_time": "2025-03-07T08:32:49.280214Z",
     "start_time": "2025-03-07T08:31:12.219600Z"
    }
   },
   "outputs": [],
   "source": [
    "# Set up your OpenAI API key\n",
    "\n",
    "# Initialize the LLM (GPT-4 or GPT-3.5)\n",
    "llm = ChatOpenAI(\n",
    "    openai_api_key=OPENAI_API_KEY,\n",
    "    model_name=\"gpt-3.5-turbo\",  # You can use \"gpt-3.5-turbo\" for faster results\n",
    "    temperature=0.3  # Lower temp for more factual responses\n",
    ")\n",
    "\n",
    "def extract_information(article):\n",
    "    \"\"\"\n",
    "    Extracts key information from the news article focusing on events and returns it in JSON format.\n",
    "    \"\"\"\n",
    "    system_message = SystemMessage(\n",
    "        content=\"You are an expert in news analysis. Extract and summarize key information from the given article, focusing on the main events. Respond only in JSON format.\"\n",
    "    )\n",
    "    \n",
    "    user_message = HumanMessage(\n",
    "        content=f\"\"\"\n",
    "        Extract the key information from the following news article. Focus on identifying the **main event**, **date**, **location**, **involved entities** (such as organizations, countries, or individuals), **causes**, **consequences**, and any significant **quotes or statements**.\n",
    "\n",
    "        Return the information as a JSON object with the following fields:\n",
    "        {{\n",
    "            \"main_event\": \"Brief description of the main event\",\n",
    "            \"date\": \"Date if available\",\n",
    "            \"location\": \"Location if available\",\n",
    "            \"involved_entities\": [\"List\", \"of\", \"entities\"],\n",
    "            \"cause\": \"Reason behind the event\",\n",
    "            \"consequence\": \"Outcome or impact\",\n",
    "            \"key_statement\": \"Quoted statement if relevant\"\n",
    "        }}\n",
    "\n",
    "        News Article:\n",
    "        {article}\n",
    "        \"\"\"\n",
    "    )\n",
    "\n",
    "    response = llm([system_message, user_message])\n",
    "    return response.content\n",
    "\n",
    "total_articles  = []\n",
    "\n",
    "for news_article in subset_df[\"content\"]:\n",
    "    summary_json = json.loads(extract_information(news_article))\n",
    "    total_articles.append(summary_json)"
   ]
  },
  {
   "cell_type": "code",
   "execution_count": 48,
   "id": "cee18107",
   "metadata": {
    "ExecuteTime": {
     "end_time": "2025-03-07T08:33:07.701557Z",
     "start_time": "2025-03-07T08:33:07.696146Z"
    }
   },
   "outputs": [
    {
     "data": {
      "text/plain": [
       "[{'main_event': \"Polarisation of China's consumption trend among sectors\",\n",
       "  'date': 'July to August',\n",
       "  'location': 'China',\n",
       "  'involved_entities': ['Sandalwood data',\n",
       "   'Trip.com',\n",
       "   'Tongcheng Travel',\n",
       "   'Wind (financial data provider)',\n",
       "   'Dengta (movie industry data provider)',\n",
       "   'Nomura',\n",
       "   'Hang Seng Bank China',\n",
       "   'Capital Economics'],\n",
       "  'cause': 'Worsening income prospects affecting the sale of goods, pent-up need for tourism and entertainment post-COVID-19 lockdowns',\n",
       "  'consequence': 'Record high summer box office, surge in tourism and entertainment spending, concerns about sustainability of consumer spending',\n",
       "  'key_statement': 'Ultimately, those non-essential consumptions are constrained by household income, which is determined by overall economic growth. If you are looking at any place other than housing, you are wasting your time.'},\n",
       " {'main_event': 'A&A Blockchain Innovation running a Ponzi scheme under the guise of a cryptocurrency investment scheme',\n",
       "  'date': 'August 6',\n",
       "  'location': 'Singapore',\n",
       "  'involved_entities': ['A&A Blockchain Innovation',\n",
       "   'Wang Xinghong',\n",
       "   'Yunnan Shun Ai Yun Xun Investment Holdings',\n",
       "   'Dutch national Yang Bin',\n",
       "   'Chinese national Lu Huangbin'],\n",
       "  'cause': 'Misrepresentation of owning physical mining machines and false promises of returns through cryptocurrency mining',\n",
       "  'consequence': 'Wang Xinghong sentenced to five years in jail, investors lost around $1.1 million, cases of alleged accomplices pending',\n",
       "  'key_statement': 'In reality, A&A did not enter into an agreement with Yunan Holdings to acquire 70 per cent ownership of 300,000 mining machines. In fact, A&A did not mine cryptocurrency to generate revenue.'},\n",
       " {'main_event': 'Warning of a potential glut of used gasoline cars due to slow adoption of electric vehicles',\n",
       "  'date': 'Date not specified',\n",
       "  'location': 'London-based report with global implications',\n",
       "  'involved_entities': ['Carbon Tracker',\n",
       "   'China',\n",
       "   'North America',\n",
       "   'Europe',\n",
       "   'India',\n",
       "   'Australia',\n",
       "   'Thailand',\n",
       "   'Turkey',\n",
       "   'Indonesia',\n",
       "   'Malaysia',\n",
       "   'Russia',\n",
       "   'South Africa',\n",
       "   'Africa',\n",
       "   'Asia',\n",
       "   'South America'],\n",
       "  'cause': 'Slow adoption of electric vehicles and lack of clear decarbonization targets in certain countries',\n",
       "  'consequence': 'Potential financial burden on developing nations due to importing transport fuels, opportunity for economic growth through EV adoption',\n",
       "  'key_statement': 'Countries slow to adopt electric vehicles may end up with a glut of used gasoline cars if they fail to accelerate the shift to electrification.'},\n",
       " {'main_event': \"China's new home prices rose for a second straight month in October, with more supportive measures needed for major cities\",\n",
       "  'date': 'October',\n",
       "  'location': 'China',\n",
       "  'involved_entities': ['China Index Academy',\n",
       "   'Central Financial Work Conference',\n",
       "   'China Evergrande',\n",
       "   'J.P. Morgan'],\n",
       "  'cause': 'Liquidity crisis in the property sector since 2021',\n",
       "  'consequence': 'Efforts to reassure investors and homeowners, China Evergrande facing debt restructuring challenges',\n",
       "  'key_statement': 'The latest remarks from the National Financial Work Conference offer no surprise with no new concrete measure to mitigate sector risk. We stay cautious on the sector.'},\n",
       " {'main_event': 'Potential trade conflict between China and the US over tariffs',\n",
       "  'date': 'Nov 15',\n",
       "  'location': 'China, US',\n",
       "  'involved_entities': ['China',\n",
       "   'US',\n",
       "   'World Trade Organisation',\n",
       "   'People’s Bank of China',\n",
       "   'National Institute of Financial Research at Tsinghua University',\n",
       "   'International Monetary Fund'],\n",
       "  'cause': 'Threat of imposing a 60 per cent tariff on Chinese imports by US President-elect Donald Trump',\n",
       "  'consequence': 'Possible retaliation from China impacting currency, capital flow, and demand for US Treasuries',\n",
       "  'key_statement': 'If Trump and the administration really levy a 60 per cent tariff on China, I think China will retaliate'},\n",
       " {'main_event': \"John Kerry, President Joe Biden's special envoy for climate, faced accusations from US Republicans of being soft on China as he prepared to travel to Beijing for climate talks.\",\n",
       "  'date': 'Not specified',\n",
       "  'location': 'Washington, Beijing',\n",
       "  'involved_entities': ['John Kerry',\n",
       "   'President Joe Biden',\n",
       "   'US Republicans',\n",
       "   'China',\n",
       "   'House Committee on Foreign Affairs panel'],\n",
       "  'cause': 'Accusations of not doing enough to persuade China to cut greenhouse gas emissions and negotiating with China at the expense of US interests.',\n",
       "  'consequence': 'Highlighting the challenges in US-China climate cooperation, the lack of leverage to pressure China, and the need for dialogue between the two countries.',\n",
       "  'key_statement': \"Mr Kerry insisted it would be 'malpractice of the highest order, diplomatic and political', for the US not to hold talks with China.\"},\n",
       " {'main_event': 'China bans senior executives of two US defence companies and freezes their property in response to arms sales to Taiwan',\n",
       "  'date': 'April 11',\n",
       "  'location': 'China',\n",
       "  'involved_entities': ['China',\n",
       "   'General Atomics Aeronautical Systems',\n",
       "   'General Dynamics Land Systems',\n",
       "   'Taiwan',\n",
       "   'United States'],\n",
       "  'cause': \"Arms sales to Taiwan perceived as interference in China's internal affairs and violation of sovereignty\",\n",
       "  'consequence': \"Ban on executives' entry to China and freezing of their properties\",\n",
       "  'key_statement': \"China said the arms sales 'seriously interferes' in its internal affairs and 'damages' China’s sovereignty and territorial integrity.\"},\n",
       " {'main_event': 'Warning by UN Secretary-General against a new atomic arms race and the threat of annihilation to the world',\n",
       "  'date': 'Not specified',\n",
       "  'location': 'United Nations, New York',\n",
       "  'involved_entities': ['United Nations',\n",
       "   'North Korea',\n",
       "   'United States',\n",
       "   'Russia',\n",
       "   'China',\n",
       "   'South Korea',\n",
       "   'DPRK (North Korea)',\n",
       "   'Republic of Korea',\n",
       "   'Stockholm International Peace Research Institute (SIPRI)'],\n",
       "  'cause': 'Expansion and modernization of nuclear arsenals by nuclear-armed nations',\n",
       "  'consequence': 'Rising concerns of a new arms race and the potential humanitarian catastrophe of nuclear weapon use',\n",
       "  'key_statement': 'Any use of a nuclear weapon – anytime, anywhere and in any context – would unleash a humanitarian catastrophe of epic proportions'},\n",
       " {'main_event': \"US President Donald Trump slaps new tariffs on Chinese goods in response to Beijing's alleged role in the deadly opioid epidemic in the United States.\",\n",
       "  'date': 'October 2023',\n",
       "  'location': 'United States, China',\n",
       "  'involved_entities': ['US Government',\n",
       "   'Chinese Government',\n",
       "   'Drug Enforcement Agency',\n",
       "   \"Former President Joe Biden's administration\",\n",
       "   'China-based entities and individuals',\n",
       "   'Wuhan-based company',\n",
       "   'Hong Kong firms',\n",
       "   'Mexican cartels'],\n",
       "  'cause': 'Alleged role of China in the fentanyl trade leading to deaths in the US',\n",
       "  'consequence': 'Sanctions imposed on China-based entities, talks between US and China on drug control, uncertainty on the effectiveness of tariffs',\n",
       "  'key_statement': \"China's foreign ministry warned that Washington should 'not take China's goodwill for granted'.\"},\n",
       " {'main_event': \"Proposed European Union tariffs on Chinese goods discussed by Germany's Economy Minister Robert Habeck in Beijing\",\n",
       "  'date': 'June 22',\n",
       "  'location': 'Beijing',\n",
       "  'involved_entities': ['European Union',\n",
       "   'Germany',\n",
       "   'China',\n",
       "   'United States',\n",
       "   'Brazil',\n",
       "   'Turkey'],\n",
       "  'cause': \"EU's concerns over excessive subsidies for Chinese-made electric vehicles\",\n",
       "  'consequence': 'Risk of escalating frictions and potential trade war between EU and China',\n",
       "  'key_statement': \"Mr Habeck said, 'It is important to understand that these are not punitive tariffs.'\"}]"
      ]
     },
     "execution_count": 48,
     "metadata": {},
     "output_type": "execute_result"
    }
   ],
   "source": [
    "total_articles[:10]"
   ]
  },
  {
   "cell_type": "code",
   "execution_count": 60,
   "id": "c6913cf4",
   "metadata": {
    "ExecuteTime": {
     "end_time": "2025-03-07T08:44:18.548085Z",
     "start_time": "2025-03-07T08:44:18.544912Z"
    }
   },
   "outputs": [],
   "source": [
    "# Create triples\n",
    "triples = []\n",
    "for item in total_articles:\n",
    "    event = item[\"main_event\"]\n",
    "    if item[\"involved_entities\"]:\n",
    "        for entity in item[\"involved_entities\"]:\n",
    "            triples.append((event, \"INVOLVES\", entity))\n",
    "    if item[\"cause\"]:\n",
    "        triples.append((event, \"CAUSES\", item[\"cause\"]))\n",
    "    if item[\"consequence\"]:\n",
    "        triples.append((event, \"LEADS_TO\", item[\"consequence\"]))\n",
    "    if item[\"location\"]:\n",
    "        for loc in item[\"location\"]:\n",
    "            triples.append((event, \"HAPPENED_AT\", loc))"
   ]
  },
  {
   "cell_type": "code",
   "execution_count": 61,
   "id": "f7ff0558",
   "metadata": {
    "ExecuteTime": {
     "end_time": "2025-03-07T08:44:19.942484Z",
     "start_time": "2025-03-07T08:44:19.939380Z"
    },
    "scrolled": true
   },
   "outputs": [
    {
     "data": {
      "text/plain": [
       "[(\"Polarisation of China's consumption trend among sectors\",\n",
       "  'INVOLVES',\n",
       "  'Sandalwood data'),\n",
       " (\"Polarisation of China's consumption trend among sectors\",\n",
       "  'INVOLVES',\n",
       "  'Trip.com'),\n",
       " (\"Polarisation of China's consumption trend among sectors\",\n",
       "  'INVOLVES',\n",
       "  'Tongcheng Travel'),\n",
       " (\"Polarisation of China's consumption trend among sectors\",\n",
       "  'INVOLVES',\n",
       "  'Wind (financial data provider)'),\n",
       " (\"Polarisation of China's consumption trend among sectors\",\n",
       "  'INVOLVES',\n",
       "  'Dengta (movie industry data provider)'),\n",
       " (\"Polarisation of China's consumption trend among sectors\",\n",
       "  'INVOLVES',\n",
       "  'Nomura'),\n",
       " (\"Polarisation of China's consumption trend among sectors\",\n",
       "  'INVOLVES',\n",
       "  'Hang Seng Bank China'),\n",
       " (\"Polarisation of China's consumption trend among sectors\",\n",
       "  'INVOLVES',\n",
       "  'Capital Economics'),\n",
       " (\"Polarisation of China's consumption trend among sectors\",\n",
       "  'CAUSES',\n",
       "  'Worsening income prospects affecting the sale of goods, pent-up need for tourism and entertainment post-COVID-19 lockdowns'),\n",
       " (\"Polarisation of China's consumption trend among sectors\",\n",
       "  'LEADS_TO',\n",
       "  'Record high summer box office, surge in tourism and entertainment spending, concerns about sustainability of consumer spending')]"
      ]
     },
     "execution_count": 61,
     "metadata": {},
     "output_type": "execute_result"
    }
   ],
   "source": [
    "triples[:10]"
   ]
  },
  {
   "cell_type": "code",
   "execution_count": 62,
   "id": "a800d568",
   "metadata": {
    "ExecuteTime": {
     "end_time": "2025-03-07T08:44:22.214100Z",
     "start_time": "2025-03-07T08:44:22.212348Z"
    }
   },
   "outputs": [],
   "source": [
    "from neo4j import GraphDatabase"
   ]
  },
  {
   "cell_type": "code",
   "execution_count": 65,
   "id": "fd6a8faa",
   "metadata": {
    "ExecuteTime": {
     "end_time": "2025-03-07T08:53:08.348299Z",
     "start_time": "2025-03-07T08:52:18.106423Z"
    }
   },
   "outputs": [
    {
     "name": "stderr",
     "output_type": "stream",
     "text": [
      "/tmp/ipykernel_251060/2954216185.py:14: DeprecationWarning: write_transaction has been renamed to execute_write\n",
      "  session.write_transaction(create_relationship, triple)\n"
     ]
    }
   ],
   "source": [
    "from neo4j import GraphDatabase\n",
    "\n",
    "# Create a driver with encrypted connection for Neo4j Aura\n",
    "driver = GraphDatabase.driver(NEO4J_URI, auth=(NEO4J_USERNAME, NEO4J_PASSWORD))\n",
    "\n",
    "def load_triples(triples):\n",
    "    try:\n",
    "        with driver.session() as session:\n",
    "            for triple in triples:\n",
    "                session.write_transaction(create_relationship, triple)\n",
    "    except Exception as e:\n",
    "        print(f\"Error: {e}\")\n",
    "    finally:\n",
    "        driver.close()\n",
    "\n",
    "def create_relationship(tx, triple):\n",
    "    # Use dynamic relationship type\n",
    "    query = f\"\"\"\n",
    "    MERGE (a:Event {{name: $a}})\n",
    "    MERGE (b:Event {{name: $b}})\n",
    "    MERGE (a)-[:{triple[1]}]->(b)\n",
    "    \"\"\"\n",
    "    params = {\"a\": triple[0], \"b\": triple[2]}\n",
    "    tx.run(query, params)\n",
    "\n",
    "\n",
    "load_triples(triples)"
   ]
  },
  {
   "cell_type": "code",
   "execution_count": null,
   "id": "ab620e34",
   "metadata": {},
   "outputs": [],
   "source": []
  }
 ],
 "metadata": {
  "kernelspec": {
   "display_name": "Python 3 (ipykernel)",
   "language": "python",
   "name": "python3"
  },
  "language_info": {
   "codemirror_mode": {
    "name": "ipython",
    "version": 3
   },
   "file_extension": ".py",
   "mimetype": "text/x-python",
   "name": "python",
   "nbconvert_exporter": "python",
   "pygments_lexer": "ipython3",
   "version": "3.10.9"
  },
  "toc": {
   "base_numbering": 1,
   "nav_menu": {},
   "number_sections": true,
   "sideBar": true,
   "skip_h1_title": false,
   "title_cell": "Table of Contents",
   "title_sidebar": "Contents",
   "toc_cell": false,
   "toc_position": {
    "height": "calc(100% - 180px)",
    "left": "10px",
    "top": "150px",
    "width": "165px"
   },
   "toc_section_display": true,
   "toc_window_display": true
  },
  "varInspector": {
   "cols": {
    "lenName": 16,
    "lenType": 16,
    "lenVar": 40
   },
   "kernels_config": {
    "python": {
     "delete_cmd_postfix": "",
     "delete_cmd_prefix": "del ",
     "library": "var_list.py",
     "varRefreshCmd": "print(var_dic_list())"
    },
    "r": {
     "delete_cmd_postfix": ") ",
     "delete_cmd_prefix": "rm(",
     "library": "var_list.r",
     "varRefreshCmd": "cat(var_dic_list()) "
    }
   },
   "types_to_exclude": [
    "module",
    "function",
    "builtin_function_or_method",
    "instance",
    "_Feature"
   ],
   "window_display": false
  }
 },
 "nbformat": 4,
 "nbformat_minor": 5
}
