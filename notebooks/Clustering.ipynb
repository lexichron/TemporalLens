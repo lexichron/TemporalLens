{
 "cells": [
  {
   "cell_type": "markdown",
   "id": "9477e51a-9a40-4bf4-9ecb-02bc84d396dc",
   "metadata": {},
   "source": [
    "# Topic Clustering\n",
    "\n",
    "1. Use an embedding model, e.g., bge-en-base-v1.5 to extract embedding vector of each event.\n",
    "2. Use t-SNE to visualize the manifold of all articles."
   ]
  },
  {
   "cell_type": "code",
   "execution_count": 1,
   "id": "d4e0d91b-b370-4fd3-b8ba-c32ce05fe7c5",
   "metadata": {},
   "outputs": [],
   "source": [
    "%load_ext autoreload\n",
    "%autoreload 2"
   ]
  },
  {
   "cell_type": "code",
   "execution_count": 2,
   "id": "da66c180-139b-477c-a0b0-071d2b6d2d4a",
   "metadata": {},
   "outputs": [
    {
     "name": "stdout",
     "output_type": "stream",
     "text": [
      "/mnt/raid-s3/usr/khoa/dev/TemporalLens/.venv/bin/python\n"
     ]
    }
   ],
   "source": [
    "!which python"
   ]
  },
  {
   "cell_type": "code",
   "execution_count": 3,
   "id": "2782fd71-2ed4-4daa-a83a-a66712690a73",
   "metadata": {},
   "outputs": [],
   "source": [
    "import pandas as pd\n",
    "from FlagEmbedding import FlagModel\n",
    "from transformers import AutoTokenizer, AutoModel\n",
    "from tqdm.notebook import tqdm\n",
    "from sklearn.manifold import TSNE\n",
    "import matplotlib.pyplot as plt\n",
    "import torch\n",
    "import json\n",
    "from more_itertools import chunked, flatten\n",
    "import faiss\n",
    "from UF import UF\n",
    "import numpy as np\n",
    "import seaborn as sns\n",
    "\n",
    "pd.set_option('max_colwidth', 100)"
   ]
  },
  {
   "cell_type": "code",
   "execution_count": 4,
   "id": "6e866a8f-d83a-40c0-88e0-b4a1690f3f82",
   "metadata": {},
   "outputs": [
    {
     "data": {
      "text/plain": [
       "True"
      ]
     },
     "execution_count": 4,
     "metadata": {},
     "output_type": "execute_result"
    }
   ],
   "source": [
    "torch.cuda.is_available()"
   ]
  },
  {
   "cell_type": "code",
   "execution_count": 5,
   "id": "d7b8f345-06f9-43b0-b6e6-aedebbf611ce",
   "metadata": {},
   "outputs": [],
   "source": [
    "def create_input_text(d: dict) -> str:\n",
    "    event_type = d[\"event_type\"].lower()\n",
    "    trigger = d[\"trigger\"].lower()\n",
    "    summary = d[\"event_summary\"].lower()\n",
    "    return f\"Event type: {event_type}. Trigger: {trigger}. Summary: {summary}\""
   ]
  },
  {
   "cell_type": "code",
   "execution_count": 6,
   "id": "0e7b8897-de3f-4680-a04c-92081f1fb651",
   "metadata": {},
   "outputs": [],
   "source": [
    "articles = json.load(open(\"../data/events.json\"))"
   ]
  },
  {
   "cell_type": "code",
   "execution_count": 7,
   "id": "58e1a782-03cb-453a-8c25-d9bd58dcba6f",
   "metadata": {},
   "outputs": [],
   "source": [
    "events = []\n",
    "idx = 0\n",
    "for article in articles:\n",
    "    for event in article[\"events\"]:\n",
    "        cur_idx = idx\n",
    "        event['event_id'] = cur_idx\n",
    "        for dep in event['dependencies']:\n",
    "            dep['event_id'] = cur_idx + dep['event_id'] - 1\n",
    "        idx += 1\n",
    "        events.append(event)"
   ]
  },
  {
   "cell_type": "code",
   "execution_count": 8,
   "id": "1923497e-b2b8-4e35-bc2d-dd329fba21f8",
   "metadata": {},
   "outputs": [],
   "source": [
    "input_texts = [create_input_text(event) for event in events]"
   ]
  },
  {
   "cell_type": "code",
   "execution_count": 9,
   "id": "2021ff41-4eeb-4eab-8184-d4d075585ea1",
   "metadata": {},
   "outputs": [],
   "source": [
    "events_df = pd.DataFrame(events)"
   ]
  },
  {
   "cell_type": "markdown",
   "id": "72e2d39c-fb49-45a3-b837-317d6836ef4d",
   "metadata": {},
   "source": [
    "# Event Embedding Extraction"
   ]
  },
  {
   "cell_type": "code",
   "execution_count": 10,
   "id": "79050cdd-dd8d-43a9-b7e6-1a381e3ca668",
   "metadata": {},
   "outputs": [
    {
     "name": "stdout",
     "output_type": "stream",
     "text": [
      "----------using 10*GPUs----------\n"
     ]
    },
    {
     "data": {
      "text/plain": [
       "DataParallel(\n",
       "  (module): BertModel(\n",
       "    (embeddings): BertEmbeddings(\n",
       "      (word_embeddings): Embedding(30522, 768, padding_idx=0)\n",
       "      (position_embeddings): Embedding(512, 768)\n",
       "      (token_type_embeddings): Embedding(2, 768)\n",
       "      (LayerNorm): LayerNorm((768,), eps=1e-12, elementwise_affine=True)\n",
       "      (dropout): Dropout(p=0.1, inplace=False)\n",
       "    )\n",
       "    (encoder): BertEncoder(\n",
       "      (layer): ModuleList(\n",
       "        (0-11): 12 x BertLayer(\n",
       "          (attention): BertAttention(\n",
       "            (self): BertSelfAttention(\n",
       "              (query): Linear(in_features=768, out_features=768, bias=True)\n",
       "              (key): Linear(in_features=768, out_features=768, bias=True)\n",
       "              (value): Linear(in_features=768, out_features=768, bias=True)\n",
       "              (dropout): Dropout(p=0.1, inplace=False)\n",
       "            )\n",
       "            (output): BertSelfOutput(\n",
       "              (dense): Linear(in_features=768, out_features=768, bias=True)\n",
       "              (LayerNorm): LayerNorm((768,), eps=1e-12, elementwise_affine=True)\n",
       "              (dropout): Dropout(p=0.1, inplace=False)\n",
       "            )\n",
       "          )\n",
       "          (intermediate): BertIntermediate(\n",
       "            (dense): Linear(in_features=768, out_features=3072, bias=True)\n",
       "            (intermediate_act_fn): GELUActivation()\n",
       "          )\n",
       "          (output): BertOutput(\n",
       "            (dense): Linear(in_features=3072, out_features=768, bias=True)\n",
       "            (LayerNorm): LayerNorm((768,), eps=1e-12, elementwise_affine=True)\n",
       "            (dropout): Dropout(p=0.1, inplace=False)\n",
       "          )\n",
       "        )\n",
       "      )\n",
       "    )\n",
       "    (pooler): BertPooler(\n",
       "      (dense): Linear(in_features=768, out_features=768, bias=True)\n",
       "      (activation): Tanh()\n",
       "    )\n",
       "  )\n",
       ")"
      ]
     },
     "execution_count": 10,
     "metadata": {},
     "output_type": "execute_result"
    }
   ],
   "source": [
    "bge = FlagModel(\"BAAI/bge-base-en-v1.5\", use_fp16=True)\n",
    "bge.model.to(\"cuda\")\n",
    "# bge.device = torch.device(\"cpu\")\n"
   ]
  },
  {
   "cell_type": "code",
   "execution_count": 11,
   "id": "b9159dfa-68a5-4071-b9fe-d677980475b3",
   "metadata": {},
   "outputs": [
    {
     "name": "stderr",
     "output_type": "stream",
     "text": [
      "Inference Embeddings: 100%|███████████████████████████████████████████████████████████████████████████████████████████████████████████████████████████████████████████████████| 14/14 [00:12<00:00,  1.09it/s]\n"
     ]
    }
   ],
   "source": [
    "embeddings = bge.encode(input_texts)\n",
    "#embeddings = [encode(chunk) for chunk in tqdm(list(chunked(articles, 10)))]"
   ]
  },
  {
   "cell_type": "code",
   "execution_count": 12,
   "id": "03c82b45-97ba-4f6a-b50a-f45e8fcf0ac0",
   "metadata": {},
   "outputs": [],
   "source": [
    "events_df['bge_embedding'] = embeddings.tolist()"
   ]
  },
  {
   "cell_type": "code",
   "execution_count": 13,
   "id": "ea9bd2dd-9284-41ea-bc06-606753cc5b6a",
   "metadata": {},
   "outputs": [],
   "source": [
    "events_df.to_parquet(\"../data/emb_output.parquet\", engine=\"pyarrow\")"
   ]
  },
  {
   "cell_type": "markdown",
   "id": "0c61a99a-bd18-4f54-b443-0f92bb560385",
   "metadata": {},
   "source": [
    "# Event Clustering"
   ]
  },
  {
   "cell_type": "code",
   "execution_count": 14,
   "id": "7092afe5-5925-4e96-8280-c32bd02c23f0",
   "metadata": {},
   "outputs": [],
   "source": [
    "events_df['event_id'] = np.arange(len(events_df))"
   ]
  },
  {
   "cell_type": "code",
   "execution_count": 15,
   "id": "405f32eb-e686-4857-8e4d-651f20763c8f",
   "metadata": {},
   "outputs": [],
   "source": [
    "D = 768\n",
    "K = 768//2\n",
    "index = faiss.IndexPQ(D, K, 8)"
   ]
  },
  {
   "cell_type": "code",
   "execution_count": 16,
   "id": "d1535d5e-fdc7-4cf7-9a2c-84250686c204",
   "metadata": {},
   "outputs": [],
   "source": [
    "index.train(embeddings)\n",
    "index.add(embeddings)"
   ]
  },
  {
   "cell_type": "code",
   "execution_count": 17,
   "id": "97961bee-5a2c-421e-bf68-b1abc8e3042e",
   "metadata": {},
   "outputs": [],
   "source": [
    "TOP_K = 100\n",
    "distance_matrix, index_matrix = index.search(np.array(embeddings), TOP_K)"
   ]
  },
  {
   "cell_type": "code",
   "execution_count": 18,
   "id": "e1b6b466-41bc-46ba-ab6d-8c32ad70b2a7",
   "metadata": {},
   "outputs": [
    {
     "data": {
      "application/vnd.jupyter.widget-view+json": {
       "model_id": "b41126c43a4f40ecbb5b9accc7523914",
       "version_major": 2,
       "version_minor": 0
      },
      "text/plain": [
       "0it [00:00, ?it/s]"
      ]
     },
     "metadata": {},
     "output_type": "display_data"
    }
   ],
   "source": [
    "THRESHOLD = 0.1\n",
    "N = len(events_df)\n",
    "uf = UF(N)\n",
    "events_df['cluster_id'] = events_df['event_id']\n",
    "for cur_i, (distances, indexes) in tqdm(enumerate(zip(distance_matrix, index_matrix))):\n",
    "    for d, i in zip(distances, indexes):\n",
    "        if d >= THRESHOLD: break\n",
    "        uf.union(events_df.iloc[cur_i].event_id, events_df.iloc[i].event_id) "
   ]
  },
  {
   "cell_type": "code",
   "execution_count": 19,
   "id": "9c1c83b4-415d-4214-ad48-930938163178",
   "metadata": {},
   "outputs": [],
   "source": [
    "# reassign cluster_id\n",
    "events_df['cluster_id'] = events_df['cluster_id'].apply(uf.find)"
   ]
  },
  {
   "cell_type": "code",
   "execution_count": 20,
   "id": "01e9049c-8264-4422-8908-845cabe7e2c5",
   "metadata": {},
   "outputs": [
    {
     "data": {
      "text/plain": [
       "cluster_id\n",
       "272      155\n",
       "23168     73\n",
       "33954     40\n",
       "25670     26\n",
       "21870     25\n",
       "        ... \n",
       "11731      1\n",
       "11730      1\n",
       "11729      1\n",
       "11728      1\n",
       "11744      1\n",
       "Name: count, Length: 31996, dtype: int64"
      ]
     },
     "execution_count": 20,
     "metadata": {},
     "output_type": "execute_result"
    }
   ],
   "source": [
    "events_df['cluster_id'].value_counts()"
   ]
  },
  {
   "cell_type": "code",
   "execution_count": 21,
   "id": "6c51c3da-ee55-43bf-a6d2-a0a8b2a37236",
   "metadata": {},
   "outputs": [],
   "source": [
    "def plot_2d(events_df, perplexity=5):\n",
    "   tsne = TSNE(n_components=2, random_state=42, perplexity=perplexity)  # Adjust perplexity based on your dataset\n",
    "   embeddings = np.array(events_df['bge_embedding'].tolist())\n",
    "   embeddings_2d = tsne.fit_transform(embeddings)\n",
    "   events_df.loc[:, 'x'] = embeddings_2d[:, 0]\n",
    "   events_df.loc[:, 'y'] = embeddings_2d[:, 1]\n",
    "   sns.scatterplot(events_df, x='x', y='y', hue='cluster_id', s=10, palette=\"deep\")"
   ]
  },
  {
   "cell_type": "code",
   "execution_count": 22,
   "id": "66bbcbdf-c86b-450e-acd9-576937eb40e9",
   "metadata": {},
   "outputs": [],
   "source": [
    "top_clusters = events_df['cluster_id'].value_counts().head(10).index\n",
    "top_events = events_df[events_df.cluster_id.isin(top_clusters)]"
   ]
  },
  {
   "cell_type": "code",
   "execution_count": 23,
   "id": "24e68e36-a019-4701-a0f8-87eca08ceb27",
   "metadata": {},
   "outputs": [
    {
     "name": "stderr",
     "output_type": "stream",
     "text": [
      "/mnt/raid-s3/usr/khoa/dev/TemporalLens/.venv/lib/python3.10/site-packages/sklearn/manifold/_t_sne.py:780: FutureWarning: The default initialization in TSNE will change from 'random' to 'pca' in 1.2.\n",
      "  warnings.warn(\n",
      "/mnt/raid-s3/usr/khoa/dev/TemporalLens/.venv/lib/python3.10/site-packages/sklearn/manifold/_t_sne.py:790: FutureWarning: The default learning rate in TSNE will change from 200.0 to 'auto' in 1.2.\n",
      "  warnings.warn(\n",
      "/tmp/ipykernel_2082207/4258725280.py:5: SettingWithCopyWarning: \n",
      "A value is trying to be set on a copy of a slice from a DataFrame.\n",
      "Try using .loc[row_indexer,col_indexer] = value instead\n",
      "\n",
      "See the caveats in the documentation: https://pandas.pydata.org/pandas-docs/stable/user_guide/indexing.html#returning-a-view-versus-a-copy\n",
      "  events_df.loc[:, 'x'] = embeddings_2d[:, 0]\n",
      "/tmp/ipykernel_2082207/4258725280.py:6: SettingWithCopyWarning: \n",
      "A value is trying to be set on a copy of a slice from a DataFrame.\n",
      "Try using .loc[row_indexer,col_indexer] = value instead\n",
      "\n",
      "See the caveats in the documentation: https://pandas.pydata.org/pandas-docs/stable/user_guide/indexing.html#returning-a-view-versus-a-copy\n",
      "  events_df.loc[:, 'y'] = embeddings_2d[:, 1]\n"
     ]
    },
    {
     "data": {
      "image/png": "[encoded data removed]",
      "text/plain": [
       "<Figure size 640x480 with 1 Axes>"
      ]
     },
     "metadata": {},
     "output_type": "display_data"
    }
   ],
   "source": [
    "plot_2d(top_events)"
   ]
  },
  {
   "cell_type": "code",
   "execution_count": 24,
   "id": "57ab2528-8dfd-4eec-b86f-c6ec76f7f0d6",
   "metadata": {},
   "outputs": [],
   "source": [
    "events_df.drop(columns=['bge_embedding']).to_parquet(\"../data/cluster_output.parquet\", engine=\"pyarrow\")"
   ]
  },
  {
   "cell_type": "code",
   "execution_count": null,
   "id": "6a70ddd5-614c-44ed-8417-43b580cd2405",
   "metadata": {},
   "outputs": [],
   "source": []
  }
 ],
 "metadata": {
  "kernelspec": {
   "display_name": "Python 3 (ipykernel)",
   "language": "python",
   "name": "python3"
  },
  "language_info": {
   "codemirror_mode": {
    "name": "ipython",
    "version": 3
   },
   "file_extension": ".py",
   "mimetype": "text/x-python",
   "name": "python",
   "nbconvert_exporter": "python",
   "pygments_lexer": "ipython3",
   "version": "3.10.16"
  }
 },
 "nbformat": 4,
 "nbformat_minor": 5
}
