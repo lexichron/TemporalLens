{
 "cells": [
  {
   "cell_type": "markdown",
   "id": "9477e51a-9a40-4bf4-9ecb-02bc84d396dc",
   "metadata": {},
   "source": [
    "# Topic Clustering\n",
    "\n",
    "1. Use an embedding model, e.g., bge-en-base-v1.5 to extract embedding vector of each event.\n",
    "2. Use t-SNE to visualize the manifold of all articles."
   ]
  },
  {
   "cell_type": "code",
   "execution_count": 1,
   "id": "d4e0d91b-b370-4fd3-b8ba-c32ce05fe7c5",
   "metadata": {},
   "outputs": [
    {
     "name": "stdout",
     "output_type": "stream",
     "text": [
      "env: CUDA_VISIBLE_DEVICES='8'\n"
     ]
    }
   ],
   "source": [
    "%load_ext autoreload\n",
    "%autoreload 2\n",
    "%env CUDA_VISIBLE_DEVICES='8'"
   ]
  },
  {
   "cell_type": "code",
   "execution_count": 79,
   "id": "2782fd71-2ed4-4daa-a83a-a66712690a73",
   "metadata": {},
   "outputs": [],
   "source": [
    "import pandas as pd\n",
    "from FlagEmbedding import FlagModel\n",
    "from transformers import AutoTokenizer, AutoModel\n",
    "from tqdm.notebook import tqdm\n",
    "from sklearn.manifold import TSNE\n",
    "import matplotlib.pyplot as plt\n",
    "import torch\n",
    "import json\n",
    "from more_itertools import chunked, flatten\n",
    "import faiss\n",
    "from UF import UF\n",
    "import numpy as np\n",
    "import seaborn as sns\n",
    "\n",
    "pd.set_option('max_colwidth', 100)\n",
    "\n",
    "\n",
    "# torch.cuda.is_available = lambda: False\n",
    "# torch.cuda.device_count = lambda: 0"
   ]
  },
  {
   "cell_type": "code",
   "execution_count": 6,
   "id": "d7b8f345-06f9-43b0-b6e6-aedebbf611ce",
   "metadata": {},
   "outputs": [],
   "source": [
    "def create_input_text(d: dict) -> str:\n",
    "    event_type = d[\"event_type\"].lower()\n",
    "    trigger = d[\"trigger\"].lower()\n",
    "    summary = d[\"event_summary\"].lower()\n",
    "    return f\"Event type: {event_type}. Trigger: {trigger}. Summary: {summary}\""
   ]
  },
  {
   "cell_type": "code",
   "execution_count": 7,
   "id": "0e7b8897-de3f-4680-a04c-92081f1fb651",
   "metadata": {},
   "outputs": [],
   "source": [
    "articles = json.load(open(\"../data/events.json\"))"
   ]
  },
  {
   "cell_type": "code",
   "execution_count": 8,
   "id": "1923497e-b2b8-4e35-bc2d-dd329fba21f8",
   "metadata": {},
   "outputs": [],
   "source": [
    "events = list(flatten(article[\"events\"] for article in articles))\n",
    "input_texts = [create_input_text(event) for event in events]"
   ]
  },
  {
   "cell_type": "code",
   "execution_count": 10,
   "id": "2021ff41-4eeb-4eab-8184-d4d075585ea1",
   "metadata": {},
   "outputs": [],
   "source": [
    "events_df = pd.DataFrame(events)"
   ]
  },
  {
   "cell_type": "code",
   "execution_count": 11,
   "id": "90186826-f17a-40ef-93e2-ad3596f0eebe",
   "metadata": {},
   "outputs": [
    {
     "data": {
      "text/html": [
       "<div>\n",
       "<style scoped>\n",
       "    .dataframe tbody tr th:only-of-type {\n",
       "        vertical-align: middle;\n",
       "    }\n",
       "\n",
       "    .dataframe tbody tr th {\n",
       "        vertical-align: top;\n",
       "    }\n",
       "\n",
       "    .dataframe thead th {\n",
       "        text-align: right;\n",
       "    }\n",
       "</style>\n",
       "<table border=\"1\" class=\"dataframe\">\n",
       "  <thead>\n",
       "    <tr style=\"text-align: right;\">\n",
       "      <th></th>\n",
       "      <th>event_id</th>\n",
       "      <th>event_type</th>\n",
       "      <th>trigger</th>\n",
       "      <th>event_summary</th>\n",
       "      <th>arguments</th>\n",
       "      <th>dependencies</th>\n",
       "    </tr>\n",
       "  </thead>\n",
       "  <tbody>\n",
       "    <tr>\n",
       "      <th>0</th>\n",
       "      <td>1</td>\n",
       "      <td>Economic Warning</td>\n",
       "      <td>warn of inflation risks</td>\n",
       "      <td>Federal Reserve officials warned that the Trum...</td>\n",
       "      <td>{'agent': 'Federal Reserve officials', 'object...</td>\n",
       "      <td>[]</td>\n",
       "    </tr>\n",
       "    <tr>\n",
       "      <th>1</th>\n",
       "      <td>2</td>\n",
       "      <td>Trade Policy</td>\n",
       "      <td>slapped tariffs</td>\n",
       "      <td>President Trump announced new tariffs on the t...</td>\n",
       "      <td>{'agent': 'President Trump', 'object': 'goods ...</td>\n",
       "      <td>[]</td>\n",
       "    </tr>\n",
       "    <tr>\n",
       "      <th>2</th>\n",
       "      <td>3</td>\n",
       "      <td>Diplomatic Agreement</td>\n",
       "      <td>suspending the tariffs</td>\n",
       "      <td>Trump agreed to suspend tariffs on Mexico and ...</td>\n",
       "      <td>{'agent': 'President Trump', 'object': 'tariff...</td>\n",
       "      <td>[{'event_id': 2, 'relation_type': 'RESPONSE_TO...</td>\n",
       "    </tr>\n",
       "    <tr>\n",
       "      <th>3</th>\n",
       "      <td>4</td>\n",
       "      <td>Economic Analysis</td>\n",
       "      <td>will push up inflation and depress growth</td>\n",
       "      <td>Economists predict the new tariffs will increa...</td>\n",
       "      <td>{'agent': 'Economists', 'object': 'US economy'...</td>\n",
       "      <td>[{'event_id': 2, 'relation_type': 'CONSEQUENCE...</td>\n",
       "    </tr>\n",
       "    <tr>\n",
       "      <th>4</th>\n",
       "      <td>5</td>\n",
       "      <td>Monetary Policy</td>\n",
       "      <td>held policy rate steady</td>\n",
       "      <td>The Federal Reserve decided to keep interest r...</td>\n",
       "      <td>{'agent': 'Federal Reserve', 'object': 'intere...</td>\n",
       "      <td>[{'event_id': 2, 'relation_type': 'INFLUENCED'...</td>\n",
       "    </tr>\n",
       "  </tbody>\n",
       "</table>\n",
       "</div>"
      ],
      "text/plain": [
       "   event_id            event_type                                    trigger  \\\n",
       "0         1      Economic Warning                    warn of inflation risks   \n",
       "1         2          Trade Policy                            slapped tariffs   \n",
       "2         3  Diplomatic Agreement                     suspending the tariffs   \n",
       "3         4     Economic Analysis  will push up inflation and depress growth   \n",
       "4         5       Monetary Policy                    held policy rate steady   \n",
       "\n",
       "                                       event_summary  \\\n",
       "0  Federal Reserve officials warned that the Trum...   \n",
       "1  President Trump announced new tariffs on the t...   \n",
       "2  Trump agreed to suspend tariffs on Mexico and ...   \n",
       "3  Economists predict the new tariffs will increa...   \n",
       "4  The Federal Reserve decided to keep interest r...   \n",
       "\n",
       "                                           arguments  \\\n",
       "0  {'agent': 'Federal Reserve officials', 'object...   \n",
       "1  {'agent': 'President Trump', 'object': 'goods ...   \n",
       "2  {'agent': 'President Trump', 'object': 'tariff...   \n",
       "3  {'agent': 'Economists', 'object': 'US economy'...   \n",
       "4  {'agent': 'Federal Reserve', 'object': 'intere...   \n",
       "\n",
       "                                        dependencies  \n",
       "0                                                 []  \n",
       "1                                                 []  \n",
       "2  [{'event_id': 2, 'relation_type': 'RESPONSE_TO...  \n",
       "3  [{'event_id': 2, 'relation_type': 'CONSEQUENCE...  \n",
       "4  [{'event_id': 2, 'relation_type': 'INFLUENCED'...  "
      ]
     },
     "execution_count": 11,
     "metadata": {},
     "output_type": "execute_result"
    }
   ],
   "source": [
    "events_df.head()"
   ]
  },
  {
   "cell_type": "markdown",
   "id": "72e2d39c-fb49-45a3-b837-317d6836ef4d",
   "metadata": {},
   "source": [
    "# Event Embedding Extraction"
   ]
  },
  {
   "cell_type": "code",
   "execution_count": 12,
   "id": "79050cdd-dd8d-43a9-b7e6-1a381e3ca668",
   "metadata": {},
   "outputs": [],
   "source": [
    "bge = FlagModel(\"BAAI/bge-base-en-v1.5\", use_fp16=True)\n",
    "# bge.model.to(\"cpu\")\n",
    "# bge.device = torch.device(\"cpu\")\n"
   ]
  },
  {
   "cell_type": "code",
   "execution_count": 14,
   "id": "b9159dfa-68a5-4071-b9fe-d677980475b3",
   "metadata": {},
   "outputs": [
    {
     "name": "stderr",
     "output_type": "stream",
     "text": [
      "Inference Embeddings: 100%|█████████████████████████████████████████████████████████████████████████████████████████████████████████████████████████████████████████████████| 133/133 [12:13<00:00,  5.52s/it]\n"
     ]
    }
   ],
   "source": [
    "embeddings = bge.encode(input_texts)\n",
    "#embeddings = [encode(chunk) for chunk in tqdm(list(chunked(articles, 10)))]"
   ]
  },
  {
   "cell_type": "code",
   "execution_count": 15,
   "id": "03c82b45-97ba-4f6a-b50a-f45e8fcf0ac0",
   "metadata": {},
   "outputs": [],
   "source": [
    "events_df['bge_embedding'] = embeddings.tolist()"
   ]
  },
  {
   "cell_type": "code",
   "execution_count": 17,
   "id": "ea9bd2dd-9284-41ea-bc06-606753cc5b6a",
   "metadata": {},
   "outputs": [],
   "source": [
    "events_df.to_parquet(\"../data/emb_output.parquet\", engine=\"pyarrow\")"
   ]
  },
  {
   "cell_type": "code",
   "execution_count": null,
   "id": "373979dc-c9de-483a-83a5-6a957b956ed3",
   "metadata": {},
   "outputs": [],
   "source": [
    "colors = ['blue'] * len(df)"
   ]
  },
  {
   "cell_type": "code",
   "execution_count": null,
   "id": "a425842b-11bf-4e21-bdc7-42c8e26287ee",
   "metadata": {},
   "outputs": [],
   "source": [
    "plot_2d(embeddings, colors, perplexity=30)"
   ]
  },
  {
   "cell_type": "markdown",
   "id": "0c61a99a-bd18-4f54-b443-0f92bb560385",
   "metadata": {},
   "source": [
    "# Event Clustering"
   ]
  },
  {
   "cell_type": "code",
   "execution_count": 40,
   "id": "7092afe5-5925-4e96-8280-c32bd02c23f0",
   "metadata": {},
   "outputs": [],
   "source": [
    "events_df['event_id'] = np.arange(len(events_df))"
   ]
  },
  {
   "cell_type": "code",
   "execution_count": 41,
   "id": "405f32eb-e686-4857-8e4d-651f20763c8f",
   "metadata": {},
   "outputs": [],
   "source": [
    "D = 768\n",
    "K = 768//2\n",
    "index = faiss.IndexPQ(D, K, 8)"
   ]
  },
  {
   "cell_type": "code",
   "execution_count": 42,
   "id": "d1535d5e-fdc7-4cf7-9a2c-84250686c204",
   "metadata": {},
   "outputs": [],
   "source": [
    "index.train(embeddings)\n",
    "index.add(embeddings)"
   ]
  },
  {
   "cell_type": "code",
   "execution_count": null,
   "id": "97961bee-5a2c-421e-bf68-b1abc8e3042e",
   "metadata": {},
   "outputs": [],
   "source": [
    "TOP_K = 100\n",
    "distance_matrix, index_matrix = index.search(np.array(embeddings), TOP_K)"
   ]
  },
  {
   "cell_type": "code",
   "execution_count": 73,
   "id": "e1b6b466-41bc-46ba-ab6d-8c32ad70b2a7",
   "metadata": {},
   "outputs": [
    {
     "data": {
      "application/vnd.jupyter.widget-view+json": {
       "model_id": "be42c8bd966a4e7d9a2968a4f083369d",
       "version_major": 2,
       "version_minor": 0
      },
      "text/plain": [
       "0it [00:00, ?it/s]"
      ]
     },
     "metadata": {},
     "output_type": "display_data"
    }
   ],
   "source": [
    "THRESHOLD = 0.1\n",
    "N = len(events_df)\n",
    "uf = UF(N)\n",
    "events_df['cluster_id'] = events_df['event_id']\n",
    "for cur_i, (distances, indexes) in tqdm(enumerate(zip(distance_matrix, index_matrix))):\n",
    "    for d, i in zip(distances, indexes):\n",
    "        if d >= THRESHOLD: break\n",
    "        uf.union(events_df.iloc[cur_i].event_id, events_df.iloc[i].event_id) "
   ]
  },
  {
   "cell_type": "code",
   "execution_count": 74,
   "id": "9c1c83b4-415d-4214-ad48-930938163178",
   "metadata": {},
   "outputs": [],
   "source": [
    "# reassign cluster_id\n",
    "events_df['cluster_id'] = events_df['cluster_id'].apply(uf.find)"
   ]
  },
  {
   "cell_type": "code",
   "execution_count": 75,
   "id": "01e9049c-8264-4422-8908-845cabe7e2c5",
   "metadata": {},
   "outputs": [
    {
     "data": {
      "text/plain": [
       "cluster_id\n",
       "272      158\n",
       "23168     75\n",
       "33954     40\n",
       "25670     26\n",
       "33002     24\n",
       "        ... \n",
       "11728      1\n",
       "11727      1\n",
       "11725      1\n",
       "11724      1\n",
       "11740      1\n",
       "Name: count, Length: 31986, dtype: int64"
      ]
     },
     "execution_count": 75,
     "metadata": {},
     "output_type": "execute_result"
    }
   ],
   "source": [
    "events_df['cluster_id'].value_counts()"
   ]
  },
  {
   "cell_type": "code",
   "execution_count": 108,
   "id": "6c51c3da-ee55-43bf-a6d2-a0a8b2a37236",
   "metadata": {},
   "outputs": [],
   "source": [
    "def plot_2d(events_df, perplexity=5):\n",
    "   tsne = TSNE(n_components=2, random_state=42, perplexity=perplexity)  # Adjust perplexity based on your dataset\n",
    "   embeddings = np.array(events_df['bge_embedding'].tolist())\n",
    "   embeddings_2d = tsne.fit_transform(embeddings)\n",
    "   events_df['x'] = embeddings_2d[:, 0]\n",
    "   events_df['y'] = embeddings_2d[:, 1]\n",
    "   sns.scatterplot(events_df, x='x', y='y', hue='cluster_id', s=10, palette=\"deep\")"
   ]
  },
  {
   "cell_type": "code",
   "execution_count": 109,
   "id": "66bbcbdf-c86b-450e-acd9-576937eb40e9",
   "metadata": {},
   "outputs": [],
   "source": [
    "top_clusters = events_df['cluster_id'].value_counts().head(10).index\n",
    "top_events = events_df[events_df.cluster_id.isin(top_clusters)]"
   ]
  },
  {
   "cell_type": "code",
   "execution_count": 110,
   "id": "24e68e36-a019-4701-a0f8-87eca08ceb27",
   "metadata": {},
   "outputs": [
    {
     "name": "stderr",
     "output_type": "stream",
     "text": [
      "/mnt/raid-s3/usr/khoa/dev/TemporalLens/.venv/lib/python3.10/site-packages/sklearn/manifold/_t_sne.py:780: FutureWarning: The default initialization in TSNE will change from 'random' to 'pca' in 1.2.\n",
      "  warnings.warn(\n",
      "/mnt/raid-s3/usr/khoa/dev/TemporalLens/.venv/lib/python3.10/site-packages/sklearn/manifold/_t_sne.py:790: FutureWarning: The default learning rate in TSNE will change from 200.0 to 'auto' in 1.2.\n",
      "  warnings.warn(\n",
      "/tmp/ipykernel_700946/737761268.py:5: SettingWithCopyWarning: \n",
      "A value is trying to be set on a copy of a slice from a DataFrame.\n",
      "Try using .loc[row_indexer,col_indexer] = value instead\n",
      "\n",
      "See the caveats in the documentation: https://pandas.pydata.org/pandas-docs/stable/user_guide/indexing.html#returning-a-view-versus-a-copy\n",
      "  events_df['x'] = embeddings_2d[:, 0]\n",
      "/tmp/ipykernel_700946/737761268.py:6: SettingWithCopyWarning: \n",
      "A value is trying to be set on a copy of a slice from a DataFrame.\n",
      "Try using .loc[row_indexer,col_indexer] = value instead\n",
      "\n",
      "See the caveats in the documentation: https://pandas.pydata.org/pandas-docs/stable/user_guide/indexing.html#returning-a-view-versus-a-copy\n",
      "  events_df['y'] = embeddings_2d[:, 1]\n"
     ]
    },
    {
     "data": {
      "image/png": "[encoded data removed]",
      "text/plain": [
       "<Figure size 640x480 with 1 Axes>"
      ]
     },
     "metadata": {},
     "output_type": "display_data"
    }
   ],
   "source": [
    "plot_2d(top_events)"
   ]
  },
  {
   "cell_type": "code",
   "execution_count": null,
   "id": "57ab2528-8dfd-4eec-b86f-c6ec76f7f0d6",
   "metadata": {},
   "outputs": [],
   "source": []
  }
 ],
 "metadata": {
  "kernelspec": {
   "display_name": "Python 3 (ipykernel)",
   "language": "python",
   "name": "python3"
  },
  "language_info": {
   "codemirror_mode": {
    "name": "ipython",
    "version": 3
   },
   "file_extension": ".py",
   "mimetype": "text/x-python",
   "name": "python",
   "nbconvert_exporter": "python",
   "pygments_lexer": "ipython3",
   "version": "3.10.12"
  }
 },
 "nbformat": 4,
 "nbformat_minor": 5
}
