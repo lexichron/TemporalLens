{
 "cells": [
  {
   "cell_type": "markdown",
   "id": "c1ff756d",
   "metadata": {},
   "source": [
    "# Exploration"
   ]
  },
  {
   "cell_type": "markdown",
   "id": "08c3d813",
   "metadata": {},
   "source": [
    "## Try HuggingFace Model"
   ]
  },
  {
   "cell_type": "code",
   "execution_count": 2,
   "id": "2f021ed7",
   "metadata": {
    "ExecuteTime": {
     "end_time": "2025-02-25T02:00:17.856093Z",
     "start_time": "2025-02-25T01:59:16.629687Z"
    },
    "scrolled": true
   },
   "outputs": [
    {
     "data": {
      "application/vnd.jupyter.widget-view+json": {
       "model_id": "425c2a5ee9b14ed7bfbe4e72aac8a518",
       "version_major": 2,
       "version_minor": 0
      },
      "text/plain": [
       "config.json:   0%|          | 0.00/1.42k [00:00<?, ?B/s]"
      ]
     },
     "metadata": {},
     "output_type": "display_data"
    },
    {
     "data": {
      "application/vnd.jupyter.widget-view+json": {
       "model_id": "23cb33ef47114de089934fcc1cfbce14",
       "version_major": 2,
       "version_minor": 0
      },
      "text/plain": [
       "pytorch_model.bin:   0%|          | 0.00/1.34G [00:00<?, ?B/s]"
      ]
     },
     "metadata": {},
     "output_type": "display_data"
    },
    {
     "name": "stderr",
     "output_type": "stream",
     "text": [
      "Some weights of BertForTokenClassification were not initialized from the model checkpoint at liaad/srl-pt_bertimbau-large and are newly initialized: ['classifier.bias', 'classifier.weight']\n",
      "You should probably TRAIN this model on a down-stream task to be able to use it for predictions and inference.\n"
     ]
    },
    {
     "data": {
      "application/vnd.jupyter.widget-view+json": {
       "model_id": "ba62ded05ee044858b95f730bb31e895",
       "version_major": 2,
       "version_minor": 0
      },
      "text/plain": [
       "tokenizer_config.json:   0%|          | 0.00/136 [00:00<?, ?B/s]"
      ]
     },
     "metadata": {},
     "output_type": "display_data"
    },
    {
     "data": {
      "application/vnd.jupyter.widget-view+json": {
       "model_id": "1d95ca43923a423aa5fb331c6eb76123",
       "version_major": 2,
       "version_minor": 0
      },
      "text/plain": [
       "vocab.txt:   0%|          | 0.00/210k [00:00<?, ?B/s]"
      ]
     },
     "metadata": {},
     "output_type": "display_data"
    },
    {
     "data": {
      "application/vnd.jupyter.widget-view+json": {
       "model_id": "4a75a774f3644955a57eaff057baca67",
       "version_major": 2,
       "version_minor": 0
      },
      "text/plain": [
       "special_tokens_map.json:   0%|          | 0.00/112 [00:00<?, ?B/s]"
      ]
     },
     "metadata": {},
     "output_type": "display_data"
    },
    {
     "name": "stderr",
     "output_type": "stream",
     "text": [
      "Hardware accelerator e.g. GPU is available in the environment, but no `device` argument is passed to the `Pipeline` object. Model will be on CPU.\n",
      "Asking to truncate to max_length but no maximum length is provided and the model has no predefined maximum length. Default to no truncation.\n"
     ]
    },
    {
     "name": "stdout",
     "output_type": "stream",
     "text": [
      "{'entity': 'LABEL_1', 'score': 0.50187516, 'index': 1, 'word': 'Tes', 'start': 0, 'end': 3}\n",
      "{'entity': 'LABEL_0', 'score': 0.5490839, 'index': 2, 'word': '##la', 'start': 3, 'end': 5}\n",
      "{'entity': 'LABEL_0', 'score': 0.5232201, 'index': 3, 'word': 'un', 'start': 6, 'end': 8}\n",
      "{'entity': 'LABEL_0', 'score': 0.54658175, 'index': 4, 'word': '##ve', 'start': 8, 'end': 10}\n",
      "{'entity': 'LABEL_0', 'score': 0.507578, 'index': 5, 'word': '##ile', 'start': 10, 'end': 13}\n",
      "{'entity': 'LABEL_0', 'score': 0.5712971, 'index': 6, 'word': '##d', 'start': 13, 'end': 14}\n",
      "{'entity': 'LABEL_0', 'score': 0.52105176, 'index': 7, 'word': 'it', 'start': 15, 'end': 17}\n",
      "{'entity': 'LABEL_0', 'score': 0.5483713, 'index': 8, 'word': '##s', 'start': 17, 'end': 18}\n",
      "{'entity': 'LABEL_0', 'score': 0.52619505, 'index': 9, 'word': 'ne', 'start': 19, 'end': 21}\n",
      "{'entity': 'LABEL_0', 'score': 0.53404623, 'index': 10, 'word': '##w', 'start': 21, 'end': 22}\n",
      "{'entity': 'LABEL_1', 'score': 0.5083904, 'index': 11, 'word': 'electr', 'start': 23, 'end': 29}\n",
      "{'entity': 'LABEL_0', 'score': 0.52827644, 'index': 12, 'word': '##ic', 'start': 29, 'end': 31}\n",
      "{'entity': 'LABEL_1', 'score': 0.5102929, 'index': 13, 'word': 'tru', 'start': 32, 'end': 35}\n",
      "{'entity': 'LABEL_0', 'score': 0.5268007, 'index': 14, 'word': '##ck', 'start': 35, 'end': 37}\n",
      "{'entity': 'LABEL_1', 'score': 0.50275344, 'index': 15, 'word': 'in', 'start': 38, 'end': 40}\n",
      "{'entity': 'LABEL_0', 'score': 0.5109141, 'index': 16, 'word': 'California', 'start': 41, 'end': 51}\n",
      "{'entity': 'LABEL_0', 'score': 0.55906934, 'index': 17, 'word': 'las', 'start': 52, 'end': 55}\n",
      "{'entity': 'LABEL_0', 'score': 0.50406045, 'index': 18, 'word': '##t', 'start': 55, 'end': 56}\n",
      "{'entity': 'LABEL_0', 'score': 0.52873784, 'index': 19, 'word': 'n', 'start': 57, 'end': 58}\n",
      "{'entity': 'LABEL_1', 'score': 0.50084275, 'index': 20, 'word': '##ight', 'start': 58, 'end': 62}\n",
      "{'entity': 'LABEL_1', 'score': 0.55816746, 'index': 21, 'word': '.', 'start': 62, 'end': 63}\n"
     ]
    }
   ],
   "source": [
    "from transformers import pipeline\n",
    "\n",
    "# Load a semantic role labeling pipeline\n",
    "srl_pipeline = pipeline(\"token-classification\", model=\"liaad/srl-pt_bertimbau-large\")\n",
    "\n",
    "# Apply SRL\n",
    "text = \"Tesla unveiled its new electric truck in California last night.\"\n",
    "results = srl_pipeline(text)\n",
    "\n",
    "# Print extracted roles\n",
    "for entity in results:\n",
    "    print(entity)\n"
   ]
  },
  {
   "cell_type": "markdown",
   "id": "2016ebb2",
   "metadata": {},
   "source": [
    "## With AllenNLP"
   ]
  },
  {
   "cell_type": "code",
   "execution_count": 34,
   "id": "2408b64d",
   "metadata": {
    "ExecuteTime": {
     "end_time": "2025-02-25T03:11:03.030960Z",
     "start_time": "2025-02-25T03:11:02.168223Z"
    }
   },
   "outputs": [
    {
     "name": "stderr",
     "output_type": "stream",
     "text": [
      "[nltk_data] Downloading package omw-1.4 to /home/user/nltk_data...\n",
      "[nltk_data]   Package omw-1.4 is already up-to-date!\n"
     ]
    },
    {
     "data": {
      "text/plain": [
       "True"
      ]
     },
     "execution_count": 34,
     "metadata": {},
     "output_type": "execute_result"
    }
   ],
   "source": [
    "import nltk\n",
    "nltk.download('omw-1.4')"
   ]
  },
  {
   "cell_type": "code",
   "execution_count": 2,
   "id": "7c600960",
   "metadata": {
    "ExecuteTime": {
     "end_time": "2025-02-25T02:10:58.932084Z",
     "start_time": "2025-02-25T02:10:51.037349Z"
    },
    "scrolled": false
   },
   "outputs": [
    {
     "name": "stderr",
     "output_type": "stream",
     "text": [
      "Some weights of the model checkpoint at bert-base-uncased were not used when initializing BertModel: ['cls.predictions.transform.LayerNorm.weight', 'cls.predictions.transform.LayerNorm.bias', 'cls.predictions.transform.dense.weight', 'cls.seq_relationship.bias', 'cls.seq_relationship.weight', 'cls.predictions.bias', 'cls.predictions.decoder.weight', 'cls.predictions.transform.dense.bias']\n",
      "- This IS expected if you are initializing BertModel from the checkpoint of a model trained on another task or with another architecture (e.g. initializing a BertForSequenceClassification model from a BertForPreTraining model).\n",
      "- This IS NOT expected if you are initializing BertModel from the checkpoint of a model that you expect to be exactly identical (initializing a BertForSequenceClassification model from a BertForSequenceClassification model).\n"
     ]
    },
    {
     "name": "stdout",
     "output_type": "stream",
     "text": [
      "{'verbs': [{'verb': 'blocked', 'description': '[ARG0: Protesters] [V: blocked] [ARG1: the main highway in Paris] [ARGM-TMP: last night] [ARGM-CAU: due to rising fuel prices] .', 'tags': ['B-ARG0', 'B-V', 'B-ARG1', 'I-ARG1', 'I-ARG1', 'I-ARG1', 'I-ARG1', 'B-ARGM-TMP', 'I-ARGM-TMP', 'B-ARGM-CAU', 'I-ARGM-CAU', 'I-ARGM-CAU', 'I-ARGM-CAU', 'I-ARGM-CAU', 'O']}, {'verb': 'rising', 'description': 'Protesters blocked the main highway in Paris last night due to [V: rising] [ARG1: fuel prices] .', 'tags': ['O', 'O', 'O', 'O', 'O', 'O', 'O', 'O', 'O', 'O', 'O', 'B-V', 'B-ARG1', 'I-ARG1', 'O']}], 'words': ['Protesters', 'blocked', 'the', 'main', 'highway', 'in', 'Paris', 'last', 'night', 'due', 'to', 'rising', 'fuel', 'prices', '.']}\n"
     ]
    }
   ],
   "source": [
    "from allennlp.predictors.predictor import Predictor\n",
    "import allennlp_models.tagging\n",
    "from allennlp.data.tokenizers import SpacyTokenizer\n",
    "\n",
    "# Load the SRL model\n",
    "predictor = Predictor.from_path(\n",
    "    \"https://storage.googleapis.com/allennlp-public-models/structured-prediction-srl-bert.2020.12.15.tar.gz\"\n",
    ")\n",
    "\n",
    "# Manually set tokenizer\n",
    "predictor._tokenizer = SpacyTokenizer(language=\"en_core_web_sm\", pos_tags=True)\n",
    "\n",
    "# Test sentence\n",
    "sentence = \"Protesters blocked the main highway in Paris last night due to rising fuel prices.\"\n",
    "\n",
    "# Predict SRL roles\n",
    "output = predictor.predict(sentence)\n",
    "print(output)\n"
   ]
  },
  {
   "cell_type": "code",
   "execution_count": 6,
   "id": "96da7298",
   "metadata": {
    "ExecuteTime": {
     "end_time": "2025-02-25T03:12:55.898774Z",
     "start_time": "2025-02-25T03:12:55.891969Z"
    }
   },
   "outputs": [
    {
     "name": "stdout",
     "output_type": "stream",
     "text": [
      "Event: blocked\n",
      "  ARG0: Protesters\n",
      "  V: blocked\n",
      "  ARG1: the main highway in Paris\n",
      "  ARGM-TMP: last night\n",
      "  ARGM-CAU: due to rising fuel prices\n",
      "\n",
      "Event: rising\n",
      "  V: rising\n",
      "  ARG1: fuel prices\n",
      "\n"
     ]
    }
   ],
   "source": [
    "def combine_bio_tags(output):\n",
    "    verbs_data = output['verbs']\n",
    "    words = output['words']\n",
    "    event_representation = []\n",
    "\n",
    "    for verb_data in verbs_data:\n",
    "        verb = verb_data[\"verb\"]\n",
    "        description = verb_data[\"description\"]\n",
    "        tags = verb_data[\"tags\"]\n",
    "\n",
    "        combined_roles = {}\n",
    "        current_role = None\n",
    "        current_phrase = []\n",
    "\n",
    "        for word, tag in zip(words, tags):\n",
    "            if tag.startswith(\"B-\"):  # Beginning of a new entity\n",
    "                if current_role:\n",
    "                    combined_roles[current_role] = \" \".join(current_phrase)\n",
    "                current_role = tag[2:]  # Remove \"B-\"\n",
    "                current_phrase = [word]\n",
    "            elif tag.startswith(\"I-\") and current_role:  # Continuation of entity\n",
    "                current_phrase.append(word)\n",
    "            else:\n",
    "                if current_role:\n",
    "                    combined_roles[current_role] = \" \".join(current_phrase)\n",
    "                current_role = None\n",
    "                current_phrase = []\n",
    "\n",
    "        # Add the last entity\n",
    "        if current_role:\n",
    "            combined_roles[current_role] = \" \".join(current_phrase)\n",
    "\n",
    "        # Store event representation\n",
    "        event_representation.append({\"Event\": verb, \"Roles\": combined_roles})\n",
    "\n",
    "    return event_representation\n",
    "\n",
    "# Sample SRL output\n",
    "output = {\n",
    "    'verbs': [\n",
    "        {'verb': 'blocked', 'description': '[ARG0: Protesters] [V: blocked] [ARG1: the main highway in Paris] [ARGM-TMP: last night] [ARGM-CAU: due to rising fuel prices] .',\n",
    "         'tags': ['B-ARG0', 'B-V', 'B-ARG1', 'I-ARG1', 'I-ARG1', 'I-ARG1', 'I-ARG1', 'B-ARGM-TMP', 'I-ARGM-TMP', 'B-ARGM-CAU', 'I-ARGM-CAU', 'I-ARGM-CAU', 'I-ARGM-CAU', 'I-ARGM-CAU', 'O']},\n",
    "        {'verb': 'rising', 'description': 'Protesters blocked the main highway in Paris last night due to [V: rising] [ARG1: fuel prices] .',\n",
    "         'tags': ['O', 'O', 'O', 'O', 'O', 'O', 'O', 'O', 'O', 'O', 'O', 'B-V', 'B-ARG1', 'I-ARG1', 'O']}\n",
    "    ],\n",
    "    'words': ['Protesters', 'blocked', 'the', 'main', 'highway', 'in', 'Paris', 'last', 'night', 'due', 'to', 'rising', 'fuel', 'prices', '.']\n",
    "}\n",
    "\n",
    "# Convert BIO tags to structured format\n",
    "events = combine_bio_tags(output)\n",
    "\n",
    "# Print structured event representation\n",
    "for event in events:\n",
    "    print(f\"Event: {event['Event']}\")\n",
    "    for role, phrase in event[\"Roles\"].items():\n",
    "        print(f\"  {role}: {phrase}\")\n",
    "    print()\n"
   ]
  },
  {
   "cell_type": "markdown",
   "id": "06ddf2bb",
   "metadata": {},
   "source": [
    "# With News Data"
   ]
  },
  {
   "cell_type": "code",
   "execution_count": 2,
   "id": "7c5309c7",
   "metadata": {
    "ExecuteTime": {
     "end_time": "2025-02-25T03:12:49.321664Z",
     "start_time": "2025-02-25T03:12:49.319470Z"
    }
   },
   "outputs": [],
   "source": [
    "import pandas as pd\n",
    "\n",
    "pd.set_option(\"max.colwidth\",0)"
   ]
  },
  {
   "cell_type": "code",
   "execution_count": 3,
   "id": "59b5b4e8",
   "metadata": {
    "ExecuteTime": {
     "end_time": "2025-02-25T03:12:49.773055Z",
     "start_time": "2025-02-25T03:12:49.746360Z"
    }
   },
   "outputs": [],
   "source": [
    "df = pd.read_parquet(\"../data/ed_output.parquet\")"
   ]
  },
  {
   "cell_type": "code",
   "execution_count": 4,
   "id": "981150f4",
   "metadata": {
    "ExecuteTime": {
     "end_time": "2025-02-25T03:12:50.111285Z",
     "start_time": "2025-02-25T03:12:50.104350Z"
    },
    "scrolled": true
   },
   "outputs": [
    {
     "name": "stdout",
     "output_type": "stream",
     "text": [
      "<class 'pandas.core.frame.DataFrame'>\n",
      "Int64Index: 50 entries, 6458 to 1199\n",
      "Data columns (total 8 columns):\n",
      " #   Column          Non-Null Count  Dtype \n",
      "---  ------          --------------  ----- \n",
      " 0   Title           50 non-null     object\n",
      " 1   Source          50 non-null     object\n",
      " 2   Author          12 non-null     object\n",
      " 3   Published Date  50 non-null     object\n",
      " 4   URL             50 non-null     object\n",
      " 5   Country         50 non-null     object\n",
      " 6   Content         50 non-null     object\n",
      " 7   ed_results      50 non-null     object\n",
      "dtypes: object(8)\n",
      "memory usage: 3.5+ KB\n"
     ]
    }
   ],
   "source": [
    "df.info()"
   ]
  },
  {
   "cell_type": "code",
   "execution_count": 7,
   "id": "676a2e5f",
   "metadata": {
    "ExecuteTime": {
     "end_time": "2025-02-25T03:13:00.873464Z",
     "start_time": "2025-02-25T03:12:58.974817Z"
    },
    "scrolled": true
   },
   "outputs": [
    {
     "name": "stdout",
     "output_type": "stream",
     "text": [
      "Event: is\n",
      "  ARGM-ADV: Apart from a divergence among different income groups\n",
      "  ARG1: China ’s consumption trend\n",
      "  ARGM-TMP: this year\n",
      "  V: is\n",
      "  ARG2: polarised among sectors\n",
      "\n",
      "Event: polarised\n",
      "  ARGM-ADV: Apart from a divergence among different income groups\n",
      "  ARG1: China ’s consumption trend\n",
      "  ARGM-TMP: this year\n",
      "  V: polarised\n",
      "  ARGM-LOC: among sectors\n",
      "  ARGM-CAU: as service consumption such as concerts , tourism and catering have been better than the sale of goods – which has been more suppressed by worsening income prospects\n",
      "\n",
      "Event: have\n",
      "  V: have\n",
      "\n",
      "Event: been\n",
      "  ARG1: service consumption such as concerts , tourism and catering\n",
      "  V: been\n",
      "  ARG2: better than the sale of goods – which has been more suppressed by worsening income prospects\n",
      "\n",
      "Event: has\n",
      "  V: has\n",
      "\n",
      "Event: been\n",
      "  V: been\n",
      "\n",
      "Event: suppressed\n",
      "  ARG1: goods\n",
      "  R-ARG1: which\n",
      "  ARGM-EXT: more\n",
      "  V: suppressed\n",
      "  ARG0: by worsening income prospects\n",
      "\n",
      "Event: worsening\n",
      "  V: worsening\n",
      "  ARG1: income prospects\n",
      "\n",
      "Event: said\n",
      "  ARG0: Zhang\n",
      "  V: said\n",
      "\n",
      "Event: showed\n",
      "  ARG0: Sandalwood data\n",
      "  V: showed\n",
      "  ARG1: that the total booking value on two major Chinese travel platforms , Trip.com and Tongcheng Travel , hit a record high in July , thanks to the high demand during the summer holiday\n",
      "\n",
      "Event: hit\n",
      "  ARG0: the total booking value on two major Chinese travel platforms , Trip.com and Tongcheng Travel\n",
      "  V: hit\n",
      "  ARG1: a record high\n",
      "  ARGM-TMP: in July\n",
      "  ARGM-CAU: thanks to the high demand during the summer holiday\n",
      "\n",
      "Event: weakening\n",
      "  ARGM-EXT: slightly\n",
      "  V: weakening\n",
      "  ARG1: momentum\n",
      "\n",
      "Event: maintained\n",
      "  ARGM-ADV: Despite the slightly weakening momentum in August\n",
      "  ARG0: it\n",
      "  ARGM-TMP: still\n",
      "  V: maintained\n",
      "  ARG1: double - digit growth\n",
      "\n",
      "Event: increased\n",
      "  ARGM-TMP: year on year\n",
      "  ARG1: bookings on Trip.com\n",
      "  V: increased\n",
      "  ARG2: by 85 per cent by value\n",
      "\n",
      "Event: increased\n",
      "  ARGM-LOC: on Tongcheng Travel\n",
      "  ARG1: they\n",
      "  V: increased\n",
      "  ARG2: by 60 per cent\n",
      "\n",
      "Event: has\n",
      "  V: has\n",
      "\n",
      "Event: been\n",
      "  ARGM-LOC: In some major cities\n",
      "  ARG1: the subway passenger volume\n",
      "  ARGM-ADV: according to data compiled by Wind , a Chinese financial data provider\n",
      "  V: been\n",
      "  ARG2: well above pre - pandemic levels\n",
      "  ARGM-TMP: in the past few months\n",
      "\n",
      "Event: have\n",
      "  V: have\n",
      "\n",
      "Event: recover\n",
      "  ARG1: that of the top three metropolises of Beijing , Shanghai and Guangzhou\n",
      "  ARGM-EXT: fully\n",
      "  V: recover\n",
      "  ARGM-ADV: to 2019 ’s level\n",
      "\n",
      "Event: according\n",
      "  V: according\n",
      "\n",
      "Event: compiled\n",
      "  ARG1: data\n",
      "  V: compiled\n",
      "  ARG0: by Wind , a Chinese financial data provider\n",
      "\n",
      "Event: reached\n",
      "  ARG0: The summer box office data\n",
      "  ARGM-DIS: also\n",
      "  V: reached\n",
      "  ARG1: a new historical high\n",
      "  ARGM-TMP: this year\n",
      "\n",
      "Event: According\n",
      "  V: According\n",
      "\n",
      "Event: reached\n",
      "  ARGM-ADV: compared with the previous record of 17.78 billion yuan achieved in 2019\n",
      "  ARG0: the box office in China\n",
      "  ARGM-TMP: from June to August\n",
      "  V: reached\n",
      "  ARG1: 20.62 billion yuan ( US$ 2.83 billion )\n",
      "\n",
      "Event: compared\n",
      "  ARG1: 20.62 billion yuan (\n",
      "  V: compared\n",
      "  ARG2: with the previous record of 17.78 billion yuan achieved in 2019\n",
      "\n",
      "Event: achieved\n",
      "  ARG1: the previous record of 17.78 billion yuan\n",
      "  V: achieved\n",
      "  ARGM-TMP: in 2019\n",
      "\n"
     ]
    }
   ],
   "source": [
    "# print(df[\"Content\"].iloc[0])\n",
    "for data in df[\"Content\"].iloc[0].split(\"\\n\\n\")[:5]:\n",
    "    output = predictor.predict(data)\n",
    "    events = combine_bio_tags(output)\n",
    "\n",
    "    for event in events:\n",
    "        print(f\"Event: {event['Event']}\")\n",
    "        for role, phrase in event[\"Roles\"].items():\n",
    "            print(f\"  {role}: {phrase}\")\n",
    "        print()"
   ]
  },
  {
   "cell_type": "markdown",
   "id": "864883b2",
   "metadata": {},
   "source": [
    "## With LLM"
   ]
  },
  {
   "cell_type": "code",
   "execution_count": 1,
   "id": "901705b1",
   "metadata": {
    "ExecuteTime": {
     "end_time": "2025-03-07T07:24:44.093851Z",
     "start_time": "2025-03-07T07:24:43.340016Z"
    },
    "scrolled": true
   },
   "outputs": [],
   "source": [
    "from langchain.chat_models import ChatOpenAI\n",
    "from langchain.schema import SystemMessage, HumanMessage\n",
    "import json"
   ]
  },
  {
   "cell_type": "code",
   "execution_count": 2,
   "id": "e44e5c38",
   "metadata": {
    "ExecuteTime": {
     "end_time": "2025-03-07T07:25:04.214028Z",
     "start_time": "2025-03-07T07:25:01.682003Z"
    }
   },
   "outputs": [
    {
     "name": "stderr",
     "output_type": "stream",
     "text": [
      "/tmp/ipykernel_289377/2405720650.py:5: LangChainDeprecationWarning: The class `ChatOpenAI` was deprecated in LangChain 0.0.10 and will be removed in 1.0. An updated version of the class exists in the :class:`~langchain-openai package and should be used instead. To use it run `pip install -U :class:`~langchain-openai` and import as `from :class:`~langchain_openai import ChatOpenAI``.\n",
      "  llm = ChatOpenAI(\n",
      "/tmp/ipykernel_289377/2405720650.py:35: LangChainDeprecationWarning: The method `BaseChatModel.__call__` was deprecated in langchain-core 0.1.7 and will be removed in 1.0. Use :meth:`~invoke` instead.\n",
      "  response = llm([system_message, user_message])\n"
     ]
    },
    {
     "name": "stdout",
     "output_type": "stream",
     "text": [
      "\n",
      " **Summary of Events:**\n",
      " - China's consumption trend in 2021 shows a divergence among income groups, with service consumption like concerts and tourism outperforming goods sales due to worsening income prospects.\n",
      "- Total booking value on Chinese travel platforms Trip.com and Tongcheng Travel hit a record high in July, driven by high summer holiday demand.\n",
      "- Despite a slight weakening in August, summer box office data in China reached a new historical high of 20.62 billion yuan, surpassing the 2019 record, while the property sector's new home sales volume remains weak despite Beijing's measures.\n"
     ]
    }
   ],
   "source": [
    "# Set up your OpenAI API key\n",
    "\n",
    "# Initialize the LLM (GPT-4 or GPT-3.5)\n",
    "llm = ChatOpenAI(\n",
    "    openai_api_key=OPENAI_API_KEY,\n",
    "    model_name=\"gpt-3.5-turbo\",  # You can use \"gpt-3.5-turbo\" for faster results\n",
    "    temperature=0.3  # Lower temp for more factual responses\n",
    ")\n",
    "\n",
    "def summarize_news(article):\n",
    "    \"\"\"\n",
    "    Summarizes the news article into key events.\n",
    "    \"\"\"\n",
    "    system_message = SystemMessage(\n",
    "        content=\"You are an expert in news summarization. Extract key events from the given news article and summarize them concisely.\"\n",
    "    )\n",
    "    \n",
    "    user_message = HumanMessage(\n",
    "        content=f\"\"\"\n",
    "        Summarize the following news article by identifying key events and their main details.\n",
    "        Your summary should be concise, factual, and structured, covering the **who, what, where, when, and why** of major events.\n",
    "        Focus only on the most **important** developments and avoid unnecessary details.\n",
    "        \n",
    "        News Article:\n",
    "        {article}\n",
    "        \n",
    "        **Expected Output Format:**\n",
    "        - [One-sentence summary]\n",
    "        - [One-sentence summary]\n",
    "        - [One-sentence summary]\n",
    "        \"\"\"\n",
    "    )\n",
    "\n",
    "    response = llm([system_message, user_message])\n",
    "    return response.content\n",
    "\n",
    "\n",
    "# Example news article\n",
    "news_article = \"\"\"\n",
    "Apart from a divergence among different income groups, China’s consumption trend this year is polarised among sectors, \n",
    "as service consumption such as concerts, tourism and catering have been better than the sale of goods – which has been \n",
    "more suppressed by worsening income prospects, Zhang said.\n",
    "\n",
    "Sandalwood data showed that the total booking value on two major Chinese travel platforms, Trip.com and Tongcheng Travel, \n",
    "hit a record high in July, thanks to the high demand during the summer holiday.\n",
    "\n",
    "Despite the slightly weakening momentum in August, it still maintained double-digit growth: in the first half of August, \n",
    "bookings on Trip.com increased by 85 per cent by value, year on year, and on Tongcheng Travel they increased by 60 per cent.\n",
    "\n",
    "The summer box office data also reached a new historical high this year. According to movie industry data provider Dengta, \n",
    "the box office in China from June to August reached 20.62 billion yuan (US$2.83 billion), compared with the previous record \n",
    "of 17.78 billion yuan achieved in 2019.\n",
    "\n",
    "High-frequency data on the property sector, such as the volume of new home sales in major cities, has remained weak and \n",
    "shown little improvement, despite Beijing’s relaxing measures, economists said.\n",
    "\"\"\"\n",
    "\n",
    "# Get summarized events\n",
    "summary = summarize_news(news_article)\n",
    "print(\"\\n **Summary of Events:**\\n\", summary)\n"
   ]
  },
  {
   "cell_type": "code",
   "execution_count": 3,
   "id": "133d03e1",
   "metadata": {
    "ExecuteTime": {
     "end_time": "2025-03-07T07:25:15.969218Z",
     "start_time": "2025-03-07T07:25:10.769652Z"
    }
   },
   "outputs": [
    {
     "name": "stdout",
     "output_type": "stream",
     "text": [
      "Added.....\n",
      "Added.....\n",
      "Added.....\n"
     ]
    }
   ],
   "source": [
    "from langchain.chat_models import ChatOpenAI\n",
    "from langchain.output_parsers import ResponseSchema, StructuredOutputParser\n",
    "from langchain.prompts import PromptTemplate\n",
    "import json\n",
    "\n",
    "# Define JSON schema for structured event extraction\n",
    "response_schemas = [\n",
    "    ResponseSchema(name=\"Event\", description=\"The main action happening in the news.\"),\n",
    "    ResponseSchema(name=\"Who\", description=\"Who is involved in the event.\"),\n",
    "    ResponseSchema(name=\"What\", description=\"What happened.\"),\n",
    "    ResponseSchema(name=\"Where\", description=\"The location of the event.\"),\n",
    "    ResponseSchema(name=\"When\", description=\"The timeframe of the event.\"),\n",
    "    ResponseSchema(name=\"Why\", description=\"The reason or cause of the event.\"),\n",
    "    ResponseSchema(name=\"Supporting Evidence\", description=\"A relevant quote from the article.\"),\n",
    "]\n",
    "\n",
    "# Create the structured output parser\n",
    "output_parser = StructuredOutputParser.from_response_schemas(response_schemas)\n",
    "\n",
    "# Define the prompt template\n",
    "prompt_template = PromptTemplate(\n",
    "    template=\"\"\"Analyze the following news article and extract structured event representations. Identify major events along with the entities involved.\n",
    "    \n",
    "    **Return the output in valid JSON format**.\n",
    "\n",
    "    {format_instructions}\n",
    "\n",
    "    **News Article:**\n",
    "    {article}\n",
    "    \"\"\",\n",
    "    input_variables=[\"article\"],\n",
    "    partial_variables={\"format_instructions\": output_parser.get_format_instructions()},\n",
    ")\n",
    "\n",
    "def extract_structured_events(article):\n",
    "    \"\"\"\n",
    "    Extracts structured events using OpenAI's function calling.\n",
    "    \"\"\"\n",
    "    prompt = prompt_template.format(article=article)\n",
    "\n",
    "    response = llm.invoke(prompt)\n",
    "    \n",
    "    response_text = response.content.strip()\n",
    "\n",
    "    # Parse structured response\n",
    "    try:\n",
    "        structured_events = output_parser.parse(response_text)\n",
    "    except Exception as e:\n",
    "        structured_events = {\"error\": f\"Failed to parse JSON output: {str(e)}\", \"raw_response\": response_text}\n",
    "\n",
    "    return structured_events\n",
    "\n",
    "# Get structured event\n",
    "entity_lst = []\n",
    "for event in summary.split(\"\\n\"):\n",
    "    structured_events = extract_structured_events(event)\n",
    "    # Print structured events\n",
    "    entity_lst.append(structured_events)\n",
    "    print(\"Added.....\")\n"
   ]
  },
  {
   "cell_type": "code",
   "execution_count": 4,
   "id": "86be0a73",
   "metadata": {
    "ExecuteTime": {
     "end_time": "2025-03-07T07:25:19.933780Z",
     "start_time": "2025-03-07T07:25:19.929772Z"
    },
    "scrolled": false
   },
   "outputs": [
    {
     "data": {
      "text/plain": [
       "[{'Event': 'Consumption trend divergence among income groups',\n",
       "  'Who': 'China',\n",
       "  'What': 'shows a divergence with service consumption outperforming goods sales',\n",
       "  'Where': 'China',\n",
       "  'When': '2021',\n",
       "  'Why': 'due to worsening income prospects',\n",
       "  'Supporting Evidence': \"China's consumption trend in 2021 shows a divergence among income groups, with service consumption like concerts and tourism outperforming goods sales due to worsening income prospects.\"},\n",
       " {'Event': 'Total booking value hit a record high',\n",
       "  'Who': 'Chinese travel platforms Trip.com and Tongcheng Travel',\n",
       "  'What': 'experienced a surge in bookings',\n",
       "  'Where': 'on their platforms',\n",
       "  'When': 'in July',\n",
       "  'Why': 'driven by high summer holiday demand',\n",
       "  'Supporting Evidence': 'Total booking value on Chinese travel platforms Trip.com and Tongcheng Travel hit a record high in July, driven by high summer holiday demand.'},\n",
       " {'Event': 'Summer box office data in China reaches a new historical high',\n",
       "  'Who': 'China',\n",
       "  'What': 'reached a new historical high of 20.62 billion yuan',\n",
       "  'Where': 'China',\n",
       "  'When': 'August',\n",
       "  'Why': 'Despite a slight weakening in August',\n",
       "  'Supporting Evidence': 'summer box office data in China reached a new historical high of 20.62 billion yuan'}]"
      ]
     },
     "execution_count": 4,
     "metadata": {},
     "output_type": "execute_result"
    }
   ],
   "source": [
    "entity_lst"
   ]
  },
  {
   "cell_type": "code",
   "execution_count": 12,
   "id": "a65b8146",
   "metadata": {
    "ExecuteTime": {
     "end_time": "2025-02-25T03:14:48.797471Z",
     "start_time": "2025-02-25T03:14:41.737422Z"
    }
   },
   "outputs": [
    {
     "name": "stderr",
     "output_type": "stream",
     "text": [
      "Some weights of the model checkpoint at bert-base-uncased were not used when initializing BertModel: ['cls.predictions.transform.LayerNorm.bias', 'cls.predictions.transform.dense.bias', 'cls.predictions.decoder.weight', 'cls.predictions.transform.dense.weight', 'cls.predictions.transform.LayerNorm.weight', 'cls.seq_relationship.bias', 'cls.seq_relationship.weight', 'cls.predictions.bias']\n",
      "- This IS expected if you are initializing BertModel from the checkpoint of a model trained on another task or with another architecture (e.g. initializing a BertForSequenceClassification model from a BertForPreTraining model).\n",
      "- This IS NOT expected if you are initializing BertModel from the checkpoint of a model that you expect to be exactly identical (initializing a BertForSequenceClassification model from a BertForSequenceClassification model).\n"
     ]
    }
   ],
   "source": [
    "from allennlp.predictors.predictor import Predictor\n",
    "import allennlp_models.tagging\n",
    "from allennlp.data.tokenizers import SpacyTokenizer\n",
    "\n",
    "# Load the SRL model\n",
    "predictor = Predictor.from_path(\n",
    "    \"https://storage.googleapis.com/allennlp-public-models/structured-prediction-srl-bert.2020.12.15.tar.gz\"\n",
    ")\n",
    "\n",
    "# Manually set tokenizer\n",
    "predictor._tokenizer = SpacyTokenizer(language=\"en_core_web_sm\", pos_tags=True)\n",
    "\n",
    "summary = [\n",
    "    \"China's consumption trend in 2021 shows a divergence among income groups, with service consumption outperforming goods sales due to worsening income prospects.\",\n",
    "    \"Total booking value on Chinese travel platforms Trip.com and Tongcheng Travel hit a record high in July, driven by high demand during the summer holiday.\",\n",
    "    \"Despite a slight weakening in August, summer box office data in China reached a new historical high of 20.62 billion yuan, surpassing the previous record set in 2019.\"\n",
    "]\n",
    "allennlp_event_lst = []\n",
    "for sentence in summary:\n",
    "    # Predict SRL roles\n",
    "    output = predictor.predict(sentence)\n",
    "    allennlp_event_lst.append(output)\n"
   ]
  },
  {
   "cell_type": "code",
   "execution_count": 13,
   "id": "6c6f9aaa",
   "metadata": {
    "ExecuteTime": {
     "end_time": "2025-02-25T03:14:53.015165Z",
     "start_time": "2025-02-25T03:14:53.008744Z"
    },
    "scrolled": true
   },
   "outputs": [
    {
     "data": {
      "text/plain": [
       "[{'verbs': [{'verb': 'shows',\n",
       "    'description': \"[ARG0: China 's consumption trend in 2021] [V: shows] [ARG1: a divergence among income groups] , [ARGM-PRD: with service consumption outperforming goods sales due to worsening income prospects] .\",\n",
       "    'tags': ['B-ARG0',\n",
       "     'I-ARG0',\n",
       "     'I-ARG0',\n",
       "     'I-ARG0',\n",
       "     'I-ARG0',\n",
       "     'I-ARG0',\n",
       "     'B-V',\n",
       "     'B-ARG1',\n",
       "     'I-ARG1',\n",
       "     'I-ARG1',\n",
       "     'I-ARG1',\n",
       "     'I-ARG1',\n",
       "     'O',\n",
       "     'B-ARGM-PRD',\n",
       "     'I-ARGM-PRD',\n",
       "     'I-ARGM-PRD',\n",
       "     'I-ARGM-PRD',\n",
       "     'I-ARGM-PRD',\n",
       "     'I-ARGM-PRD',\n",
       "     'I-ARGM-PRD',\n",
       "     'I-ARGM-PRD',\n",
       "     'I-ARGM-PRD',\n",
       "     'I-ARGM-PRD',\n",
       "     'I-ARGM-PRD',\n",
       "     'O']},\n",
       "   {'verb': 'outperforming',\n",
       "    'description': \"China 's consumption trend in 2021 shows a divergence among income groups , with [ARG0: service consumption] [V: outperforming] [ARG1: goods sales] [ARGM-CAU: due to worsening income prospects] .\",\n",
       "    'tags': ['O',\n",
       "     'O',\n",
       "     'O',\n",
       "     'O',\n",
       "     'O',\n",
       "     'O',\n",
       "     'O',\n",
       "     'O',\n",
       "     'O',\n",
       "     'O',\n",
       "     'O',\n",
       "     'O',\n",
       "     'O',\n",
       "     'O',\n",
       "     'B-ARG0',\n",
       "     'I-ARG0',\n",
       "     'B-V',\n",
       "     'B-ARG1',\n",
       "     'I-ARG1',\n",
       "     'B-ARGM-CAU',\n",
       "     'I-ARGM-CAU',\n",
       "     'I-ARGM-CAU',\n",
       "     'I-ARGM-CAU',\n",
       "     'I-ARGM-CAU',\n",
       "     'O']},\n",
       "   {'verb': 'worsening',\n",
       "    'description': \"China 's consumption trend in 2021 shows a divergence among income groups , with service consumption outperforming goods sales due to [V: worsening] [ARG1: income prospects] .\",\n",
       "    'tags': ['O',\n",
       "     'O',\n",
       "     'O',\n",
       "     'O',\n",
       "     'O',\n",
       "     'O',\n",
       "     'O',\n",
       "     'O',\n",
       "     'O',\n",
       "     'O',\n",
       "     'O',\n",
       "     'O',\n",
       "     'O',\n",
       "     'O',\n",
       "     'O',\n",
       "     'O',\n",
       "     'O',\n",
       "     'O',\n",
       "     'O',\n",
       "     'O',\n",
       "     'O',\n",
       "     'B-V',\n",
       "     'B-ARG1',\n",
       "     'I-ARG1',\n",
       "     'O']}],\n",
       "  'words': ['China',\n",
       "   \"'s\",\n",
       "   'consumption',\n",
       "   'trend',\n",
       "   'in',\n",
       "   '2021',\n",
       "   'shows',\n",
       "   'a',\n",
       "   'divergence',\n",
       "   'among',\n",
       "   'income',\n",
       "   'groups',\n",
       "   ',',\n",
       "   'with',\n",
       "   'service',\n",
       "   'consumption',\n",
       "   'outperforming',\n",
       "   'goods',\n",
       "   'sales',\n",
       "   'due',\n",
       "   'to',\n",
       "   'worsening',\n",
       "   'income',\n",
       "   'prospects',\n",
       "   '.']},\n",
       " {'verbs': [{'verb': 'hit',\n",
       "    'description': '[ARG0: Total booking value on Chinese travel platforms Trip.com and Tongcheng Travel] [V: hit] [ARG1: a record high] [ARGM-TMP: in July] , [ARGM-PRD: driven by high demand during the summer holiday] .',\n",
       "    'tags': ['B-ARG0',\n",
       "     'I-ARG0',\n",
       "     'I-ARG0',\n",
       "     'I-ARG0',\n",
       "     'I-ARG0',\n",
       "     'I-ARG0',\n",
       "     'I-ARG0',\n",
       "     'I-ARG0',\n",
       "     'I-ARG0',\n",
       "     'I-ARG0',\n",
       "     'I-ARG0',\n",
       "     'B-V',\n",
       "     'B-ARG1',\n",
       "     'I-ARG1',\n",
       "     'I-ARG1',\n",
       "     'B-ARGM-TMP',\n",
       "     'I-ARGM-TMP',\n",
       "     'O',\n",
       "     'B-ARGM-PRD',\n",
       "     'I-ARGM-PRD',\n",
       "     'I-ARGM-PRD',\n",
       "     'I-ARGM-PRD',\n",
       "     'I-ARGM-PRD',\n",
       "     'I-ARGM-PRD',\n",
       "     'I-ARGM-PRD',\n",
       "     'I-ARGM-PRD',\n",
       "     'O']},\n",
       "   {'verb': 'driven',\n",
       "    'description': '[ARG1: Total booking value on Chinese travel platforms Trip.com and Tongcheng Travel] hit a record high in July , [V: driven] [ARG0: by high demand] [ARGM-TMP: during the summer holiday] .',\n",
       "    'tags': ['B-ARG1',\n",
       "     'I-ARG1',\n",
       "     'I-ARG1',\n",
       "     'I-ARG1',\n",
       "     'I-ARG1',\n",
       "     'I-ARG1',\n",
       "     'I-ARG1',\n",
       "     'I-ARG1',\n",
       "     'I-ARG1',\n",
       "     'I-ARG1',\n",
       "     'I-ARG1',\n",
       "     'O',\n",
       "     'O',\n",
       "     'O',\n",
       "     'O',\n",
       "     'O',\n",
       "     'O',\n",
       "     'O',\n",
       "     'B-V',\n",
       "     'B-ARG0',\n",
       "     'I-ARG0',\n",
       "     'I-ARG0',\n",
       "     'B-ARGM-TMP',\n",
       "     'I-ARGM-TMP',\n",
       "     'I-ARGM-TMP',\n",
       "     'I-ARGM-TMP',\n",
       "     'O']}],\n",
       "  'words': ['Total',\n",
       "   'booking',\n",
       "   'value',\n",
       "   'on',\n",
       "   'Chinese',\n",
       "   'travel',\n",
       "   'platforms',\n",
       "   'Trip.com',\n",
       "   'and',\n",
       "   'Tongcheng',\n",
       "   'Travel',\n",
       "   'hit',\n",
       "   'a',\n",
       "   'record',\n",
       "   'high',\n",
       "   'in',\n",
       "   'July',\n",
       "   ',',\n",
       "   'driven',\n",
       "   'by',\n",
       "   'high',\n",
       "   'demand',\n",
       "   'during',\n",
       "   'the',\n",
       "   'summer',\n",
       "   'holiday',\n",
       "   '.']},\n",
       " {'verbs': [{'verb': 'reached',\n",
       "    'description': '[ARGM-ADV: Despite a slight weakening in August] , [ARG0: summer box office data in China] [V: reached] [ARG1: a new historical high of 20.62 billion yuan] , [ARGM-ADV: surpassing the previous record set in 2019] .',\n",
       "    'tags': ['B-ARGM-ADV',\n",
       "     'I-ARGM-ADV',\n",
       "     'I-ARGM-ADV',\n",
       "     'I-ARGM-ADV',\n",
       "     'I-ARGM-ADV',\n",
       "     'I-ARGM-ADV',\n",
       "     'O',\n",
       "     'B-ARG0',\n",
       "     'I-ARG0',\n",
       "     'I-ARG0',\n",
       "     'I-ARG0',\n",
       "     'I-ARG0',\n",
       "     'I-ARG0',\n",
       "     'B-V',\n",
       "     'B-ARG1',\n",
       "     'I-ARG1',\n",
       "     'I-ARG1',\n",
       "     'I-ARG1',\n",
       "     'I-ARG1',\n",
       "     'I-ARG1',\n",
       "     'I-ARG1',\n",
       "     'I-ARG1',\n",
       "     'O',\n",
       "     'B-ARGM-ADV',\n",
       "     'I-ARGM-ADV',\n",
       "     'I-ARGM-ADV',\n",
       "     'I-ARGM-ADV',\n",
       "     'I-ARGM-ADV',\n",
       "     'I-ARGM-ADV',\n",
       "     'I-ARGM-ADV',\n",
       "     'O']},\n",
       "   {'verb': 'surpassing',\n",
       "    'description': 'Despite a slight weakening in August , [ARG0: summer box office data in China] reached a new historical high of 20.62 billion yuan , [V: surpassing] [ARG1: the previous record set in 2019] .',\n",
       "    'tags': ['O',\n",
       "     'O',\n",
       "     'O',\n",
       "     'O',\n",
       "     'O',\n",
       "     'O',\n",
       "     'O',\n",
       "     'B-ARG0',\n",
       "     'I-ARG0',\n",
       "     'I-ARG0',\n",
       "     'I-ARG0',\n",
       "     'I-ARG0',\n",
       "     'I-ARG0',\n",
       "     'O',\n",
       "     'O',\n",
       "     'O',\n",
       "     'O',\n",
       "     'O',\n",
       "     'O',\n",
       "     'O',\n",
       "     'O',\n",
       "     'O',\n",
       "     'O',\n",
       "     'B-V',\n",
       "     'B-ARG1',\n",
       "     'I-ARG1',\n",
       "     'I-ARG1',\n",
       "     'I-ARG1',\n",
       "     'I-ARG1',\n",
       "     'I-ARG1',\n",
       "     'O']}],\n",
       "  'words': ['Despite',\n",
       "   'a',\n",
       "   'slight',\n",
       "   'weakening',\n",
       "   'in',\n",
       "   'August',\n",
       "   ',',\n",
       "   'summer',\n",
       "   'box',\n",
       "   'office',\n",
       "   'data',\n",
       "   'in',\n",
       "   'China',\n",
       "   'reached',\n",
       "   'a',\n",
       "   'new',\n",
       "   'historical',\n",
       "   'high',\n",
       "   'of',\n",
       "   '20.62',\n",
       "   'billion',\n",
       "   'yuan',\n",
       "   ',',\n",
       "   'surpassing',\n",
       "   'the',\n",
       "   'previous',\n",
       "   'record',\n",
       "   'set',\n",
       "   'in',\n",
       "   '2019',\n",
       "   '.']}]"
      ]
     },
     "execution_count": 13,
     "metadata": {},
     "output_type": "execute_result"
    }
   ],
   "source": [
    "allennlp_event_lst"
   ]
  },
  {
   "cell_type": "code",
   "execution_count": 16,
   "id": "3c27808f",
   "metadata": {
    "ExecuteTime": {
     "end_time": "2025-02-25T03:16:08.907562Z",
     "start_time": "2025-02-25T03:16:08.904905Z"
    },
    "scrolled": true
   },
   "outputs": [
    {
     "name": "stdout",
     "output_type": "stream",
     "text": [
      "Event: shows\n",
      "  ARG0: China 's consumption trend in 2021\n",
      "  V: shows\n",
      "  ARG1: a divergence among income groups\n",
      "  ARGM-PRD: with service consumption outperforming goods sales due to worsening income prospects\n",
      "\n",
      "Event: outperforming\n",
      "  ARG0: service consumption\n",
      "  V: outperforming\n",
      "  ARG1: goods sales\n",
      "  ARGM-CAU: due to worsening income prospects\n",
      "\n",
      "Event: worsening\n",
      "  V: worsening\n",
      "  ARG1: income prospects\n",
      "\n",
      "Event: hit\n",
      "  ARG0: Total booking value on Chinese travel platforms Trip.com and Tongcheng Travel\n",
      "  V: hit\n",
      "  ARG1: a record high\n",
      "  ARGM-TMP: in July\n",
      "  ARGM-PRD: driven by high demand during the summer holiday\n",
      "\n",
      "Event: driven\n",
      "  ARG1: Total booking value on Chinese travel platforms Trip.com and Tongcheng Travel\n",
      "  V: driven\n",
      "  ARG0: by high demand\n",
      "  ARGM-TMP: during the summer holiday\n",
      "\n",
      "Event: reached\n",
      "  ARGM-ADV: surpassing the previous record set in 2019\n",
      "  ARG0: summer box office data in China\n",
      "  V: reached\n",
      "  ARG1: a new historical high of 20.62 billion yuan\n",
      "\n",
      "Event: surpassing\n",
      "  ARG0: summer box office data in China\n",
      "  V: surpassing\n",
      "  ARG1: the previous record set in 2019\n",
      "\n"
     ]
    }
   ],
   "source": [
    "# Convert BIO tags to structured format\n",
    "for event in allennlp_event_lst:\n",
    "    events = combine_bio_tags(event)\n",
    "\n",
    "    # Print structured event representation\n",
    "    for event in events:\n",
    "        print(f\"Event: {event['Event']}\")\n",
    "        for role, phrase in event[\"Roles\"].items():\n",
    "            print(f\"  {role}: {phrase}\")\n",
    "        print()"
   ]
  },
  {
   "cell_type": "markdown",
   "id": "dbdbd53e",
   "metadata": {},
   "source": [
    "## NER"
   ]
  },
  {
   "cell_type": "code",
   "execution_count": 4,
   "id": "5da3bcc3",
   "metadata": {
    "ExecuteTime": {
     "end_time": "2025-02-25T03:28:18.783646Z",
     "start_time": "2025-02-25T03:28:18.058090Z"
    },
    "scrolled": true
   },
   "outputs": [
    {
     "name": "stderr",
     "output_type": "stream",
     "text": [
      "Some weights of the model checkpoint at dslim/bert-base-NER were not used when initializing BertForTokenClassification: ['bert.pooler.dense.bias', 'bert.pooler.dense.weight']\n",
      "- This IS expected if you are initializing BertForTokenClassification from the checkpoint of a model trained on another task or with another architecture (e.g. initializing a BertForSequenceClassification model from a BertForPreTraining model).\n",
      "- This IS NOT expected if you are initializing BertForTokenClassification from the checkpoint of a model that you expect to be exactly identical (initializing a BertForSequenceClassification model from a BertForSequenceClassification model).\n",
      "Device set to use cuda:0\n"
     ]
    }
   ],
   "source": [
    "from transformers import AutoTokenizer, AutoModelForTokenClassification\n",
    "from transformers import pipeline\n",
    "\n",
    "tokenizer = AutoTokenizer.from_pretrained(\"dslim/bert-base-NER\")\n",
    "model = AutoModelForTokenClassification.from_pretrained(\"dslim/bert-base-NER\")\n",
    "\n",
    "nlp = pipeline(\"ner\", model=model, tokenizer=tokenizer)\n",
    "\n",
    "summary = [\n",
    "    \"China's consumption trend in 2021 shows a divergence among income groups, with service consumption outperforming goods sales due to worsening income prospects.\",\n",
    "    \"Total booking value on Chinese travel platforms Trip.com and Tongcheng Travel hit a record high in July, driven by high demand during the summer holiday.\",\n",
    "    \"Despite a slight weakening in August, summer box office data in China reached a new historical high of 20.62 billion yuan, surpassing the previous record set in 2019.\"\n",
    "]\n",
    "\n",
    "ner_results = []\n",
    "for data in summary:\n",
    "    result = nlp(data)\n",
    "    ner_results.append(result)\n"
   ]
  },
  {
   "cell_type": "code",
   "execution_count": 5,
   "id": "6dda9aa7",
   "metadata": {
    "ExecuteTime": {
     "end_time": "2025-02-25T03:28:20.716270Z",
     "start_time": "2025-02-25T03:28:20.713023Z"
    },
    "scrolled": true
   },
   "outputs": [
    {
     "data": {
      "text/plain": [
       "[[{'entity': 'B-LOC',\n",
       "   'score': 0.9998479,\n",
       "   'index': 1,\n",
       "   'word': 'China',\n",
       "   'start': 0,\n",
       "   'end': 5}],\n",
       " [{'entity': 'B-MISC',\n",
       "   'score': 0.99977785,\n",
       "   'index': 5,\n",
       "   'word': 'Chinese',\n",
       "   'start': 23,\n",
       "   'end': 30},\n",
       "  {'entity': 'B-ORG',\n",
       "   'score': 0.99913543,\n",
       "   'index': 8,\n",
       "   'word': 'Trip',\n",
       "   'start': 48,\n",
       "   'end': 52},\n",
       "  {'entity': 'I-ORG',\n",
       "   'score': 0.9943826,\n",
       "   'index': 9,\n",
       "   'word': '.',\n",
       "   'start': 52,\n",
       "   'end': 53},\n",
       "  {'entity': 'I-ORG',\n",
       "   'score': 0.9972887,\n",
       "   'index': 10,\n",
       "   'word': 'com',\n",
       "   'start': 53,\n",
       "   'end': 56},\n",
       "  {'entity': 'B-ORG',\n",
       "   'score': 0.9989667,\n",
       "   'index': 12,\n",
       "   'word': 'Tong',\n",
       "   'start': 61,\n",
       "   'end': 65},\n",
       "  {'entity': 'I-ORG',\n",
       "   'score': 0.9958977,\n",
       "   'index': 13,\n",
       "   'word': '##cheng',\n",
       "   'start': 65,\n",
       "   'end': 70},\n",
       "  {'entity': 'I-ORG',\n",
       "   'score': 0.99571085,\n",
       "   'index': 14,\n",
       "   'word': 'Travel',\n",
       "   'start': 71,\n",
       "   'end': 77}],\n",
       " [{'entity': 'B-LOC',\n",
       "   'score': 0.9998381,\n",
       "   'index': 13,\n",
       "   'word': 'China',\n",
       "   'start': 64,\n",
       "   'end': 69}]]"
      ]
     },
     "execution_count": 5,
     "metadata": {},
     "output_type": "execute_result"
    }
   ],
   "source": [
    "ner_results"
   ]
  },
  {
   "cell_type": "code",
   "execution_count": 7,
   "id": "d62c4ddf",
   "metadata": {
    "ExecuteTime": {
     "end_time": "2025-02-25T03:29:54.279948Z",
     "start_time": "2025-02-25T03:29:54.274313Z"
    }
   },
   "outputs": [],
   "source": [
    "def combine_bio_entities(ner_results):\n",
    "    \"\"\"\n",
    "    Combines BIO-tagged named entity recognition (NER) results into complete entities.\n",
    "\n",
    "    Parameters:\n",
    "    - ner_results: List of lists containing token-level BIO-tagged entities.\n",
    "\n",
    "    Returns:\n",
    "    - List of combined entity names with labels.\n",
    "    \"\"\"\n",
    "    combined_entities = []\n",
    "    \n",
    "    for sentence in ner_results:\n",
    "        current_entity = None\n",
    "        current_label = None\n",
    "        current_words = []\n",
    "        current_start = None\n",
    "        current_end = None\n",
    "        current_score = []\n",
    "        \n",
    "        for token in sentence:\n",
    "            entity = token[\"entity\"]\n",
    "            word = token[\"word\"]\n",
    "            score = token[\"score\"]\n",
    "            start = token[\"start\"]\n",
    "            end = token[\"end\"]\n",
    "\n",
    "            # If it's a beginning token (B-), start a new entity\n",
    "            if entity.startswith(\"B-\"):\n",
    "                # Store previous entity before starting a new one\n",
    "                if current_entity:\n",
    "                    combined_entities.append({\n",
    "                        \"entity\": current_entity,\n",
    "                        \"label\": current_label,\n",
    "                        \"score\": sum(current_score) / len(current_score),  # Average score\n",
    "                        \"start\": current_start,\n",
    "                        \"end\": current_end\n",
    "                    })\n",
    "\n",
    "                # Start new entity\n",
    "                current_entity = word\n",
    "                current_label = entity[2:]  # Remove \"B-\" prefix\n",
    "                current_words = [word]\n",
    "                current_start = start\n",
    "                current_end = end\n",
    "                current_score = [score]\n",
    "\n",
    "            # If it's an inside token (I-) and matches the current entity type, continue\n",
    "            elif entity.startswith(\"I-\") and current_label == entity[2:]:\n",
    "                current_words.append(word)\n",
    "                current_end = end  # Update end position\n",
    "                current_score.append(score)\n",
    "\n",
    "            # If it's a standalone entity or something went wrong, store the previous entity\n",
    "            else:\n",
    "                if current_entity:\n",
    "                    combined_entities.append({\n",
    "                        \"entity\": \" \".join(current_words).replace(\" ##\", \"\"),  # Remove subword markers\n",
    "                        \"label\": current_label,\n",
    "                        \"score\": sum(current_score) / len(current_score),\n",
    "                        \"start\": current_start,\n",
    "                        \"end\": current_end\n",
    "                    })\n",
    "                current_entity = None\n",
    "                current_label = None\n",
    "                current_words = []\n",
    "                current_start = None\n",
    "                current_end = None\n",
    "                current_score = []\n",
    "\n",
    "        # Store the last entity if any\n",
    "        if current_entity:\n",
    "            combined_entities.append({\n",
    "                \"entity\": \" \".join(current_words).replace(\" ##\", \"\"),  \n",
    "                \"label\": current_label,\n",
    "                \"score\": sum(current_score) / len(current_score),\n",
    "                \"start\": current_start,\n",
    "                \"end\": current_end\n",
    "            })\n",
    "\n",
    "    return combined_entities\n",
    "\n",
    "\n",
    "# Run the function\n",
    "combined_entities = combine_bio_entities(ner_results)\n"
   ]
  },
  {
   "cell_type": "code",
   "execution_count": 8,
   "id": "7996f217",
   "metadata": {
    "ExecuteTime": {
     "end_time": "2025-02-25T03:29:57.182501Z",
     "start_time": "2025-02-25T03:29:57.179058Z"
    }
   },
   "outputs": [
    {
     "data": {
      "text/plain": [
       "[{'entity': 'China',\n",
       "  'label': 'LOC',\n",
       "  'score': 0.9998478889465332,\n",
       "  'start': 0,\n",
       "  'end': 5},\n",
       " {'entity': 'Chinese',\n",
       "  'label': 'MISC',\n",
       "  'score': 0.9997778534889221,\n",
       "  'start': 23,\n",
       "  'end': 30},\n",
       " {'entity': 'Trip',\n",
       "  'label': 'ORG',\n",
       "  'score': 0.9969355861345927,\n",
       "  'start': 48,\n",
       "  'end': 56},\n",
       " {'entity': 'Tongcheng Travel',\n",
       "  'label': 'ORG',\n",
       "  'score': 0.9968584179878235,\n",
       "  'start': 61,\n",
       "  'end': 77},\n",
       " {'entity': 'China',\n",
       "  'label': 'LOC',\n",
       "  'score': 0.99983811378479,\n",
       "  'start': 64,\n",
       "  'end': 69}]"
      ]
     },
     "execution_count": 8,
     "metadata": {},
     "output_type": "execute_result"
    }
   ],
   "source": [
    "combined_entities"
   ]
  },
  {
   "cell_type": "code",
   "execution_count": 9,
   "id": "04fd6ffb",
   "metadata": {
    "ExecuteTime": {
     "end_time": "2025-02-25T04:27:23.294883Z",
     "start_time": "2025-02-25T04:27:23.291228Z"
    }
   },
   "outputs": [
    {
     "data": {
      "text/plain": [
       "[[{'entity': 'B-LOC',\n",
       "   'score': 0.9998479,\n",
       "   'index': 1,\n",
       "   'word': 'China',\n",
       "   'start': 0,\n",
       "   'end': 5}],\n",
       " [{'entity': 'B-MISC',\n",
       "   'score': 0.99977785,\n",
       "   'index': 5,\n",
       "   'word': 'Chinese',\n",
       "   'start': 23,\n",
       "   'end': 30},\n",
       "  {'entity': 'B-ORG',\n",
       "   'score': 0.99913543,\n",
       "   'index': 8,\n",
       "   'word': 'Trip',\n",
       "   'start': 48,\n",
       "   'end': 52},\n",
       "  {'entity': 'I-ORG',\n",
       "   'score': 0.9943826,\n",
       "   'index': 9,\n",
       "   'word': '.',\n",
       "   'start': 52,\n",
       "   'end': 53},\n",
       "  {'entity': 'I-ORG',\n",
       "   'score': 0.9972887,\n",
       "   'index': 10,\n",
       "   'word': 'com',\n",
       "   'start': 53,\n",
       "   'end': 56},\n",
       "  {'entity': 'B-ORG',\n",
       "   'score': 0.9989667,\n",
       "   'index': 12,\n",
       "   'word': 'Tong',\n",
       "   'start': 61,\n",
       "   'end': 65},\n",
       "  {'entity': 'I-ORG',\n",
       "   'score': 0.9958977,\n",
       "   'index': 13,\n",
       "   'word': '##cheng',\n",
       "   'start': 65,\n",
       "   'end': 70},\n",
       "  {'entity': 'I-ORG',\n",
       "   'score': 0.99571085,\n",
       "   'index': 14,\n",
       "   'word': 'Travel',\n",
       "   'start': 71,\n",
       "   'end': 77}],\n",
       " [{'entity': 'B-LOC',\n",
       "   'score': 0.9998381,\n",
       "   'index': 13,\n",
       "   'word': 'China',\n",
       "   'start': 64,\n",
       "   'end': 69}]]"
      ]
     },
     "execution_count": 9,
     "metadata": {},
     "output_type": "execute_result"
    }
   ],
   "source": [
    "ner_results"
   ]
  }
 ],
 "metadata": {
  "kernelspec": {
   "display_name": "Python 3 (ipykernel)",
   "language": "python",
   "name": "python3"
  },
  "language_info": {
   "codemirror_mode": {
    "name": "ipython",
    "version": 3
   },
   "file_extension": ".py",
   "mimetype": "text/x-python",
   "name": "python",
   "nbconvert_exporter": "python",
   "pygments_lexer": "ipython3",
   "version": "3.11.5"
  },
  "toc": {
   "base_numbering": 1,
   "nav_menu": {},
   "number_sections": true,
   "sideBar": true,
   "skip_h1_title": false,
   "title_cell": "Table of Contents",
   "title_sidebar": "Contents",
   "toc_cell": false,
   "toc_position": {
    "height": "calc(100% - 180px)",
    "left": "10px",
    "top": "150px",
    "width": "244.25px"
   },
   "toc_section_display": true,
   "toc_window_display": true
  },
  "varInspector": {
   "cols": {
    "lenName": 16,
    "lenType": 16,
    "lenVar": 40
   },
   "kernels_config": {
    "python": {
     "delete_cmd_postfix": "",
     "delete_cmd_prefix": "del ",
     "library": "var_list.py",
     "varRefreshCmd": "print(var_dic_list())"
    },
    "r": {
     "delete_cmd_postfix": ") ",
     "delete_cmd_prefix": "rm(",
     "library": "var_list.r",
     "varRefreshCmd": "cat(var_dic_list()) "
    }
   },
   "types_to_exclude": [
    "module",
    "function",
    "builtin_function_or_method",
    "instance",
    "_Feature"
   ],
   "window_display": false
  }
 },
 "nbformat": 4,
 "nbformat_minor": 5
}
