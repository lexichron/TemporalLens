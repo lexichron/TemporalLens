{
 "cells": [
  {
   "cell_type": "code",
   "execution_count": 55,
   "metadata": {},
   "outputs": [
    {
     "data": {
      "text/plain": [
       "True"
      ]
     },
     "execution_count": 55,
     "metadata": {},
     "output_type": "execute_result"
    }
   ],
   "source": [
    "import pandas as pd\n",
    "import os\n",
    "from openai import OpenAI\n",
    "import json\n",
    "from pydantic import BaseModel, Field\n",
    "from typing import List, Optional\n",
    "\n",
    "from dotenv import load_dotenv\n",
    "load_dotenv()"
   ]
  },
  {
   "cell_type": "code",
   "execution_count": 30,
   "metadata": {},
   "outputs": [],
   "source": [
    "def chat_completion(client, prompt, response_format=None):\n",
    "    messages = [\n",
    "        {\n",
    "            \"role\": \"user\",\n",
    "            \"content\": prompt\n",
    "        }\n",
    "    ]\n",
    "    \n",
    "    kwargs = {\n",
    "        \"model\": \"gpt-4o\", # deepseek/deepseek-r1:free\n",
    "        \"messages\": messages,\n",
    "    }\n",
    "    \n",
    "    if response_format:\n",
    "        kwargs[\"response_format\"] = response_format\n",
    "        response = client.beta.chat.completions.parse(**kwargs)\n",
    "    else:\n",
    "        response = client.chat.completions.create(**kwargs)\n",
    "\n",
    "    return response.choices[0]\n"
   ]
  },
  {
   "cell_type": "code",
   "execution_count": 31,
   "metadata": {},
   "outputs": [],
   "source": [
    "# client = OpenAI(\n",
    "#   base_url=\"https://openrouter.ai/api/v1\",\n",
    "#   api_key=os.getenv(\"OPENROUTER_API_KEY\"),\n",
    "# )\n",
    "\n",
    "client = OpenAI()"
   ]
  },
  {
   "cell_type": "code",
   "execution_count": 53,
   "metadata": {},
   "outputs": [],
   "source": [
    "df = pd.read_csv(\"../data/data.csv\")\n",
    "df['Published Date'] = pd.to_datetime(df['Published Date'])"
   ]
  },
  {
   "cell_type": "code",
   "execution_count": 54,
   "metadata": {},
   "outputs": [],
   "source": [
    "df['FullContent'] = df['Title'] + \"\\n\" + df['Published Date'].apply(lambda x: x.strftime(\"%Y-%m-%d\")) + \"\\n\" + df['Content']"
   ]
  },
  {
   "cell_type": "code",
   "execution_count": 63,
   "metadata": {},
   "outputs": [],
   "source": [
    "class EventArgument(BaseModel):\n",
    "    \"\"\"Schema for event-related entities.\"\"\"\n",
    "    agent: Optional[str] = Field(None, description=\"Who caused the event?\")\n",
    "    object: Optional[str] = Field(None, description=\"What was affected?\")\n",
    "    location: Optional[str] = Field(None, description=\"Where did it happen?\")\n",
    "    time: Optional[str] = Field(None, description=\"When did it happen? Give the date in the format YYYY-MM-DD where possible.\")\n",
    "    counterpart: Optional[str] = Field(None, description=\"Who else was involved?\")\n",
    "    impact_summary: Optional[str] = Field(None, description=\"What is the significance or consequence of this event?\")\n",
    "\n",
    "class Event(BaseModel):\n",
    "    \"\"\"Schema for detected events and their components.\"\"\"\n",
    "    event_type: str = Field(..., description=\"The type of event detected (e.g., Economic Policy, Market Crash, Political Decision).\")\n",
    "    trigger: str = Field(..., description=\"The main word(s) triggering the event.\")\n",
    "    event_summary: str = Field(..., description=\"A structured, full-sentence summary of the event capturing its broader context.\")\n",
    "    arguments: EventArgument = Field(..., description=\"Structured entities related to the event.\")\n",
    "\n",
    "class EventResponse(BaseModel):\n",
    "    \"\"\"Schema for a collection of detected events.\"\"\"\n",
    "    events: List[Event]\n"
   ]
  },
  {
   "cell_type": "code",
   "execution_count": 66,
   "metadata": {},
   "outputs": [],
   "source": [
    "prompt = \"\"\"\n",
    "You are an advanced NLP system specializing in event detection, trigger extraction, and summarization of news events.\n",
    "\n",
    "Your task is to extract structured events from the given news article and output them in JSON format.\n",
    "\n",
    "## Extraction Rules:\n",
    "1. Identify key events (e.g., economic policy, political decisions, disasters, agreements, financial impact).  \n",
    "2. Extract the event trigger (a key phrase indicating the event).  \n",
    "3. Generate a complete event summary in one sentence, capturing the full context.  \n",
    "4. Extract event arguments:\n",
    "   - Agent (Who caused the event?)\n",
    "   - Object (What was affected?)\n",
    "   - Location (Where did it happen?)\n",
    "   - Time (When did it happen?)\n",
    "   - Counterpart (Who else was involved?)\n",
    "   - Impact Summary (Why is this event important?)\n",
    "\n",
    "### Example Input\n",
    "\"The Federal Reserve raised interest rates by 0.5%, causing the stock market to plunge. Investors reacted negatively, leading to a sell-off.\"\n",
    "\n",
    "### Expected Output (Structured JSON)\n",
    "```json\n",
    "{{\n",
    "  \"events\": [\n",
    "    {{\n",
    "      \"event_type\": \"Economic Policy\",\n",
    "      \"trigger\": \"raised interest rates\",\n",
    "      \"event_summary\": \"The Federal Reserve increased interest rates by 0.5%, leading to stock market volatility and investor uncertainty.\",\n",
    "      \"arguments\": {{\n",
    "        \"agent\": \"Federal Reserve\",\n",
    "        \"object\": \"interest rates\",\n",
    "        \"location\": \"United States\",\n",
    "        \"time\": \"2025-02-01\",\n",
    "        \"counterpart\": \"Stock Market\",\n",
    "        \"impact_summary\": \"Investors reacted negatively, increasing uncertainty in financial markets.\"\n",
    "      }}\n",
    "    }},\n",
    "    {{\n",
    "      \"event_type\": \"Market Crash\",\n",
    "      \"trigger\": \"plunged\",\n",
    "      \"event_summary\": \"Investor fears over rising interest rates led to a sharp decline in stock prices, causing a significant sell-off.\",\n",
    "      \"arguments\": {{\n",
    "        \"agent\": \"Investors\",\n",
    "        \"object\": \"stock market\",\n",
    "        \"location\": \"United States\",\n",
    "        \"time\": \"2025-02-02\",\n",
    "        \"counterpart\": null,\n",
    "        \"impact_summary\": \"Market losses wiped out $500 billion in value, impacting institutional and retail investors.\"\n",
    "      }}\n",
    "    }}\n",
    "  ]\n",
    "}}\n",
    "\n",
    "News article:\n",
    "```\n",
    "{article}\n",
    "```\n",
    "\n",
    "Take a deep breath and work on this step by step.\n",
    "\"\"\".strip()\n"
   ]
  },
  {
   "cell_type": "code",
   "execution_count": 67,
   "metadata": {},
   "outputs": [
    {
     "name": "stdout",
     "output_type": "stream",
     "text": [
      "You are an advanced NLP system specializing in event detection, trigger extraction, and summarization of news events.\n",
      "\n",
      "Your task is to extract structured events from the given news article and output them in JSON format.\n",
      "\n",
      "## Extraction Rules:\n",
      "1. Identify key events (e.g., economic policy, political decisions, disasters, agreements, financial impact).  \n",
      "2. Extract the event trigger (a key phrase indicating the event).  \n",
      "3. Generate a complete event summary in one sentence, capturing the full context.  \n",
      "4. Extract event arguments:\n",
      "   - Agent (Who caused the event?)\n",
      "   - Object (What was affected?)\n",
      "   - Location (Where did it happen?)\n",
      "   - Time (When did it happen?)\n",
      "   - Counterpart (Who else was involved?)\n",
      "   - Impact Summary (Why is this event important?)\n",
      "\n",
      "### Example Input\n",
      "\"The Federal Reserve raised interest rates by 0.5%, causing the stock market to plunge. Investors reacted negatively, leading to a sell-off.\"\n",
      "\n",
      "### Expected Output (Structured JSON)\n",
      "```json\n",
      "{\n",
      "  \"events\": [\n",
      "    {\n",
      "      \"event_type\": \"Economic Policy\",\n",
      "      \"trigger\": \"raised interest rates\",\n",
      "      \"event_summary\": \"The Federal Reserve increased interest rates by 0.5%, leading to stock market volatility and investor uncertainty.\",\n",
      "      \"arguments\": {\n",
      "        \"agent\": \"Federal Reserve\",\n",
      "        \"object\": \"interest rates\",\n",
      "        \"location\": \"United States\",\n",
      "        \"time\": \"2025-02-01\",\n",
      "        \"counterpart\": \"Stock Market\",\n",
      "        \"impact_summary\": \"Investors reacted negatively, increasing uncertainty in financial markets.\"\n",
      "      }\n",
      "    },\n",
      "    {\n",
      "      \"event_type\": \"Market Crash\",\n",
      "      \"trigger\": \"plunged\",\n",
      "      \"event_summary\": \"Investor fears over rising interest rates led to a sharp decline in stock prices, causing a significant sell-off.\",\n",
      "      \"arguments\": {\n",
      "        \"agent\": \"Investors\",\n",
      "        \"object\": \"stock market\",\n",
      "        \"location\": \"United States\",\n",
      "        \"time\": \"2025-02-02\",\n",
      "        \"counterpart\": null,\n",
      "        \"impact_summary\": \"Market losses wiped out $500 billion in value, impacting institutional and retail investors.\"\n",
      "      }\n",
      "    }\n",
      "  ]\n",
      "}\n",
      "\n",
      "News article:\n",
      "```\n",
      "Fed officials warn of inflation risks from tariff surge\n",
      "2025-02-03\n",
      "WASHINGTON - The Trump administration’s plan for trade tariffs come with inflation risks, two Federal Reserve officials warned on Feb 3, stopping short of saying how that affects their thinking on monetary policy in a climate of uncertainty.\n",
      "\n",
      "“The kind of broad-based tariffs that were announced over the weekend, one would expect to have an impact on prices,” Federal Reserve Bank of Boston president Susan Collins said in an interview with CNBC, adding that “with broad-based tariffs, you actually would not only see increases in prices of final goods, but also a number of intermediate goods.”\n",
      "\n",
      "Ms Collins, however, noted that there’s not a lot of experience on how mega tariffs impact the economy in the modern age, which makes it hard for the Fed to know exactly how things will play out. She noted it is possible that the Fed could even shrug off a one-time increase in inflation tied to the tariffs, although even that was uncertain.\n",
      "\n",
      "Speaking separately, Atlanta Fed President Raphael Bostic warned his business contacts were planning to pass through any rising costs related to the tariffs.\n",
      "\n",
      "“The ultimate question about whether that is significantly inflationary depends on exactly how it plays out,” as there are scenarios where the Fed may be able to shrug off these increases and ones where it might not be able to. “To the extent that were to impact things like inflation expectations then you’d have to,” Mr Bostic told reporters after a speech.\n",
      "\n",
      "Mr Trump on Feb 1 slapped tariffs on the three largest US trade partners, announcing a 25 per cent duty on goods from Mexico and Canada and an additional 10 per cent duty on imports from China. Canada retaliated with its own tariffs on a range of US products.\n",
      "\n",
      "On Feb 3, Mr Trump said he was suspending the tariffs on Mexico for a month after President Claudia Sheinbaum agreed to send soldiers to the US-Mexican border to curb drug trafficking. Later that same day, Mr Trump also granted Canada at least a 30-day reprieve after that nation agreed to create a special czar to target the smuggling of fentanyl while ensuring permanent monitoring of the shared border.\n",
      "\n",
      "In the fluid situation, economists noted that broadly speaking, the tariffs Mr Trump has been pursuing will push up inflation and depress growth.\n",
      "\n",
      "Analysts at the Peterson Institute for International Economics said on Feb 3 that the full suite of tariffs on the three nations, if implemented, will cost the typical American household an additional US$1,200 (S$1,600) a year in higher costs.\n",
      "\n",
      "Meanwhile, ING chief international economist James Knightley highlighted the uneven nature of who will bear the impact of tariffs, which are effectively tax increases on American citizens, as tariffs are paid by the citizens of importing nations.\n",
      "\n",
      "“Much of the cost increase caused by tariffs will be passed onto US consumers,” Mr Knightley said, adding “the burden will fall disproportionately on low-income households who spend more of their income on physical goods relative to higher income households.”\n",
      "\n",
      "‘No urgency’\n",
      "\n",
      "The Federal Reserve, which cut interest rates by a full percentage point last year, held its policy rate steady last week, flagging uncertainty in the economic outlook. Fed chairman Jerome Powell said after the meeting that when it comes to tariffs, “we need to let those policies be articulated before we can even begin to make a plausible assessment of what their implications for the economy will be.”\n",
      "\n",
      "Ms Collins, who is a voting member of the Fed’s rate-setting committee this year, told CNBC that Fed policy is well-positioned to deal with what lies ahead for the economy. She noted that “it’s really appropriate for policy to be patient, careful, and there’s no urgency for making additional adjustments, especially given all of the uncertainty, even though, of course, we’re still somewhat restrictive” with the current stance of interest rates.\n",
      "\n",
      "Mr Bostic also signaled he was ready to move to the sidelines for the time being. There is “a ton of uncertainty in a ton of space,” Mr Bostic told a Rotary Club of Atlanta meeting, adding “there are a lot of things I am going to wait and see about ... I’d be very satisfied to wait for a while” with rates at their current levels.\n",
      "\n",
      "More on this Topic\n",
      "\n",
      "Ms Collins left the door open to further rate cuts, saying “I certainly would see additional ... normalisation, in terms of what the policy stance is,” without providing a time frame.\n",
      "\n",
      "Even before the tariff announcement Wall Street had been reckoning it would be some time before the Fed found the space to cut rates again. Trump’s tariffs, if implemented, may close the door to any further easing, although for now financial markets are still priced for some modest easing.\n",
      "\n",
      "In her television interview, Collins said the ultimate policy response by the Fed to the impact of the tariffs is unclear, though she noted it might be possible for central bank officials to not react at all. REUTERS\n",
      "\n",
      "Join ST's Telegram channel and get the latest breaking news delivered to you.\n",
      "\n",
      "Thanks for sharing!\n",
      "```\n",
      "\n",
      "Take a deep breath and work on this step by step.\n"
     ]
    }
   ],
   "source": [
    "print(prompt.format(article=df['FullContent'].values[0]))"
   ]
  },
  {
   "cell_type": "code",
   "execution_count": 68,
   "metadata": {},
   "outputs": [],
   "source": [
    "response = chat_completion(client, prompt.format(article=df['FullContent'].values[0]), response_format=EventResponse) "
   ]
  },
  {
   "cell_type": "code",
   "execution_count": 70,
   "metadata": {},
   "outputs": [
    {
     "data": {
      "text/plain": [
       "{'events': [{'event_type': 'Economic Policy',\n",
       "   'trigger': 'trade tariffs',\n",
       "   'event_summary': 'The Trump administration announced a plan for trade tariffs on the three largest US trade partners, leading to potential inflation risks.',\n",
       "   'arguments': {'agent': 'Trump administration',\n",
       "    'object': 'trade tariffs',\n",
       "    'location': 'United States',\n",
       "    'time': '2025-02-01',\n",
       "    'counterpart': 'Mexico, Canada, and China',\n",
       "    'impact_summary': 'Potential inflation risks could impact monetary policy and economic growth.'}},\n",
       "  {'event_type': 'International Trade Dispute',\n",
       "   'trigger': 'retaliated with its own tariffs',\n",
       "   'event_summary': 'Canada responded to the US tariffs by implementing its own range of tariffs on American products.',\n",
       "   'arguments': {'agent': 'Canada',\n",
       "    'object': 'US tariffs',\n",
       "    'location': 'Canada',\n",
       "    'time': '2025-02-03',\n",
       "    'counterpart': 'United States',\n",
       "    'impact_summary': 'Increased tension in trade relations and potential economic repercussions.'}},\n",
       "  {'event_type': 'Bilateral Agreement',\n",
       "   'trigger': 'suspending the tariffs',\n",
       "   'event_summary': 'President Trump temporarily suspended tariffs on Mexico and Canada after agreements were reached to address border and trade issues.',\n",
       "   'arguments': {'agent': 'President Trump',\n",
       "    'object': 'tariffs',\n",
       "    'location': 'United States',\n",
       "    'time': '2025-02-03',\n",
       "    'counterpart': 'Mexico and Canada',\n",
       "    'impact_summary': 'A temporary de-escalation in trade tensions with Mexico and Canada.'}},\n",
       "  {'event_type': 'Economic Impact Analysis',\n",
       "   'trigger': 'push up inflation and depress growth',\n",
       "   'event_summary': 'Economists predict that the tariffs will increase inflation and reduce economic growth in the United States.',\n",
       "   'arguments': {'agent': 'Economists',\n",
       "    'object': 'US Economy',\n",
       "    'location': 'United States',\n",
       "    'time': '2025-02-03',\n",
       "    'counterpart': None,\n",
       "    'impact_summary': 'Tariffs could result in higher consumer prices and slower economic growth.'}},\n",
       "  {'event_type': 'Monetary Policy Decision',\n",
       "   'trigger': 'held its policy rate steady',\n",
       "   'event_summary': 'The Federal Reserve decided to hold its policy rate steady amid economic uncertainty related to the trade tariffs.',\n",
       "   'arguments': {'agent': 'Federal Reserve',\n",
       "    'object': 'policy rate',\n",
       "    'location': 'United States',\n",
       "    'time': '2025-02-02',\n",
       "    'counterpart': None,\n",
       "    'impact_summary': 'Significant economic uncertainty led to a cautious approach in monetary policy.'}},\n",
       "  {'event_type': 'Economic Policy',\n",
       "   'trigger': 'no urgency for making additional adjustments',\n",
       "   'event_summary': 'Federal Reserve officials signaled a patient approach to rate changes due to uncertainty about the economic impact of the trade policies.',\n",
       "   'arguments': {'agent': 'Federal Reserve',\n",
       "    'object': 'interest rates',\n",
       "    'location': 'United States',\n",
       "    'time': '2025-02-03',\n",
       "    'counterpart': None,\n",
       "    'impact_summary': 'The Fed confirms caution in altering interest rates given economic uncertainty.'}}]}"
      ]
     },
     "execution_count": 70,
     "metadata": {},
     "output_type": "execute_result"
    }
   ],
   "source": [
    "json.loads(response.message.content)"
   ]
  },
  {
   "cell_type": "code",
   "execution_count": 48,
   "metadata": {},
   "outputs": [
    {
     "name": "stdout",
     "output_type": "stream",
     "text": [
      "Fed officials warn of inflation risks from tariff surge\n",
      "WASHINGTON - The Trump administration’s plan for trade tariffs come with inflation risks, two Federal Reserve officials warned on Feb 3, stopping short of saying how that affects their thinking on monetary policy in a climate of uncertainty.\n",
      "\n",
      "“The kind of broad-based tariffs that were announced over the weekend, one would expect to have an impact on prices,” Federal Reserve Bank of Boston president Susan Collins said in an interview with CNBC, adding that “with broad-based tariffs, you actually would not only see increases in prices of final goods, but also a number of intermediate goods.”\n",
      "\n",
      "Ms Collins, however, noted that there’s not a lot of experience on how mega tariffs impact the economy in the modern age, which makes it hard for the Fed to know exactly how things will play out. She noted it is possible that the Fed could even shrug off a one-time increase in inflation tied to the tariffs, although even that was uncertain.\n",
      "\n",
      "Speaking separately, Atlanta Fed President Raphael Bostic warned his business contacts were planning to pass through any rising costs related to the tariffs.\n",
      "\n",
      "“The ultimate question about whether that is significantly inflationary depends on exactly how it plays out,” as there are scenarios where the Fed may be able to shrug off these increases and ones where it might not be able to. “To the extent that were to impact things like inflation expectations then you’d have to,” Mr Bostic told reporters after a speech.\n",
      "\n",
      "Mr Trump on Feb 1 slapped tariffs on the three largest US trade partners, announcing a 25 per cent duty on goods from Mexico and Canada and an additional 10 per cent duty on imports from China. Canada retaliated with its own tariffs on a range of US products.\n",
      "\n",
      "On Feb 3, Mr Trump said he was suspending the tariffs on Mexico for a month after President Claudia Sheinbaum agreed to send soldiers to the US-Mexican border to curb drug trafficking. Later that same day, Mr Trump also granted Canada at least a 30-day reprieve after that nation agreed to create a special czar to target the smuggling of fentanyl while ensuring permanent monitoring of the shared border.\n",
      "\n",
      "In the fluid situation, economists noted that broadly speaking, the tariffs Mr Trump has been pursuing will push up inflation and depress growth.\n",
      "\n",
      "Analysts at the Peterson Institute for International Economics said on Feb 3 that the full suite of tariffs on the three nations, if implemented, will cost the typical American household an additional US$1,200 (S$1,600) a year in higher costs.\n",
      "\n",
      "Meanwhile, ING chief international economist James Knightley highlighted the uneven nature of who will bear the impact of tariffs, which are effectively tax increases on American citizens, as tariffs are paid by the citizens of importing nations.\n",
      "\n",
      "“Much of the cost increase caused by tariffs will be passed onto US consumers,” Mr Knightley said, adding “the burden will fall disproportionately on low-income households who spend more of their income on physical goods relative to higher income households.”\n",
      "\n",
      "‘No urgency’\n",
      "\n",
      "The Federal Reserve, which cut interest rates by a full percentage point last year, held its policy rate steady last week, flagging uncertainty in the economic outlook. Fed chairman Jerome Powell said after the meeting that when it comes to tariffs, “we need to let those policies be articulated before we can even begin to make a plausible assessment of what their implications for the economy will be.”\n",
      "\n",
      "Ms Collins, who is a voting member of the Fed’s rate-setting committee this year, told CNBC that Fed policy is well-positioned to deal with what lies ahead for the economy. She noted that “it’s really appropriate for policy to be patient, careful, and there’s no urgency for making additional adjustments, especially given all of the uncertainty, even though, of course, we’re still somewhat restrictive” with the current stance of interest rates.\n",
      "\n",
      "Mr Bostic also signaled he was ready to move to the sidelines for the time being. There is “a ton of uncertainty in a ton of space,” Mr Bostic told a Rotary Club of Atlanta meeting, adding “there are a lot of things I am going to wait and see about ... I’d be very satisfied to wait for a while” with rates at their current levels.\n",
      "\n",
      "More on this Topic\n",
      "\n",
      "Ms Collins left the door open to further rate cuts, saying “I certainly would see additional ... normalisation, in terms of what the policy stance is,” without providing a time frame.\n",
      "\n",
      "Even before the tariff announcement Wall Street had been reckoning it would be some time before the Fed found the space to cut rates again. Trump’s tariffs, if implemented, may close the door to any further easing, although for now financial markets are still priced for some modest easing.\n",
      "\n",
      "In her television interview, Collins said the ultimate policy response by the Fed to the impact of the tariffs is unclear, though she noted it might be possible for central bank officials to not react at all. REUTERS\n",
      "\n",
      "Join ST's Telegram channel and get the latest breaking news delivered to you.\n",
      "\n",
      "Thanks for sharing!\n"
     ]
    }
   ],
   "source": [
    "print(df['FullContent'].values[0])"
   ]
  },
  {
   "cell_type": "code",
   "execution_count": 73,
   "metadata": {},
   "outputs": [],
   "source": [
    "df2= pd.read_parquet('../data/ed_output.parquet')"
   ]
  },
  {
   "cell_type": "code",
   "execution_count": 75,
   "metadata": {},
   "outputs": [
    {
     "data": {
      "text/plain": [
       "array([{'events': array([{'offset': array([207, 211]), 'trigger': 'sale', 'type': 'transferownership'},\n",
       "              {'offset': array([40, 46]), 'trigger': 'income', 'type': 'transfermoney'}],\n",
       "             dtype=object), 'text': 'Apart from a divergence among different income groups, China’s consumption trend this year is polarised among sectors, as service consumption such as concerts, tourism and catering have been better than the sale of goods – which has been more suppressed by worsening income prospects, Zhang said'},\n",
       "       {'events': array([{'offset': array([78, 86]), 'trigger': 'spending', 'type': 'transfermoney'}],\n",
       "             dtype=object), 'text': 'Dan Wang, chief economist at Hang Seng Bank China, said the surge in consumer spending in tourism and entertainment – which are heavily driven by a pent-up need to get out and de-stress after COVID-19 lockdowns – is unlikely to be sustainable'},\n",
       "       {'events': array([{'offset': array([75, 81]), 'trigger': 'income', 'type': 'transfermoney'}],\n",
       "             dtype=object), 'text': '“Ultimately, those non-essential consumptions are constrained by household income, which is determined by overall economic growth'},\n",
       "       {'events': array([{'offset': array([78, 83]), 'trigger': 'sales', 'type': 'transferownership'}],\n",
       "             dtype=object), 'text': '”\\n\\nHigh-frequency data on the property sector, such as the volume of new home sales in major cities, has remained weak and shown little improvement, despite Beijing’s relaxing measures, economists said'}],\n",
       "      dtype=object)"
      ]
     },
     "execution_count": 75,
     "metadata": {},
     "output_type": "execute_result"
    }
   ],
   "source": [
    "df2.ed_results.values[0]"
   ]
  },
  {
   "cell_type": "code",
   "execution_count": null,
   "metadata": {},
   "outputs": [],
   "source": []
  }
 ],
 "metadata": {
  "kernelspec": {
   "display_name": "cs5246-project",
   "language": "python",
   "name": "python3"
  },
  "language_info": {
   "codemirror_mode": {
    "name": "ipython",
    "version": 3
   },
   "file_extension": ".py",
   "mimetype": "text/x-python",
   "name": "python",
   "nbconvert_exporter": "python",
   "pygments_lexer": "ipython3",
   "version": "3.10.0"
  }
 },
 "nbformat": 4,
 "nbformat_minor": 2
}
