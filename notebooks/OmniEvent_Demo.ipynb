{
 "cells": [
  {
   "cell_type": "code",
   "execution_count": null,
   "id": "408ba73d-3d98-4dce-9648-4e723d7d6863",
   "metadata": {},
   "outputs": [],
   "source": [
    "%load_ext autoreload\n",
    "%autoreload 2"
   ]
  },
  {
   "cell_type": "code",
   "execution_count": null,
   "id": "64ed4b0e-274c-47ac-b65b-4e93d7123908",
   "metadata": {},
   "outputs": [],
   "source": [
    "import pandas as pd\n",
    "import torch\n",
    "from tqdm import tqdm\n",
    "from OmniEvent.infer import infer, AttrDict, get_model, get_tokenizer\n",
    "\n",
    "MODEL_PATH = \"../models/s2s-mt5-ed/\""
   ]
  },
  {
   "cell_type": "code",
   "execution_count": null,
   "id": "b97eb7cf-786c-42f2-8bac-3f1e9d5629f3",
   "metadata": {},
   "outputs": [],
   "source": [
    "device = torch.device(\"cpu\")\n",
    "if torch.cuda.is_available():\n",
    "    device = 'cuda'\n",
    "\n",
    "def get_model_and_tokenizer(model_name_or_path):\n",
    "    \n",
    "    model_args = AttrDict({\n",
    "        \"paradigm\": \"seq2seq\",\n",
    "        \"model_type\": \"mt5\"\n",
    "    })\n",
    "    model = get_model(model_args, model_name_or_path)\n",
    "    model = model.to(device)\n",
    "    # tokenizer \n",
    "    tokenizer = get_tokenizer(model_name_or_path)\n",
    "\n",
    "    return model, tokenizer"
   ]
  },
  {
   "cell_type": "code",
   "execution_count": null,
   "id": "87074a43-1ac5-471e-9d38-5a3ba96d935a",
   "metadata": {},
   "outputs": [],
   "source": [
    "df = pd.read_csv(\"../data/data.csv\")\n",
    "df = df.sample(n=50, random_state=42)"
   ]
  },
  {
   "cell_type": "code",
   "execution_count": null,
   "id": "13997c95-4d29-4ac7-ae79-eb5b193153a6",
   "metadata": {},
   "outputs": [],
   "source": [
    "model, tokenizer = get_model_and_tokenizer(MODEL_PATH)"
   ]
  },
  {
   "cell_type": "code",
   "execution_count": null,
   "id": "da7ded01-bf70-4121-a914-86a3935eea50",
   "metadata": {},
   "outputs": [],
   "source": [
    "# from title\n",
    "for row in df.sample(n=10).itertuples(index=False):\n",
    "    infer(text=row.Title, task=\"ED\", model=model, tokenizer=tokenizer)"
   ]
  },
  {
   "cell_type": "code",
   "execution_count": null,
   "id": "2e339bc8-4fd3-46bd-9f06-4169b30e6712",
   "metadata": {
    "scrolled": true
   },
   "outputs": [],
   "source": [
    "# get all from articles\n",
    "ed_results = []\n",
    "for row in tqdm(df.itertuples(index=False), total=len(df)):\n",
    "    sentences = [s.strip() for s in row.Content.split(\".\")]\n",
    "    ed_article = []\n",
    "    for sentence in sentences:\n",
    "        event = infer(text=sentence, task=\"ED\", model=model, tokenizer=tokenizer)[0]\n",
    "        if len(event['events']) > 0:\n",
    "            ed_article.append(event)\n",
    "    ed_results.append(ed_article)"
   ]
  },
  {
   "cell_type": "code",
   "execution_count": null,
   "id": "dad396da-6243-4636-b989-72f36f9ce257",
   "metadata": {},
   "outputs": [],
   "source": [
    "df['ed_results'] = ed_results"
   ]
  },
  {
   "cell_type": "code",
   "execution_count": null,
   "id": "11537a2a-8b9f-4b7a-916b-e7d5cfff46aa",
   "metadata": {},
   "outputs": [],
   "source": [
    "df.iloc[0]"
   ]
  },
  {
   "cell_type": "code",
   "execution_count": null,
   "id": "198f1cb0-2f11-4587-a862-698af81b449f",
   "metadata": {},
   "outputs": [],
   "source": [
    "df.to_parquet(\"../data/ed_output.parquet\", engine=\"pyarrow\")"
   ]
  },
  {
   "cell_type": "code",
   "execution_count": null,
   "id": "ef2f0418-7446-4690-80d3-daff19c70920",
   "metadata": {},
   "outputs": [],
   "source": []
  }
 ],
 "metadata": {
  "kernelspec": {
   "display_name": "Python 3 (ipykernel)",
   "language": "python",
   "name": "python3"
  },
  "language_info": {
   "codemirror_mode": {
    "name": "ipython",
    "version": 3
   },
   "file_extension": ".py",
   "mimetype": "text/x-python",
   "name": "python",
   "nbconvert_exporter": "python",
   "pygments_lexer": "ipython3",
   "version": "3.10.16"
  }
 },
 "nbformat": 4,
 "nbformat_minor": 5
}
