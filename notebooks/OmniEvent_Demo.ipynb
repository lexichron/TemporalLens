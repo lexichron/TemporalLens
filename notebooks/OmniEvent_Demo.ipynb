{
 "cells": [
  {
   "cell_type": "code",
   "execution_count": null,
   "id": "408ba73d-3d98-4dce-9648-4e723d7d6863",
   "metadata": {},
   "outputs": [],
   "source": [
    "%load_ext autoreload\n",
    "%autoreload 2"
   ]
  },
  {
   "cell_type": "code",
   "execution_count": null,
   "id": "64ed4b0e-274c-47ac-b65b-4e93d7123908",
   "metadata": {},
   "outputs": [],
   "source": [
    "import pandas as pd\n",
    "import torch\n",
    "from OmniEvent.infer import infer, AttrDict, get_model, get_tokenizer\n",
    "\n",
    "MODEL_PATH = \"../models/s2s-mt5-ed/\""
   ]
  },
  {
   "cell_type": "code",
   "execution_count": null,
   "id": "b97eb7cf-786c-42f2-8bac-3f1e9d5629f3",
   "metadata": {},
   "outputs": [],
   "source": [
    "device = torch.device(\"cpu\")\n",
    "if torch.cuda.is_available():\n",
    "    device = 'cuda'\n",
    "\n",
    "def get_model_and_tokenizer(model_name_or_path):\n",
    "    \n",
    "    model_args = AttrDict({\n",
    "        \"paradigm\": \"seq2seq\",\n",
    "        \"model_type\": \"mt5\"\n",
    "    })\n",
    "    model = get_model(model_args, model_name_or_path)\n",
    "    model = model.to(device)\n",
    "    # tokenizer \n",
    "    tokenizer = get_tokenizer(model_name_or_path)\n",
    "\n",
    "    return model, tokenizer"
   ]
  },
  {
   "cell_type": "code",
   "execution_count": null,
   "id": "87074a43-1ac5-471e-9d38-5a3ba96d935a",
   "metadata": {},
   "outputs": [],
   "source": [
    "df = pd.read_csv(\"../data/data.csv\")"
   ]
  },
  {
   "cell_type": "code",
   "execution_count": null,
   "id": "13997c95-4d29-4ac7-ae79-eb5b193153a6",
   "metadata": {},
   "outputs": [],
   "source": [
    "model, tokenizer = get_model_and_tokenizer(MODEL_PATH)"
   ]
  },
  {
   "cell_type": "code",
   "execution_count": null,
   "id": "da7ded01-bf70-4121-a914-86a3935eea50",
   "metadata": {},
   "outputs": [],
   "source": [
    "# from title\n",
    "for row in df.sample(n=10).itertuples(index=False):\n",
    "    infer(text=row.Title, task=\"ED\", model=model, tokenizer=tokenizer)"
   ]
  }
 ],
 "metadata": {
  "kernelspec": {
   "display_name": "Python 3 (ipykernel)",
   "language": "python",
   "name": "python3"
  },
  "language_info": {
   "codemirror_mode": {
    "name": "ipython",
    "version": 3
   },
   "file_extension": ".py",
   "mimetype": "text/x-python",
   "name": "python",
   "nbconvert_exporter": "python",
   "pygments_lexer": "ipython3",
   "version": "3.10.16"
  }
 },
 "nbformat": 4,
 "nbformat_minor": 5
}
